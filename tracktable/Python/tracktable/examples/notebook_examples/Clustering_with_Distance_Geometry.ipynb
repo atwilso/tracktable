{
 "cells": [
  {
   "cell_type": "markdown",
   "metadata": {},
   "source": [
    "# Trajectory Clustering Example\n"
   ]
  },
  {
   "cell_type": "markdown",
   "metadata": {},
   "source": [
    "Copyright (c) 2014-2020 National Technology and Engineering\n",
    "Solutions of Sandia, LLC. Under the terms of Contract DE-NA0003525\n",
    "with National Technology and Engineering Solutions of Sandia, LLC,\n",
    "the U.S. Government retains certain rights in this software.\n",
    "\n",
    "Redistribution and use in source and binary forms, with or without\n",
    "modification, are permitted provided that the following conditions\n",
    "are met:\n",
    "\n",
    "1. Redistributions of source code must retain the above copyright\n",
    "   notice, this list of conditions and the following disclaimer.\n",
    "\n",
    "2. Redistributions in binary form must reproduce the above copyright\n",
    "   notice, this list of conditions and the following disclaimer in the\n",
    "   documentation and/or other materials provided with the distribution.\n",
    "  \n",
    "THIS SOFTWARE IS PROVIDED BY THE COPYRIGHT HOLDERS AND CONTRIBUTORS\n",
    "\"AS IS\" AND ANY EXPRESS OR IMPLIED WARRANTIES, INCLUDING, BUT NOT\n",
    "LIMITED TO, THE IMPLIED WARRANTIES OF MERCHANTABILITY AND FITNESS FOR\n",
    "A PARTICULAR PURPOSE ARE DISCLAIMED. IN NO EVENT SHALL THE COPYRIGHT\n",
    "HOLDER OR CONTRIBUTORS BE LIABLE FOR ANY DIRECT, INDIRECT, INCIDENTAL,\n",
    "SPECIAL, EXEMPLARY, OR CONSEQUENTIAL DAMAGES (INCLUDING, BUT NOT\n",
    "LIMITED TO, PROCUREMENT OF SUBSTITUTE GOODS OR SERVICES; LOSS OF USE,\n",
    "DATA, OR PROFITS; OR BUSINESS INTERRUPTION) HOWEVER CAUSED AND ON ANY\n",
    "THEORY OF LIABILITY, WHETHER IN CONTRACT, STRICT LIABILITY, OR TORT\n",
    "(INCLUDING NEGLIGENCE OR OTHERWISE) ARISING IN ANY WAY OUT OF THE USE\n",
    "OF THIS SOFTWARE, EVEN IF ADVISED OF THE POSSIBILITY OF SUCH DAMAGE.\n"
   ]
  },
  {
   "cell_type": "markdown",
   "metadata": {},
   "source": [
    "This notebook is an end-to-end example of how to cluster trajectories in Tracktable using distance geometry.  It goes through the following steps:\n",
    "\n",
    "1.  Read in points from a file.\n",
    "2.  Assemble those points into trajectories.\n",
    "3.  Create a distance geometry signature for each trajectory.\n",
    "4.  Using those signatures as feature vectors, compute clusters using DBSCAN.\n",
    "5.  Print statistics about each cluster.\n",
    "6.  Render the resulting clusters onto a map.\n",
    "\n",
    "Eventually, distance geometry computation will move into the library itself."
   ]
  },
  {
   "cell_type": "code",
   "execution_count": null,
   "metadata": {},
   "outputs": [],
   "source": [
    "# Set up Matplotlib to render in a notebook before anyone else can change its back end.\n",
    "%matplotlib inline\n",
    "import matplotlib\n"
   ]
  },
  {
   "cell_type": "markdown",
   "metadata": {},
   "source": [
    "Compute an N-point distance geometry signature    \n",
    "    \n",
    "Distance geometry is a technique for characterizing a curve in space by measuring the distances between evenly spaced points (called control points) on the curve. This implementation has three parameters:    \n",
    "&nbsp;&nbsp;1. A trajectory    \n",
    "&nbsp;&nbsp;2. The number of control points     \n",
    "&nbsp;&nbsp;3. Whether to normalize the distances in the signature so that the largest distance is always 1.    \n",
    "    \n",
    "The number of control points controls the fidelity of the resulting signature. The more control points, the more accurately the features of the curve can be represented, but the longer it takes to compute.    \n",
    "    \n",
    "Normalizing the distance allows shape-based comparison between trajectories by taking the dot product of their respective distance geometry signatures. The higher the dot product, the more similar the trajectories. There are many possible normalization schemes; this is the one we find useful.    \n",
    "    \n",
    "Returns:    \n",
    "&nbsp;&nbsp;tracktable.domain.feature_vectors.FeatureVectorNN where NN is the size of the resulting distance geometry signature. "
   ]
  },
  {
   "cell_type": "code",
   "execution_count": null,
   "metadata": {},
   "outputs": [],
   "source": [
    "from tracktable.domain.feature_vectors import convert_to_feature_vector\n",
    "from tracktable.core.geomath import point_at_length_fraction\n",
    "from tracktable.core.geomath import distance\n",
    "from tracktable.core.geomath import length\n",
    "\n",
    "from tracktable.analysis.distance_geometry import distance_geometry_by_distance\n"
   ]
  },
  {
   "cell_type": "markdown",
   "metadata": {},
   "source": [
    "Now we are going to gather our points from file and assemble them into trajectories. We will use the same point reader and trajectory builder we used in previous examples. Then, we will compute the cluster labels."
   ]
  },
  {
   "cell_type": "code",
   "execution_count": null,
   "metadata": {
    "scrolled": false
   },
   "outputs": [],
   "source": [
    "from tracktable.domain.terrestrial import TrajectoryPointReader\n",
    "from tracktable.analysis.assemble_trajectories import AssembleTrajectoryFromPoints\n",
    "from tracktable.analysis.dbscan import compute_cluster_labels\n",
    "from tracktable.core import data_directory\n",
    "from datetime import timedelta\n",
    "import cartopy\n",
    "import cartopy.crs\n",
    "import os.path\n",
    "\n",
    "data_filename = os.path.join(data_directory(), 'SampleFlightsUS.csv')\n",
    "inFile = open(data_filename, 'r')\n",
    "reader = TrajectoryPointReader()\n",
    "reader.input = inFile\n",
    "reader.comment_character = '#'\n",
    "reader.field_delimiter = ','\n",
    "reader.object_id_column = 0\n",
    "reader.timestamp_column = 1\n",
    "reader.coordinates[0] = 2\n",
    "reader.coordinates[1] = 3\n",
    "\n",
    "builder = AssembleTrajectoryFromPoints()\n",
    "builder.input = reader\n",
    "builder.minimum_length = 5\n",
    "builder.separation_time = timedelta(minutes=10)\n",
    "\n",
    "\n",
    "all_trajectories = list(builder)\n",
    "# Get feature vectors for each trajectory describing their distance geometry\n",
    "depth = 4\n",
    "feature_vectors = [distance_geometry_by_distance(trajectory, depth)\n",
    "                   for trajectory in all_trajectories]\n",
    "\n",
    "# DBSCAN needs two parameters\n",
    "#  1. Size of the box that defines when two points are close enough to one another to\n",
    "#     belong to the same cluster.\n",
    "#  2. Minimum number of points in a cluster\n",
    "#\n",
    "signature_length = len(feature_vectors[0])\n",
    "\n",
    "# This is the default search box size. Feel free to change to fit your data.\n",
    "search_box_span = [0.06] * signature_length\n",
    "minimum_cluster_size = 2\n",
    "\n",
    "cluster_labels = compute_cluster_labels(feature_vectors, search_box_span, minimum_cluster_size)"
   ]
  },
  {
   "cell_type": "markdown",
   "metadata": {},
   "source": [
    "Cluster Statistics    \n",
    "Here we calculate the size of the clusters we labeled."
   ]
  },
  {
   "cell_type": "code",
   "execution_count": null,
   "metadata": {},
   "outputs": [],
   "source": [
    "# Assemble each cluster as a list of its component trajectories.\n",
    "clusters = {}\n",
    "for(vertex_id, cluster_id) in cluster_labels:\n",
    "    if cluster_id not in clusters:\n",
    "        clusters[cluster_id] = [all_trajectories[vertex_id]]\n",
    "    else:\n",
    "        clusters[cluster_id].append(all_trajectories[vertex_id])\n",
    "\n",
    "# If a cluster does not have an id, it is an outlier\n",
    "def cluster_name(cid):\n",
    "    if cid == 0:\n",
    "        return 'Outliers'\n",
    "    else:\n",
    "        return 'Cluster {}'.format(cid)\n",
    "\n",
    "#Print the cluster id and the number of trajectories in the cluster.\n",
    "print(\"RESULT: Cluster sizes:\")\n",
    "for(cid, cluster) in clusters.items():\n",
    "    print(\"{}: {}\".format(cluster_name(cid), len(cluster)))\n"
   ]
  },
  {
   "cell_type": "markdown",
   "metadata": {},
   "source": [
    "Cluster Visualization    \n",
    "You can use pyplot to see your clusters that were created"
   ]
  },
  {
   "cell_type": "code",
   "execution_count": null,
   "metadata": {},
   "outputs": [],
   "source": [
    "from tracktable.render import paths\n",
    "from tracktable.domain import terrestrial\n",
    "from tracktable.render import mapmaker\n",
    "from matplotlib import pyplot\n",
    "\n",
    "sorted_ids = sorted(clusters.keys())\n",
    "for cluster_id in sorted_ids:\n",
    "    # Set up the canvas and map projection\n",
    "    figure = pyplot.figure(figsize=[20, 15])\n",
    "    axes = figure.add_subplot(1, 1, 1)\n",
    "    (mymap, map_actors) = mapmaker.mapmaker(domain = 'terrestrial', map_name='region:conus')\n",
    "    paths.draw_traffic(traffic_map = mymap, trajectory_iterable = clusters[cluster_id], transform=cartopy.crs.PlateCarree())\n",
    "    figure.suptitle('{}: {} members'.format(cluster_name(cluster_id),\n",
    "                                           len(clusters[cluster_id])))\n",
    "    pyplot.show()"
   ]
  }
 ],
 "metadata": {
  "kernelspec": {
   "display_name": "Python 3",
   "language": "python",
   "name": "python3"
  },
  "language_info": {
   "codemirror_mode": {
    "name": "ipython",
    "version": 3
   },
   "file_extension": ".py",
   "mimetype": "text/x-python",
   "name": "python",
   "nbconvert_exporter": "python",
   "pygments_lexer": "ipython3",
   "version": "3.8.6"
  }
 },
 "nbformat": 4,
 "nbformat_minor": 2
}
