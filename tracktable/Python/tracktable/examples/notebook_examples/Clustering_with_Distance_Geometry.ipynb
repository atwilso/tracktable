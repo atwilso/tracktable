{
 "cells": [
  {
   "cell_type": "markdown",
   "metadata": {},
   "source": [
    "Copyright (c) 2014-2019 National Technology and Engineering\n",
    "Solutions of Sandia, LLC. Under the terms of Contract DE-NA0003525\n",
    "with National Technology and Engineering Solutions of Sandia, LLC,\n",
    "the U.S. Government retains certain rights in this software.\n",
    "\n",
    "Redistribution and use in source and binary forms, with or without\n",
    "modification, are permitted provided that the following conditions\n",
    "are met:\n",
    "\n",
    "1. Redistributions of source code must retain the above copyright\n",
    "   notice, this list of conditions and the following disclaimer.\n",
    "\n",
    "2. Redistributions in binary form must reproduce the above copyright\n",
    "   notice, this list of conditions and the following disclaimer in the\n",
    "   documentation and/or other materials provided with the distribution.\n",
    "  \n",
    "THIS SOFTWARE IS PROVIDED BY THE COPYRIGHT HOLDERS AND CONTRIBUTORS\n",
    "\"AS IS\" AND ANY EXPRESS OR IMPLIED WARRANTIES, INCLUDING, BUT NOT\n",
    "LIMITED TO, THE IMPLIED WARRANTIES OF MERCHANTABILITY AND FITNESS FOR\n",
    "A PARTICULAR PURPOSE ARE DISCLAIMED. IN NO EVENT SHALL THE COPYRIGHT\n",
    "HOLDER OR CONTRIBUTORS BE LIABLE FOR ANY DIRECT, INDIRECT, INCIDENTAL,\n",
    "SPECIAL, EXEMPLARY, OR CONSEQUENTIAL DAMAGES (INCLUDING, BUT NOT\n",
    "LIMITED TO, PROCUREMENT OF SUBSTITUTE GOODS OR SERVICES; LOSS OF USE,\n",
    "DATA, OR PROFITS; OR BUSINESS INTERRUPTION) HOWEVER CAUSED AND ON ANY\n",
    "THEORY OF LIABILITY, WHETHER IN CONTRACT, STRICT LIABILITY, OR TORT\n",
    "(INCLUDING NEGLIGENCE OR OTHERWISE) ARISING IN ANY WAY OUT OF THE USE\n",
    "OF THIS SOFTWARE, EVEN IF ADVISED OF THE POSSIBILITY OF SUCH DAMAGE.\n"
   ]
  },
  {
   "cell_type": "markdown",
   "metadata": {},
   "source": [
    "# Trajectory Clustering Example\n",
    "\n",
    "This notebook is an end-to-end example of how to cluster trajectories in Tracktable using distance geometry.  It goes through the following steps:\n",
    "\n",
    "1.  Read in points from a file.\n",
    "2.  Assemble those points into trajectories.\n",
    "3.  Create a distance geometry signature for each trajectory.\n",
    "4.  Using those signatures as feature vectors, compute clusters using DBSCAN.\n",
    "5.  Print statistics about each cluster.\n",
    "6.  Render the resulting clusters onto a map.\n",
    "\n",
    "Eventually, distance geometry computation will move into the library itself."
   ]
  },
  {
   "cell_type": "code",
   "execution_count": 1,
   "metadata": {},
   "outputs": [],
   "source": [
    "# Set up Matplotlib to render in a notebook before anyone else can change its back end.\n",
    "import matplotlib\n",
    "#%matplotlib inline"
   ]
  },
  {
   "cell_type": "markdown",
   "metadata": {},
   "source": [
    "Compute an N-point distance geometry signature    \n",
    "    \n",
    "Distance geometry is a technique for characterizing a curve in space by measuring the distances between evenly spaced points (called control points) on the curve. This implementation has three parameters:    \n",
    "&nbsp;&nbsp;1. A trajectory    \n",
    "&nbsp;&nbsp;2. The number of control points     \n",
    "&nbsp;&nbsp;3. Whether to normalize the distances in the signature so that the largest distance is always 1.    \n",
    "    \n",
    "The number of control points controls the fidelity of the resulting signature. The more control points, the more accurately the features of the curve can be represented, but the longer it takes to compute.    \n",
    "    \n",
    "Normalizing the distance allows shape-based comparison between trajectories by taking the dot product of their respective distance geometry signatures. The higher the dot product, the more similar the trajectories. There are many possible normalization schemes; this is the one we find useful.    \n",
    "    \n",
    "Returns:    \n",
    "&nbsp;&nbsp;tracktable.domain.feature_vectors.FeatureVectorNN where NN is the size of the resulting distance geometry signature. "
   ]
  },
  {
   "cell_type": "code",
   "execution_count": 2,
   "metadata": {},
   "outputs": [],
   "source": [
    "from tracktable.domain.feature_vectors import convert_to_feature_vector\n",
    "from tracktable.core.geomath import point_at_length_fraction\n",
    "from tracktable.core.geomath import distance\n",
    "from tracktable.core.geomath import length\n",
    "\n",
    "def distance_geometry_signature(trajectory, depth = 4, normalize_distance = True):\n",
    "    # Sets the distance increment for control points based on the number of control points\n",
    "    # Calculates the fractions of the trajectory where control points should be\n",
    "    # Gives the values where the control points are located\n",
    "    \n",
    "    \n",
    "    # A signature is a collection of the calculated distances that will be converted to a feature vector\n",
    "    signature = []\n",
    "    \n",
    "    # Get the total length of the trajectory, to be used for normalization.\n",
    "    traj_length = length(trajectory)\n",
    "    \n",
    "    # Calculate fractions of the trajectory in proportional increments of 1/(depth+1), then 1/depth,\n",
    "    # all the way to an increment of 1, then calculate the distance geometries.\n",
    "    for num_control_points in range(2,depth+2):\n",
    "        \n",
    "        # the fractions of the trajectory where control points should be\n",
    "        control_point_fractions = []\n",
    "        \n",
    "        # Calculates the fractions of the trajectory where control points should be\n",
    "        control_point_increment = 1.0/(num_control_points-1)\n",
    "        control_point_fractions.extend([control_point_increment * i for i in range(num_control_points)])\n",
    "        \n",
    "        # Gives the values where the control points are located\n",
    "        control_points = [point_at_length_fraction(trajectory, t) for t in control_point_fractions]\n",
    "        \n",
    "        # If desired, normalize by the length of a single segment between control points.\n",
    "        normalization_term = 1\n",
    "        if normalize_distance and traj_length != 0:\n",
    "            normalization_term = traj_length*control_point_increment\n",
    "        \n",
    "        # Calculate the list of distances\n",
    "        for j in range(len(control_points)-1):\n",
    "            signature.append(distance(control_points[j], control_points[j+1]) / normalization_term)\n",
    "    \n",
    "    # Convert distances to a feature vector\n",
    "    return convert_to_feature_vector(signature)"
   ]
  },
  {
   "cell_type": "markdown",
   "metadata": {},
   "source": [
    "Now we are going to gather our points from file and assemble them into trajectories. We will use the same point reader and trajectory builder we used in previous examples. Then, we will compute the cluster labels."
   ]
  },
  {
   "cell_type": "code",
   "execution_count": 3,
   "metadata": {
    "scrolled": false
   },
   "outputs": [
    {
     "name": "stdout",
     "output_type": "stream",
     "text": [
      "INFO: Trajectory assembly: New trajectories will be declared after a separation of None units or 0:30:00 seconds.\n",
      "INFO: Trajectories with fewer than 5 points will be rejected.\n",
      "INFO: Done assembling trajectories.\n",
      "Testing for point decoration.  First point: (0.0111121, 29.1824, 29.1604, 43.7779, 0.521686, 44.0203, 58.3967, 0.0358583, 0.582802, 58.7417)\n",
      "DEBUG: Points are not decorated.\n"
     ]
    }
   ],
   "source": [
    "from tracktable.domain.terrestrial import TrajectoryPointReader\n",
    "from tracktable.source.trajectory import AssembleTrajectoryFromPoints\n",
    "from tracktable.analysis.dbscan import compute_cluster_labels\n",
    "from tracktable.core import data_directory\n",
    "import os.path\n",
    "\n",
    "data_filename = os.path.join(data_directory(), 'SampleFlightsUS.csv')\n",
    "inFile = open(data_filename, 'r')\n",
    "reader = TrajectoryPointReader()\n",
    "reader.input = inFile\n",
    "reader.comment_character = '#'\n",
    "reader.field_delimiter = ','\n",
    "reader.object_id_column = 0\n",
    "reader.timestamp_column = 1\n",
    "reader.longitude_column = 3\n",
    "reader.latitude_column = 2\n",
    "\n",
    "builder = AssembleTrajectoryFromPoints()\n",
    "builder.input = reader\n",
    "builder.minimum_length = 5\n",
    "builder.separation_time = timedelta(minutes=10)\n",
    "\n",
    "\n",
    "all_trajectories = list(builder)\n",
    "# Get feature vectors for each trajectory describing their distance geometry\n",
    "depth = 4\n",
    "feature_vectors = [distance_geometry_signature(trajectory, depth, True)\n",
    "                   for trajectory in all_trajectories]\n",
    "\n",
    "# DBSCAN needs two parameters\n",
    "#  1. Size of the box that defines when two points are close enough to one another to\n",
    "#     belong to the same cluster.\n",
    "#  2. Minimum number of points in a cluster\n",
    "#\n",
    "signature_length = len(feature_vectors[0])\n",
    "\n",
    "# This is the default search box size. Feel free to change to fit your data.\n",
    "search_box_span = [0.5] * signature_length\n",
    "minimum_cluster_size = 3\n",
    "\n",
    "cluster_labels = compute_cluster_labels(feature_vectors, search_box_span, minimum_cluster_size)"
   ]
  },
  {
   "cell_type": "markdown",
   "metadata": {},
   "source": [
    "Cluster Statistics    \n",
    "Here we calculate the size of the clusters we labeled."
   ]
  },
  {
   "cell_type": "code",
   "execution_count": 4,
   "metadata": {},
   "outputs": [
    {
     "name": "stdout",
     "output_type": "stream",
     "text": [
      "RESULT: Cluster sizes:\n",
      "Outliers: 18\n",
      "Cluster 1: 8\n",
      "Cluster 2: 3\n"
     ]
    }
   ],
   "source": [
    "# Assemble each cluster as a list of its component trajectories.\n",
    "clusters = {}\n",
    "for(vertex_id, cluster_id) in cluster_labels:\n",
    "    if cluster_id not in clusters:\n",
    "        clusters[cluster_id] = [all_trajectories[vertex_id]]\n",
    "    else:\n",
    "        clusters[cluster_id].append(all_trajectories[vertex_id])\n",
    "\n",
    "# If a cluster does not have an id, it is an outlier\n",
    "def cluster_name(cid):\n",
    "    if cid == 0:\n",
    "        return 'Outliers'\n",
    "    else:\n",
    "        return 'Cluster {}'.format(cid)\n",
    "\n",
    "#Print the cluster id and the number of trajectories in the cluster.\n",
    "print(\"RESULT: Cluster sizes:\")\n",
    "for(cid, cluster) in clusters.items():\n",
    "    print(\"{}: {}\".format(cluster_name(cid), len(cluster)))\n"
   ]
  },
  {
   "cell_type": "markdown",
   "metadata": {},
   "source": [
    "Cluster Visualization    \n",
    "You can use pyplot to see your clusters that were created"
   ]
  },
  {
   "cell_type": "code",
   "execution_count": 5,
   "metadata": {},
   "outputs": [
    {
     "name": "stdout",
     "output_type": "stream",
     "text": [
      "DEBUG: region_map: projection is <class 'cartopy.crs.Miller'>\n",
      "DEBUG: map successfully instantiated\n",
      "DEBUG: axes are < GeoAxes: <cartopy.crs.Miller object at 0x7f413d86f728> >\n",
      "DEBUG: region_map: map_axes are < GeoAxes: <cartopy.crs.Miller object at 0x7f413d86f728> >\n"
     ]
    },
    {
     "data": {
      "text/plain": [
       "<Figure size 2000x1500 with 1 Axes>"
      ]
     },
     "metadata": {},
     "output_type": "display_data"
    },
    {
     "name": "stdout",
     "output_type": "stream",
     "text": [
      "DEBUG: region_map: projection is <class 'cartopy.crs.Miller'>\n",
      "DEBUG: map successfully instantiated\n",
      "DEBUG: axes are < GeoAxes: <cartopy.crs.Miller object at 0x7f4134dd9f10> >\n",
      "DEBUG: region_map: map_axes are < GeoAxes: <cartopy.crs.Miller object at 0x7f4134dd9f10> >\n"
     ]
    },
    {
     "data": {
      "text/plain": [
       "<Figure size 2000x1500 with 1 Axes>"
      ]
     },
     "metadata": {},
     "output_type": "display_data"
    },
    {
     "name": "stdout",
     "output_type": "stream",
     "text": [
      "DEBUG: region_map: projection is <class 'cartopy.crs.Miller'>\n",
      "DEBUG: map successfully instantiated\n",
      "DEBUG: axes are < GeoAxes: <cartopy.crs.Miller object at 0x7f4134b19360> >\n",
      "DEBUG: region_map: map_axes are < GeoAxes: <cartopy.crs.Miller object at 0x7f4134b19360> >\n"
     ]
    },
    {
     "data": {
      "text/plain": [
       "<Figure size 2000x1500 with 1 Axes>"
      ]
     },
     "metadata": {},
     "output_type": "display_data"
    }
   ],
   "source": [
    "from tracktable.render import paths\n",
    "from tracktable.domain import terrestrial\n",
    "from tracktable.render import mapmaker\n",
    "from matplotlib import pyplot\n",
    "\n",
    "sorted_ids = sorted(clusters.keys())\n",
    "for cluster_id in sorted_ids:\n",
    "    # Set up the canvas and map projection\n",
    "    figure = pyplot.figure(figsize=[20, 15])\n",
    "    axes = figure.add_subplot(1, 1, 1)\n",
    "    (mymap, map_actors) = mapmaker.mapmaker(domain = 'terrestrial', map_name='region:conus')\n",
    "    paths.draw_traffic(traffic_map = mymap, trajectory_iterable = clusters[cluster_id])\n",
    "    figure.suptitle('{}: {} members'.format(cluster_name(cluster_id),\n",
    "                                           len(clusters[cluster_id])))\n",
    "    pyplot.show()"
   ]
  }
 ],
 "metadata": {
  "kernelspec": {
   "display_name": "Python 3",
   "language": "python",
   "name": "python3"
  },
  "language_info": {
   "codemirror_mode": {
    "name": "ipython",
    "version": 3
   },
   "file_extension": ".py",
   "mimetype": "text/x-python",
   "name": "python",
   "nbconvert_exporter": "python",
   "pygments_lexer": "ipython3",
   "version": "3.6.6"
  }
 },
 "nbformat": 4,
 "nbformat_minor": 2
}
