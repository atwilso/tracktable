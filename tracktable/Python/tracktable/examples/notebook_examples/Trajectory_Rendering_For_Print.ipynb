{
 "cells": [
  {
   "cell_type": "code",
   "execution_count": null,
   "metadata": {
    "scrolled": false
   },
   "outputs": [],
   "source": [
    "#This notebook demonstrates plotting trajectory figures for use in printed media / papers.\n",
    "\n",
    "from tracktable.domain.terrestrial import TrajectoryPointReader\n",
    "from tracktable.analysis.assemble_trajectories import AssembleTrajectoryFromPoints\n",
    "from tracktable.render.render_trajectories import render_trajectories_for_print\n",
    "from tracktable.render.render_trajectories import render_trajectories_for_print_using_tiles\n",
    "#from tracktable.analysis.dbscan import compute_cluster_labels\n",
    "from tracktable.core import data_directory\n",
    "from datetime import timedelta\n",
    "import cartopy\n",
    "import cartopy.crs\n",
    "import os.path\n",
    "\n",
    "data_filename = os.path.join(data_directory(), 'SampleFlightsUS.csv')\n",
    "inFile = open(data_filename, 'r')\n",
    "reader = TrajectoryPointReader()\n",
    "reader.input = inFile\n",
    "reader.comment_character = '#'\n",
    "reader.field_delimiter = ','\n",
    "reader.object_id_column = 0\n",
    "reader.timestamp_column = 1\n",
    "reader.coordinates[0] = 2\n",
    "reader.coordinates[1] = 3\n",
    "\n",
    "builder = AssembleTrajectoryFromPoints()\n",
    "builder.input = reader\n",
    "builder.minimum_length = 5\n",
    "builder.separation_time = timedelta(minutes=10)\n",
    "\n",
    "all_trajectories = list(builder)\n"
   ]
  },
  {
   "cell_type": "code",
   "execution_count": null,
   "metadata": {},
   "outputs": [],
   "source": [
    "# Default behavior:\n",
    "# Give it a list of trajectories and a filename.  Extension can be png, pdf, etc and it will output in correct format.\n",
    "render_trajectories_for_print(all_trajectories[0], \"myfig0.pdf\")"
   ]
  },
  {
   "cell_type": "code",
   "execution_count": null,
   "metadata": {},
   "outputs": [],
   "source": [
    "#can change colormap to any supported by matplotlib.  We recommend default (viridis) or this one (cividis)\n",
    "render_trajectories_for_print(all_trajectories[0], \"myfig0.png\", color_map='cividis')"
   ]
  },
  {
   "cell_type": "code",
   "execution_count": null,
   "metadata": {},
   "outputs": [],
   "source": [
    "#Depending on your track(s) you may need to adjust linewidth until it's wide enough to see well, but not too thick.\n",
    "render_trajectories_for_print(all_trajectories[1], \"myfig1.pdf\", linewidth=1.5)"
   ]
  },
  {
   "cell_type": "code",
   "execution_count": null,
   "metadata": {},
   "outputs": [],
   "source": [
    "# There are multiple boarders (state and coastlines) that converge at the seashore.  You may want to turn off coastlines\n",
    "render_trajectories_for_print(all_trajectories[4], \"myfig4.pdf\", draw_coastlines=False)\n",
    "#other things you can tweak:\n",
    "#                     draw_countries=True,\n",
    "#                     draw_states=True,\n",
    "#                     fill_land=True,\n",
    "#                     fill_water=True,\n",
    "#                     land_fill_color='#101010',\n",
    "#                     water_fill_color='#000000',\n",
    "#                     land_zorder=4,\n",
    "#                     water_zorder=4,\n",
    "#                     lonlat_spacing=10,\n",
    "#                     lonlat_color='#A0A0A0',\n",
    "#                     lonlat_linewidth=0.2,\n",
    "#                     lonlat_zorder=6,\n",
    "#                     coastline_color='#808080',\n",
    "#                     coastline_linewidth=1,\n",
    "#                     coastline_zorder=5,\n",
    "#                     country_color='#606060',\n",
    "#                     country_fill_color='#303030',\n",
    "#                     country_linewidth=0.5,\n",
    "#                     country_zorder=3,\n",
    "#                     state_color='#404040',\n",
    "#                     state_fill_color='none',\n",
    "#                     state_linewidth=0.3,\n",
    "#                     state_zorder=2,\n",
    "#                     draw_largest_cities=None,\n",
    "#                     draw_cities_larger_than=None,\n",
    "#                     city_label_size=12,\n",
    "#                     city_dot_size=2,\n",
    "#                     city_dot_color='white',\n",
    "#                     city_label_color='white',\n",
    "#                     city_zorder=6,\n",
    "#                     country_resolution='10m',\n",
    "#                     state_resolution='10m',\n",
    "#                     coastline_resolution='50m',\n",
    "#                     land_resolution='110m',\n",
    "#                     ocean_resolution='110m',\n",
    "#                     lake_resolution='110m',\n",
    "#                     map_bbox=None,\n",
    "#                     map_projection=None,\n",
    "#                     map_scale_length=None,\n",
    "#                     region_size=None"
   ]
  },
  {
   "cell_type": "code",
   "execution_count": null,
   "metadata": {},
   "outputs": [],
   "source": [
    "#can turn off Lat/Lon lines\n",
    "render_trajectories_for_print(all_trajectories[11], \"myfig11.pdf\", linewidth=1.4, draw_lonlat=False)"
   ]
  },
  {
   "cell_type": "code",
   "execution_count": null,
   "metadata": {},
   "outputs": [],
   "source": [
    "#You can set the size of the figure in inches (width,height) dpi defaults to 300\n",
    "#unfortunately in this case the map will remain skinny, while the figure will be wide with lots of \n",
    "#whitespace on both sides. (you may need to look at the output pdf to see the whitespace.)\n",
    "render_trajectories_for_print(all_trajectories[13], \"myfig13a.pdf\", linewidth=.9, figsize=(3,2), draw_coastlines=False)"
   ]
  },
  {
   "cell_type": "code",
   "execution_count": null,
   "metadata": {},
   "outputs": [],
   "source": [
    "#To fix that extra whitespace (unless you manually crop) you can either adjust the figsize (see pdfs for comparison)\n",
    "render_trajectories_for_print(all_trajectories[13], \"myfig13b.pdf\", linewidth=.9, figsize=(1,2), draw_coastlines=False)"
   ]
  },
  {
   "cell_type": "code",
   "execution_count": null,
   "metadata": {},
   "outputs": [],
   "source": [
    "#Or, add extra \"bounding box buffer\" (width, height) to the map such that more map is shown.  (we hope to automate this at some point)\n",
    "render_trajectories_for_print(all_trajectories[13], \"myfig13c.pdf\", linewidth=.9, figsize=(3,2), bbox_buffer=(2.7,.1), draw_coastlines=False)"
   ]
  },
  {
   "cell_type": "code",
   "execution_count": null,
   "metadata": {},
   "outputs": [],
   "source": [
    "#If you wish to show multiple trajectories with different coloring here are some options:  Multiple color_maps (_r reverses the map)\n",
    "render_trajectories_for_print(all_trajectories[14:16], \"myfig14a.pdf\", color_map=['viridis','YlOrRd_r'], linewidth=1.2)"
   ]
  },
  {
   "cell_type": "code",
   "execution_count": null,
   "metadata": {},
   "outputs": [],
   "source": [
    "#you may specify the hue for a gradient (dark -> light) using a number (0-1) or a color name or a #RRGGBB color specification (see render_trajectories() for mor info)\n",
    "render_trajectories_for_print(all_trajectories[14:16], \"myfig14b.pdf\", gradient_hue=['blue',.3], linewidth=1.2)"
   ]
  },
  {
   "cell_type": "code",
   "execution_count": null,
   "metadata": {},
   "outputs": [],
   "source": [
    "#you may specify a solid color for the lines\n",
    "render_trajectories_for_print(all_trajectories[14:16], \"myfig14c.pdf\", line_color=['blue','red'], linewidth=1.2)"
   ]
  },
  {
   "cell_type": "code",
   "execution_count": null,
   "metadata": {},
   "outputs": [],
   "source": [
    "# You can specify a specific bounding box.  In this case entire world.\n",
    "render_trajectories_for_print(all_trajectories[15:25], \"myfig15a.pdf\", map_bbox=[-180,-90,180,90], linewidth=.3, coastline_linewidth=.15, draw_countries=False, draw_states=False, dot_size=.05)"
   ]
  },
  {
   "cell_type": "code",
   "execution_count": null,
   "metadata": {},
   "outputs": [],
   "source": [
    "#You can specify a projection (LambertCylindrical)\n",
    "# See options here: https://scitools.org.uk/cartopy/docs/latest/crs/projections.html\n",
    "render_trajectories_for_print(all_trajectories[15:25], \"myfig15b.pdf\", map_projection=cartopy.crs.LambertCylindrical, map_bbox=[-180,-90,180,90], linewidth=.3, coastline_linewidth=.15, draw_countries=False, draw_states=False, dot_size=.05)"
   ]
  },
  {
   "cell_type": "code",
   "execution_count": null,
   "metadata": {},
   "outputs": [],
   "source": [
    "#if using a \"global\" projection and you want to see all of it, set map_global=True to use the limites of the projection\n",
    "render_trajectories_for_print(all_trajectories[15:25], \"myfig15c.pdf\", map_global=True, map_projection=cartopy.crs.Robinson, linewidth=.3, coastline_linewidth=.15, draw_countries=False, draw_states=False, dot_size=.05)"
   ]
  },
  {
   "cell_type": "code",
   "execution_count": null,
   "metadata": {},
   "outputs": [],
   "source": [
    "# You can add labels for lon/lat, only with certain projections.\n",
    "# Only PlateCarree and Mercator plots currently support drawing labels for lon/lats.  \n",
    "#Recommended projection (Miller) does not support automatically drawing labels.\n",
    "render_trajectories_for_print(all_trajectories[17], \"myfig17.pdf\", lonlat_labels=True, map_projection=cartopy.crs.Mercator)"
   ]
  },
  {
   "cell_type": "code",
   "execution_count": null,
   "metadata": {},
   "outputs": [],
   "source": [
    "# The border resolution can be adjusted. (Low res)\n",
    "#110m = low res, 50m = med res, 10m high res\n",
    "render_trajectories_for_print(all_trajectories[25], \"myfig25a.pdf\", linewidth=1.2, border_resolution='110m') "
   ]
  },
  {
   "cell_type": "code",
   "execution_count": null,
   "metadata": {},
   "outputs": [],
   "source": [
    "# The border resolution can be adjusted. (High res)\n",
    "render_trajectories_for_print(all_trajectories[25], \"myfig25b.pdf\", linewidth=1.2, border_resolution='10m')"
   ]
  },
  {
   "cell_type": "code",
   "execution_count": null,
   "metadata": {},
   "outputs": [],
   "source": [
    "#using this method you can use map tiles instead of Cartopy geometry.  \n",
    "render_trajectories_for_print_using_tiles(all_trajectories[25], \"myfig25c.pdf\", linewidth=1.2)"
   ]
  },
  {
   "cell_type": "code",
   "execution_count": null,
   "metadata": {},
   "outputs": [],
   "source": [
    "# You can change the zoom level \n",
    "render_trajectories_for_print_using_tiles(all_trajectories[25], \"myfig25d.pdf\", linewidth=1.2, tiles_zoom_level=2)"
   ]
  },
  {
   "cell_type": "code",
   "execution_count": null,
   "metadata": {},
   "outputs": [],
   "source": [
    "# And should adjust the zoom level until the label font is correclty sized. \n",
    "render_trajectories_for_print_using_tiles(all_trajectories[25], \"myfig25e.pdf\", linewidth=1.2, tiles_zoom_level=7)"
   ]
  }
 ],
 "metadata": {
  "kernelspec": {
   "display_name": "Python 3",
   "language": "python",
   "name": "python3"
  },
  "language_info": {
   "codemirror_mode": {
    "name": "ipython",
    "version": 3
   },
   "file_extension": ".py",
   "mimetype": "text/x-python",
   "name": "python",
   "nbconvert_exporter": "python",
   "pygments_lexer": "ipython3",
   "version": "3.7.4"
  }
 },
 "nbformat": 4,
 "nbformat_minor": 2
}