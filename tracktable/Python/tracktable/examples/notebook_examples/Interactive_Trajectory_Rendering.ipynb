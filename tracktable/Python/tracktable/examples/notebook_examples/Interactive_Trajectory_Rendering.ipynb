{
 "cells": [
  {
   "source": [
    "# Interactive Rendering Trajectories Example"
   ],
   "cell_type": "markdown",
   "metadata": {}
  },
  {
   "source": [
    "<span style=\"color:blue\">Copyright (c) 2014-2020 National Technology and Engineering\n",
    "Solutions of Sandia, LLC. Under the terms of Contract DE-NA0003525\n",
    "with National Technology and Engineering Solutions of Sandia, LLC,\n",
    "the U.S. Government retains certain rights in this software.</span>    \n",
    "    \n",
    "<span style=\"color:blue\">Redistribution and use in source and binary forms, with or without\n",
    "modification, are permitted provided that the following conditions\n",
    "are met:</span>    \n",
    "    \n",
    "&nbsp;&nbsp;&nbsp;&nbsp;<span style=\"color:green\">1. Redistributions of source code must retain the above copyright\n",
    "   notice, this list of conditions and the following disclaimer.</span>    \n",
    "    \n",
    "&nbsp;&nbsp;&nbsp;&nbsp;<span style=\"color:green\">2. Redistributions in binary form must reproduce the above copyright\n",
    "   notice, this list of conditions and the following disclaimer in the\n",
    "   documentation and/or other materials provided with the distribution.</span>    \n",
    "    \n",
    "<span style=\"color:blue\">THIS SOFTWARE IS PROVIDED BY THE COPYRIGHT HOLDERS AND CONTRIBUTORS\n",
    "\"AS IS\" AND ANY EXPRESS OR IMPLIED WARRANTIES, INCLUDING, BUT NOT\n",
    "LIMITED TO, THE IMPLIED WARRANTIES OF MERCHANTABILITY AND FITNESS FOR\n",
    "A PARTICULAR PURPOSE ARE DISCLAIMED. IN NO EVENT SHALL THE COPYRIGHT\n",
    "HOLDER OR CONTRIBUTORS BE LIABLE FOR ANY DIRECT, INDIRECT, INCIDENTAL,\n",
    "SPECIAL, EXEMPLARY, OR CONSEQUENTIAL DAMAGES (INCLUDING, BUT NOT\n",
    "LIMITED TO, PROCUREMENT OF SUBSTITUTE GOODS OR SERVICES; LOSS OF USE,\n",
    "DATA, OR PROFITS; OR BUSINESS INTERRUPTION) HOWEVER CAUSED AND ON ANY\n",
    "THEORY OF LIABILITY, WHETHER IN CONTRACT, STRICT LIABILITY, OR TORT\n",
    "(INCLUDING NEGLIGENCE OR OTHERWISE) ARISING IN ANY WAY OUT OF THE USE\n",
    "OF THIS SOFTWARE, EVEN IF ADVISED OF THE POSSIBILITY OF SUCH DAMAGE.</span>"
   ],
   "cell_type": "markdown",
   "metadata": {}
  },
  {
   "source": [
    "Tutorial showing many of the options available for rendering trajectories."
   ],
   "cell_type": "markdown",
   "metadata": {}
  },
  {
   "source": [
    "from tracktable.domain.terrestrial import TrajectoryPointReader\n",
    "from tracktable.source.trajectory import AssembleTrajectoryFromPoints\n",
    "from tracktable.render.render_trajectories import render_trajectories, render_trajectories_separate\n",
    "from tracktable.core import data_directory\n",
    "import os.path\n",
    "\n",
    "#Load sample data for rendering exmples\n",
    "\n",
    "#Read in points and assemble trajectories\n",
    "inFile = open(os.path.join(data_directory(), 'SampleFlightsUS.csv'))\n",
    "reader = TrajectoryPointReader()\n",
    "reader.input = inFile\n",
    "reader.comment_character = '#'\n",
    "reader.field_delimiter = ','\n",
    "# Set columns for data we care about\n",
    "reader.object_id_column = 0\n",
    "reader.timestamp_column = 1\n",
    "reader.coordinates[0] = 2\n",
    "reader.coordinates[1] = 3\n",
    "reader.set_real_field_column('altitude',4) #could be ints\n",
    "reader.set_real_field_column('heading',5)\n",
    "reader.set_real_field_column('speed',6)\n",
    "\n",
    "builder = AssembleTrajectoryFromPoints()\n",
    "builder.input = reader\n",
    "builder.minimum_length = 3 \n",
    "\n",
    "trajs = list(builder.trajectories())\n",
    "\n",
    "few_trajs = [traj for traj in trajs if traj[0].object_id == 'SSS019' or traj[0].object_id == 'TTT020']"
   ],
   "cell_type": "code",
   "metadata": {},
   "execution_count": null,
   "outputs": []
  },
  {
   "cell_type": "code",
   "execution_count": null,
   "metadata": {},
   "outputs": [],
   "source": [
    "from tracktable.render.render_trajectories import render_trajectories\n",
    "\n",
    "# The only required parameter is a list of trajectories.  It's that simple.\n",
    "render_trajectories(few_trajs)\n",
    "# The default rendering assigns each object ID a hue which transitions from dark to light as the trajectory \n",
    "# progresses.  In addition, by default, a white dot shows the point with the latest timestamp in the trajectory. \n",
    "# Hovering over a trajectory reveals its object_id, and clicking on a trajectory give the object_id and start and stop\n",
    "# time for the entire trajectory"
   ]
  },
  {
   "cell_type": "code",
   "execution_count": null,
   "metadata": {},
   "outputs": [],
   "source": [
    "# Can use a different backend (default in Jupyter Notebooks is folium, default otherwise is cartopy) \n",
    "# render_trajectories(few_trajs, backend='folium')\n",
    "render_trajectories(few_trajs, backend='cartopy')"
   ]
  },
  {
   "cell_type": "code",
   "execution_count": null,
   "metadata": {},
   "outputs": [],
   "source": [
    "# Can render a single trajectory\n",
    "render_trajectories(trajs[3])"
   ]
  },
  {
   "cell_type": "code",
   "execution_count": null,
   "metadata": {},
   "outputs": [],
   "source": [
    "# Can render a set of trajectories separately (each with their own map)\n",
    "render_trajectories_separate(few_trajs)"
   ]
  },
  {
   "cell_type": "code",
   "execution_count": null,
   "metadata": {},
   "outputs": [],
   "source": [
    "# You can change map tiles\n",
    "render_trajectories(trajs[3], tiles='CartoDBPositron')\n",
    "# Options include:\n",
    "# OpenStreetMaps\n",
    "# StamenTerrain \n",
    "# StamenToner\n",
    "# StamenWatercolor\n",
    "# CartoDBPositron\n",
    "# CartoDBDark_Matter"
   ]
  },
  {
   "cell_type": "code",
   "execution_count": null,
   "metadata": {},
   "outputs": [],
   "source": [
    "# You can specify a map tile server by URL # must include attribution(attr) string\n",
    "render_trajectories(trajs[3], tiles='http://server.arcgisonline.com/ArcGIS/rest/services/NatGeo_World_Map/MapServer/tile/{z}/{y}/{x}', attr='ESRI')"
   ]
  },
  {
   "cell_type": "code",
   "execution_count": null,
   "metadata": {},
   "outputs": [],
   "source": [
    "# Can specify a bounding box (default extent shows all input trajectories)\n",
    "# format of map_bbox is  [minLon, maxLon, minLat, maxLat]\n",
    "render_trajectories(few_trajs, map_bbox=[-108.081, -104.811, 39.3078, 41.27])"
   ]
  },
  {
   "cell_type": "code",
   "execution_count": null,
   "metadata": {},
   "outputs": [],
   "source": [
    "# Can specify specific object_ids to render as a string...\n",
    "render_trajectories(trajs, obj_ids=\"VVV022\")"
   ]
  },
  {
   "cell_type": "code",
   "execution_count": null,
   "metadata": {},
   "outputs": [],
   "source": [
    "# ... or a list of strings\n",
    "render_trajectories(trajs, obj_ids=[\"JJJ010\", \"LLL012\"])"
   ]
  },
  {
   "cell_type": "code",
   "execution_count": null,
   "metadata": {},
   "outputs": [],
   "source": [
    "# Can specify a solid color for all trajectories ...\n",
    "render_trajectories([trajs[0], trajs[12]], line_color = 'red')\n",
    "#Other color strings include: ‘red’, ‘blue’, ‘green’, ‘purple’, ‘orange’, ‘darkred’,’lightred’, ‘beige’, \n",
    "#‘darkblue’, ‘darkgreen’, ‘cadetblue’, ‘darkpurple’, ‘white’, ‘pink’, ‘lightblue’, ‘lightgreen’, ‘gray’, \n",
    "#‘black’, ‘lightgray’"
   ]
  },
  {
   "cell_type": "code",
   "execution_count": null,
   "metadata": {},
   "outputs": [],
   "source": [
    "# ... or a list of colors.  Note you can use hex string notation for the colors as well.\n",
    "render_trajectories([trajs[0], trajs[12]], line_color = ['red', '#0000FF'])\n",
    "# Hex string notation is of the format #RRGGBBAA, \n",
    "# Red Green Blue values from 0 to 255 as 2 hex digits each, \n",
    "# and an OPTIONAL alpha (opacity) value with same range and format."
   ]
  },
  {
   "cell_type": "code",
   "execution_count": null,
   "metadata": {},
   "outputs": [],
   "source": [
    "# The trajectories can be colored using a colormap ... \n",
    "render_trajectories([trajs[0], trajs[12]], color_map = 'BrBG')"
   ]
  },
  {
   "cell_type": "code",
   "execution_count": null,
   "metadata": {},
   "outputs": [],
   "source": [
    "# ... or a list of color maps\n",
    "render_trajectories([trajs[0], trajs[12]], color_map = ['BrBG', 'plasma'])"
   ]
  },
  {
   "cell_type": "code",
   "execution_count": null,
   "metadata": {},
   "outputs": [],
   "source": [
    "# You can even define your own color maps\n",
    "import matplotlib.cm\n",
    "import numpy as np\n",
    "blues_map = matplotlib.cm.get_cmap('Blues', 256)\n",
    "newcolors = blues_map(np.linspace(0, 1, 256))\n",
    "pink = np.array([248/256, 24/256, 148/256, 1])\n",
    "newcolors[:25, :] = pink # pink for takeoff (first ~10% of trajectory)\n",
    "render_trajectories([trajs[0], trajs[12]], color_map = matplotlib.colors.ListedColormap(newcolors))"
   ]
  },
  {
   "cell_type": "code",
   "execution_count": null,
   "metadata": {},
   "outputs": [],
   "source": [
    "# You can specify a hue as a float between 0 and 1 which will be used to create a gradient that transitions form dark \n",
    "# to light as the trajectory progresses \n",
    "render_trajectories([trajs[0], trajs[12]], gradient_hue = .5)"
   ]
  },
  {
   "cell_type": "code",
   "execution_count": null,
   "metadata": {},
   "outputs": [],
   "source": [
    "# As with other color options, a list of hues can be used as well.\n",
    "render_trajectories([trajs[0], trajs[12]], gradient_hue = [.25, .66])"
   ]
  },
  {
   "cell_type": "code",
   "execution_count": null,
   "metadata": {},
   "outputs": [],
   "source": [
    "# Hues can be derived from an rgb color specified as a color name or hex string color\n",
    "render_trajectories([trajs[0], trajs[12]], gradient_hue = ['#00FF00', 'orange'])"
   ]
  },
  {
   "cell_type": "code",
   "execution_count": null,
   "metadata": {},
   "outputs": [],
   "source": [
    "#You can specify custom scalar mappings.  In this case the color gets lighter as altitude increases.\n",
    "import matplotlib.colors\n",
    "def altitude_generator(trajectory):\n",
    "    #N-1 segments show altitude at beginning point\n",
    "    return [point.properties['altitude'] for point in trajectory[:-1]]\n",
    "#Note: be sure to include the generator, and the scale for mapping scalars to the color map.  \n",
    "render_trajectories([trajs[16]], trajectory_scalar_generator = altitude_generator, \n",
    "                    color_scale = matplotlib.colors.Normalize(vmin=0, vmax=35000))"
   ]
  },
  {
   "cell_type": "code",
   "execution_count": null,
   "metadata": {},
   "outputs": [],
   "source": [
    "#The linewidth of the trajectories can be adjusted.  Default is 2.5 in folium\n",
    "render_trajectories(trajs[26], linewidth=5)"
   ]
  },
  {
   "cell_type": "code",
   "execution_count": null,
   "metadata": {},
   "outputs": [],
   "source": [
    "# You can also adjust the width of the trajectory by some scalar.  In this case the trajectory starts out very narrow\n",
    "# and gets wider at each point it passes (as it progresses), but the color remains green throughout. \n",
    "from tracktable.render.render_trajectories import progress_linewidth_generator\n",
    "render_trajectories(trajs[28], line_color='green', trajectory_linewidth_generator=progress_linewidth_generator)"
   ]
  },
  {
   "cell_type": "code",
   "execution_count": null,
   "metadata": {},
   "outputs": [],
   "source": [
    "# You can also show the sample points along the trajectory. By default the points are colored consistent with line \n",
    "# segments\n",
    "render_trajectories(trajs[15], show_points=True) \n",
    "# Hovering over a point gives the timestamp of that point and by default, clicking on a point reveals the object_id,\n",
    "# timestamp, Latitude, and Longitude of that point."
   ]
  },
  {
   "cell_type": "code",
   "execution_count": null,
   "metadata": {},
   "outputs": [],
   "source": [
    "# You can specify any set of properties to view when clicking on a point:\n",
    "render_trajectories(trajs[15], show_points=True, point_popup_properties = ['altitude', 'heading', 'speed'])\n",
    "# Clicking on a point now additionaly reveals the altitude, heading, and speed."
   ]
  },
  {
   "cell_type": "code",
   "execution_count": null,
   "metadata": {},
   "outputs": [],
   "source": [
    "# The colors of all points can be specified\n",
    "render_trajectories(trajs[15], point_color='red', show_points=True)"
   ]
  },
  {
   "cell_type": "code",
   "execution_count": null,
   "metadata": {},
   "outputs": [],
   "source": [
    "# The color and radius of the dot at the close of the trajectory can be changed\n",
    "render_trajectories(trajs[24], dot_color='red', dot_size=5)"
   ]
  },
  {
   "cell_type": "code",
   "execution_count": null,
   "metadata": {},
   "outputs": [],
   "source": [
    "# To not show the dot at the close of the trajectory:\n",
    "render_trajectories(trajs[24], show_dot=False)"
   ]
  },
  {
   "cell_type": "code",
   "execution_count": null,
   "metadata": {},
   "outputs": [],
   "source": [
    "# In folium the distance geometry calculations can be shown.  Default depth is 4\n",
    "render_trajectories(trajs[25], show_distance_geometry=True, distance_geometry_depth=4)\n",
    "#red are level 1 lines\n",
    "#blue are leve 2 lines\n",
    "#yellow are level 3 lines\n",
    "# and purple are level 4 lines\n",
    "#hovering over the lines gives the normalized length of each line"
   ]
  },
  {
   "cell_type": "code",
   "execution_count": null,
   "metadata": {},
   "outputs": [],
   "source": [
    "# Save trajectories (as html file) to a default unique filename (trajs+datetimestamp+.html)\n",
    "render_trajectories(trajs[20:22], save=True)"
   ]
  },
  {
   "cell_type": "code",
   "execution_count": null,
   "metadata": {},
   "outputs": [],
   "source": [
    "# Save trajectories (as html file) to a given filename/path and don't render to the notebook \n",
    "# (; at end of line (or assigning output to a variable) causes map to not be rendered in the notebook)\n",
    "render_trajectories(trajs[23], save=True, filename='tmp_my_tracks.html')"
   ]
  },
  {
   "cell_type": "code",
   "execution_count": null,
   "metadata": {},
   "outputs": [],
   "source": [
    "# If render_trajectories is not the last function in a cell the map won't render\n",
    "render_trajectories(trajs[24])\n",
    "print('A nice trajectory')"
   ]
  },
  {
   "cell_type": "code",
   "execution_count": null,
   "metadata": {},
   "outputs": [],
   "source": [
    "# To overcome this, set show=True to force rendering to the notebook\n",
    "render_trajectories(trajs[24], show=True)\n",
    "print('A nice trajectory')"
   ]
  },
  {
   "cell_type": "code",
   "execution_count": null,
   "metadata": {},
   "outputs": [],
   "source": [
    "# or, assign the returned map to a variable, and list the variable name alone on the last line of the cell\n",
    "m=render_trajectories(trajs[24])\n",
    "print('A nice trajectory')\n",
    "m"
   ]
  },
  {
   "cell_type": "code",
   "execution_count": null,
   "metadata": {},
   "outputs": [],
   "source": [
    "# Can use cartopy as backend and save imgaes\n",
    "render_trajectories(trajs[23], backend='cartopy', save=True, filename='tmp_my_tracks.png')"
   ]
  }
 ],
 "metadata": {
  "kernelspec": {
   "name": "python3",
   "display_name": "Python 3.8.5 64-bit",
   "metadata": {
    "interpreter": {
     "hash": "31f2aee4e71d21fbe5cf8b01ff0e069b9275f58929596ceb00d14d90e3e16cd6"
    }
   }
  },
  "language_info": {
   "codemirror_mode": {
    "name": "ipython",
    "version": 3
   },
   "file_extension": ".py",
   "mimetype": "text/x-python",
   "name": "python",
   "nbconvert_exporter": "python",
   "pygments_lexer": "ipython3",
   "version": "3.8.5-final"
  }
 },
 "nbformat": 4,
 "nbformat_minor": 2
}