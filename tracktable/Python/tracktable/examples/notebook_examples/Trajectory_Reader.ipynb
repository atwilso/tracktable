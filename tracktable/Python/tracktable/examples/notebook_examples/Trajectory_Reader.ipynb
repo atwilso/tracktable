{
 "cells": [
  {
   "cell_type": "markdown",
   "metadata": {},
   "source": [
    "# Trajectory Reader Example"
   ]
  },
  {
   "cell_type": "markdown",
   "metadata": {},
   "source": [
    "<span style=\"color:blue\">Copyright (c) 2014-2020 National Technology and Engineering\n",
    "Solutions of Sandia, LLC. Under the terms of Contract DE-NA0003525\n",
    "with National Technology and Engineering Solutions of Sandia, LLC,\n",
    "the U.S. Government retains certain rights in this software.</span>    \n",
    "    \n",
    "<span style=\"color:blue\">Redistribution and use in source and binary forms, with or without\n",
    "modification, are permitted provided that the following conditions\n",
    "are met:</span>    \n",
    "    \n",
    "&nbsp;&nbsp;&nbsp;&nbsp;<span style=\"color:green\">1. Redistributions of source code must retain the above copyright\n",
    "   notice, this list of conditions and the following disclaimer.</span>    \n",
    "    \n",
    "&nbsp;&nbsp;&nbsp;&nbsp;<span style=\"color:green\">2. Redistributions in binary form must reproduce the above copyright\n",
    "   notice, this list of conditions and the following disclaimer in the\n",
    "   documentation and/or other materials provided with the distribution.</span>    \n",
    "    \n",
    "<span style=\"color:blue\">THIS SOFTWARE IS PROVIDED BY THE COPYRIGHT HOLDERS AND CONTRIBUTORS\n",
    "\"AS IS\" AND ANY EXPRESS OR IMPLIED WARRANTIES, INCLUDING, BUT NOT\n",
    "LIMITED TO, THE IMPLIED WARRANTIES OF MERCHANTABILITY AND FITNESS FOR\n",
    "A PARTICULAR PURPOSE ARE DISCLAIMED. IN NO EVENT SHALL THE COPYRIGHT\n",
    "HOLDER OR CONTRIBUTORS BE LIABLE FOR ANY DIRECT, INDIRECT, INCIDENTAL,\n",
    "SPECIAL, EXEMPLARY, OR CONSEQUENTIAL DAMAGES (INCLUDING, BUT NOT\n",
    "LIMITED TO, PROCUREMENT OF SUBSTITUTE GOODS OR SERVICES; LOSS OF USE,\n",
    "DATA, OR PROFITS; OR BUSINESS INTERRUPTION) HOWEVER CAUSED AND ON ANY\n",
    "THEORY OF LIABILITY, WHETHER IN CONTRACT, STRICT LIABILITY, OR TORT\n",
    "(INCLUDING NEGLIGENCE OR OTHERWISE) ARISING IN ANY WAY OUT OF THE USE\n",
    "OF THIS SOFTWARE, EVEN IF ADVISED OF THE POSSIBILITY OF SUCH DAMAGE.</span>"
   ]
  },
  {
   "cell_type": "markdown",
   "metadata": {},
   "source": [
    "**Purpose:** Demonstrate how to create and use a Trajectory Reader    \n",
    "If you have a file of already formed trajectories, you can use the Trajectory Reader to read them from file. Like the point reader, you can iterate over the trajectories you have and access the properties of the points in each trajectory."
   ]
  },
  {
   "cell_type": "code",
   "execution_count": null,
   "metadata": {},
   "outputs": [],
   "source": [
    "from tracktable.domain.terrestrial import TrajectoryReader\n",
    "from tracktable.core import data_directory\n",
    "import os.path"
   ]
  },
  {
   "cell_type": "markdown",
   "metadata": {},
   "source": [
    "The trajectory reader is set up in a similar way as a point reader. In the example below, we give it a file containing trajectories and we use the default which is the terrestrial point reader. Terrestrial is typically used on real data. In order to access the trajectories, iterate over the reader."
   ]
  },
  {
   "cell_type": "code",
   "execution_count": null,
   "metadata": {},
   "outputs": [],
   "source": [
    "data_filename = os.path.join(data_directory(), 'SampleTrajectories.traj')\n",
    "inFile = open(data_filename, 'r')\n",
    "reader = TrajectoryReader()\n",
    "reader.input = inFile\n",
    "i = 1                                            # Used to limit the number of results we see\n",
    "for x in reader:                                 # Each object in the reader is an iterator pointer here\n",
    "    print(*x)\n",
    "    print(\"\\n\")\n",
    "    i -= 1\n",
    "    if i <= 0:\n",
    "        break"
   ]
  },
  {
   "cell_type": "markdown",
   "metadata": {},
   "source": [
    "Note that by iterating over the reader, you get a collection of points together as trajectories. Just like the point reader, you can edit the delimiting character and comment character as well as the column properties."
   ]
  }
 ],
 "metadata": {
  "kernelspec": {
   "display_name": "Python 3",
   "language": "python",
   "name": "python3"
  },
  "language_info": {
   "codemirror_mode": {
    "name": "ipython",
    "version": 3
   },
   "file_extension": ".py",
   "mimetype": "text/x-python",
   "name": "python",
   "nbconvert_exporter": "python",
   "pygments_lexer": "ipython3",
   "version": "3.8.6"
  }
 },
 "nbformat": 4,
 "nbformat_minor": 2
}
