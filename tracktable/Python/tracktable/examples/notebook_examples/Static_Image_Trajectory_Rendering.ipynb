{
 "cells": [
  {
   "cell_type": "markdown",
   "metadata": {},
   "source": [
    "\n",
    "# Static Image Trajectory Rendering Example"
   ]
  },
  {
   "cell_type": "markdown",
   "metadata": {},
   "source": [
    "<span style=\"color:blue\">Copyright (c) 2014-2020 National Technology and Engineering\n",
    "Solutions of Sandia, LLC. Under the terms of Contract DE-NA0003525\n",
    "with National Technology and Engineering Solutions of Sandia, LLC,\n",
    "the U.S. Government retains certain rights in this software.</span>    \n",
    "    \n",
    "<span style=\"color:blue\">Redistribution and use in source and binary forms, with or without\n",
    "modification, are permitted provided that the following conditions\n",
    "are met:</span>    \n",
    "    \n",
    "&nbsp;&nbsp;&nbsp;&nbsp;<span style=\"color:green\">1. Redistributions of source code must retain the above copyright\n",
    "   notice, this list of conditions and the following disclaimer.</span>    \n",
    "    \n",
    "&nbsp;&nbsp;&nbsp;&nbsp;<span style=\"color:green\">2. Redistributions in binary form must reproduce the above copyright\n",
    "   notice, this list of conditions and the following disclaimer in the\n",
    "   documentation and/or other materials provided with the distribution.</span>    \n",
    "    \n",
    "<span style=\"color:blue\">THIS SOFTWARE IS PROVIDED BY THE COPYRIGHT HOLDERS AND CONTRIBUTORS\n",
    "\"AS IS\" AND ANY EXPRESS OR IMPLIED WARRANTIES, INCLUDING, BUT NOT\n",
    "LIMITED TO, THE IMPLIED WARRANTIES OF MERCHANTABILITY AND FITNESS FOR\n",
    "A PARTICULAR PURPOSE ARE DISCLAIMED. IN NO EVENT SHALL THE COPYRIGHT\n",
    "HOLDER OR CONTRIBUTORS BE LIABLE FOR ANY DIRECT, INDIRECT, INCIDENTAL,\n",
    "SPECIAL, EXEMPLARY, OR CONSEQUENTIAL DAMAGES (INCLUDING, BUT NOT\n",
    "LIMITED TO, PROCUREMENT OF SUBSTITUTE GOODS OR SERVICES; LOSS OF USE,\n",
    "DATA, OR PROFITS; OR BUSINESS INTERRUPTION) HOWEVER CAUSED AND ON ANY\n",
    "THEORY OF LIABILITY, WHETHER IN CONTRACT, STRICT LIABILITY, OR TORT\n",
    "(INCLUDING NEGLIGENCE OR OTHERWISE) ARISING IN ANY WAY OUT OF THE USE\n",
    "OF THIS SOFTWARE, EVEN IF ADVISED OF THE POSSIBILITY OF SUCH DAMAGE.</span>"
   ]
  },
  {
   "cell_type": "markdown",
   "metadata": {},
   "source": [
    "**Purpose:** Sample code to render assembled trajectories     \n",
    "In some cases, you may wish to read in trajectories with certain constraints. For example, we can have trajectories with a minimum number of points. Or we acknowledge that the points in the trajectory should be within a certain time and/or distance threshold to belong to the same trajectory. The Trajectory Builder does this."
   ]
  },
  {
   "cell_type": "markdown",
   "metadata": {},
   "source": [
    "**Imports**"
   ]
  },
  {
   "cell_type": "code",
   "execution_count": null,
   "metadata": {},
   "outputs": [],
   "source": [
    "from tracktable.domain import terrestrial\n",
    "from tracktable.render import mapmaker\n",
    "from tracktable.core import data_directory\n",
    "from tracktable.render import paths\n",
    "\n",
    "import matplotlib\n",
    "from matplotlib import pyplot\n",
    "\n",
    "import cartopy\n",
    "import cartopy.crs\n",
    "\n",
    "import os.path"
   ]
  },
  {
   "cell_type": "markdown",
   "metadata": {},
   "source": [
    "**Requirements**: We will need data points built into trajectories. Replace the following with your own code to build the trajectories or use the provided example."
   ]
  },
  {
   "cell_type": "code",
   "execution_count": null,
   "metadata": {},
   "outputs": [],
   "source": [
    "trajectory_filename = os.path.join(data_directory(), 'SampleTrajectories.traj')\n",
    "infile = open(trajectory_filename, 'r')\n",
    "trajectories = terrestrial.TrajectoryReader()\n",
    "trajectories.input = infile"
   ]
  },
  {
   "cell_type": "code",
   "execution_count": null,
   "metadata": {},
   "outputs": [],
   "source": [
    "# JUPYTER NOTE: Jupyter will show you the state of the figure when you exit\n",
    "# the cell in which you created it.  You cannot apply different effects in\n",
    "# different cells as far as I know.  To work around this, just put all your\n",
    "# different things in functions, then call those functions one after another\n",
    "# in a single cell.\n",
    "\n",
    "# Set up the canvas and map projection\n",
    "# 8 x 6 inches at 100 dpi = 800x600 image\n",
    "figure = pyplot.figure(dpi=100, figsize=(8, 6))\n",
    "(mymap, map_actors) = mapmaker.mapmaker(domain='terrestrial',\n",
    "                                        map_name='region:world')\n",
    "\n",
    "color_scale = matplotlib.colors.Normalize(vmin=0, vmax=1)\n",
    "paths.draw_traffic(traffic_map = mymap, trajectory_iterable = trajectories, transform=cartopy.crs.PlateCarree())"
   ]
  },
  {
   "cell_type": "markdown",
   "metadata": {
    "collapsed": true
   },
   "source": [
    "It is possible the scale of the selected map is not appropriate for the trajectories you wish to render. The rendered example map is of the continental United States (CONUS for short). This is one of the preset convenience maps and was set as the map name when we called the render function. Other convenience maps are europe, north_america, south_america, australia and world.  \n",
    "\n",
    "Let us expand our view using another custom map."
   ]
  },
  {
   "cell_type": "code",
   "execution_count": null,
   "metadata": {},
   "outputs": [],
   "source": [
    "trajectory_filename = os.path.join(data_directory(), 'SampleTrajectories.traj')\n",
    "infile = open(trajectory_filename, 'r')\n",
    "trajectories = terrestrial.TrajectoryReader()\n",
    "trajectories.input = infile\n",
    "\n",
    "# Set up the canvas and map projection\n",
    "figure = pyplot.figure(dpi=100, figsize=(8, 6))\n",
    "(mymap, map_actors) = mapmaker.mapmaker(domain='terrestrial',\n",
    "                                        map_name='region:conus')\n",
    "\n",
    "color_scale = matplotlib.colors.Normalize(vmin=0, vmax=1)\n",
    "paths.draw_traffic(traffic_map = mymap, trajectory_iterable = trajectories, transform=cartopy.crs.PlateCarree())"
   ]
  },
  {
   "cell_type": "markdown",
   "metadata": {},
   "source": [
    "While we have the trajectories we want, they're kinda hard to see. We can customize our trajectories by adding color, changing the linewidth, etc."
   ]
  },
  {
   "cell_type": "code",
   "execution_count": null,
   "metadata": {},
   "outputs": [],
   "source": [
    "from tracktable.feature import annotations\n",
    "import numpy\n",
    "\n",
    "# Get trajectories and set up the map figure\n",
    "trajectory_filename = os.path.join(data_directory(), 'SampleTrajectories.traj')\n",
    "infile = open(trajectory_filename, 'r')\n",
    "trajectories = terrestrial.TrajectoryReader()\n",
    "trajectories.input = infile\n",
    "figure = pyplot.figure(dpi=100, figsize=(8, 6))\n",
    "(mymap, map_actors) = mapmaker.mapmaker(domain='terrestrial',\n",
    "                                        map_name='region:world')\n",
    "\n",
    "# Create a couple functions to annotate our trajectories with our options. \n",
    "# \"Progress\" produces the multi color trajectories to see the beginning, midpoints, and ends easier\n",
    "# The linewidth generator is a function passed to the renderer that sets the width across the entire \n",
    "# trajectory. Other options include \"taper\" that changes the line width from start to end of the \n",
    "# trajectory.\n",
    "\n",
    "annotator = annotations.retrieve_feature_function('progress')\n",
    "def annotation_generator(traj_source):\n",
    "    for trajectory in traj_source:\n",
    "        yield(annotator(trajectory))\n",
    "def constant_linewidth_generator(linewidth = 2):\n",
    "    def linewidth_generator(trajectory):\n",
    "        scalars = numpy.zeros(len(trajectory))\n",
    "        scalars += float(linewidth)\n",
    "        return scalars\n",
    "    return linewidth_generator\n",
    "\n",
    "# Decorates each trajectory with the preferences\n",
    "trajectories_to_render = annotation_generator(trajectories)\n",
    "scalar_generator = annotations.retrieve_feature_accessor(\"progress\")\n",
    "linewidth_generator = constant_linewidth_generator(2)\n",
    "# Set the color we want. This produces a heat red color\n",
    "colormap = \"gist_heat\"\n",
    "# Dots are the location markers. Start and end points.\n",
    "dot_size = 2\n",
    "dot_color = \"white\"\n",
    "paths.draw_traffic(traffic_map = mymap, \n",
    "                   trajectory_iterable = trajectories_to_render, \n",
    "                   color_map = colormap, \n",
    "                   trajectory_scalar_generator = scalar_generator,\n",
    "                   trajectory_linewidth_generator = linewidth_generator,\n",
    "                   dot_size=dot_size,\n",
    "                   dot_color=dot_color,\n",
    "                   color_scale = matplotlib.colors.Normalize(vmin=0, vmax=1),\n",
    "                   axes=None,\n",
    "                   transform=cartopy.crs.PlateCarree()\n",
    "                  )"
   ]
  }
 ],
 "metadata": {
  "kernelspec": {
   "display_name": "Python 3",
   "language": "python",
   "name": "python3"
  },
  "language_info": {
   "codemirror_mode": {
    "name": "ipython",
    "version": 3
   },
   "file_extension": ".py",
   "mimetype": "text/x-python",
   "name": "python",
   "nbconvert_exporter": "python",
   "pygments_lexer": "ipython3",
   "version": "3.8.6"
  }
 },
 "nbformat": 4,
 "nbformat_minor": 2
}
