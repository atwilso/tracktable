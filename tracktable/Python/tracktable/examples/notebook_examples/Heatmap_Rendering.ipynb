{
 "cells": [
  {
   "cell_type": "markdown",
   "metadata": {},
   "source": [
    "# Heat Map Rendering Example"
   ]
  },
  {
   "cell_type": "markdown",
   "metadata": {},
   "source": [
    "<span style=\"color:blue\">Copyright (c) 2014-2020 National Technology and Engineering\n",
    "Solutions of Sandia, LLC. Under the terms of Contract DE-NA0003525\n",
    "with National Technology and Engineering Solutions of Sandia, LLC,\n",
    "the U.S. Government retains certain rights in this software.</span>    \n",
    "    \n",
    "<span style=\"color:blue\">Redistribution and use in source and binary forms, with or without\n",
    "modification, are permitted provided that the following conditions\n",
    "are met:</span>    \n",
    "    \n",
    "&nbsp;&nbsp;&nbsp;&nbsp;<span style=\"color:green\">1. Redistributions of source code must retain the above copyright\n",
    "   notice, this list of conditions and the following disclaimer.</span>    \n",
    "    \n",
    "&nbsp;&nbsp;&nbsp;&nbsp;<span style=\"color:green\">2. Redistributions in binary form must reproduce the above copyright\n",
    "   notice, this list of conditions and the following disclaimer in the\n",
    "   documentation and/or other materials provided with the distribution.</span>    \n",
    "    \n",
    "<span style=\"color:blue\">THIS SOFTWARE IS PROVIDED BY THE COPYRIGHT HOLDERS AND CONTRIBUTORS\n",
    "\"AS IS\" AND ANY EXPRESS OR IMPLIED WARRANTIES, INCLUDING, BUT NOT\n",
    "LIMITED TO, THE IMPLIED WARRANTIES OF MERCHANTABILITY AND FITNESS FOR\n",
    "A PARTICULAR PURPOSE ARE DISCLAIMED. IN NO EVENT SHALL THE COPYRIGHT\n",
    "HOLDER OR CONTRIBUTORS BE LIABLE FOR ANY DIRECT, INDIRECT, INCIDENTAL,\n",
    "SPECIAL, EXEMPLARY, OR CONSEQUENTIAL DAMAGES (INCLUDING, BUT NOT\n",
    "LIMITED TO, PROCUREMENT OF SUBSTITUTE GOODS OR SERVICES; LOSS OF USE,\n",
    "DATA, OR PROFITS; OR BUSINESS INTERRUPTION) HOWEVER CAUSED AND ON ANY\n",
    "THEORY OF LIABILITY, WHETHER IN CONTRACT, STRICT LIABILITY, OR TORT\n",
    "(INCLUDING NEGLIGENCE OR OTHERWISE) ARISING IN ANY WAY OUT OF THE USE\n",
    "OF THIS SOFTWARE, EVEN IF ADVISED OF THE POSSIBILITY OF SUCH DAMAGE.</span>"
   ]
  },
  {
   "cell_type": "markdown",
   "metadata": {},
   "source": [
    "**Purpose:** Sample code to render heatmap of points"
   ]
  },
  {
   "cell_type": "markdown",
   "metadata": {},
   "source": [
    "**Imports**"
   ]
  },
  {
   "cell_type": "code",
   "execution_count": null,
   "metadata": {},
   "outputs": [],
   "source": [
    "from tracktable.domain.terrestrial import TrajectoryPointReader\n",
    "from tracktable.render import mapmaker\n",
    "from tracktable.render.histogram2d import render_histogram\n",
    "from tracktable.render import maps\n",
    "from tracktable.core import data_directory\n",
    "\n",
    "from matplotlib import pyplot\n",
    "\n",
    "import os.path\n"
   ]
  },
  {
   "cell_type": "markdown",
   "metadata": {},
   "source": [
    "First we set up our point source by reading points from a file. Then we dump the points to a list. We do not care about extra data in this example, so we leave all the column fields as default.\n",
    "\n",
    "The data file we use here is bundled with Tracktable.  "
   ]
  },
  {
   "cell_type": "code",
   "execution_count": null,
   "metadata": {},
   "outputs": [],
   "source": [
    "points = []\n",
    "data_filename = os.path.join(data_directory(), 'SampleHeatmapPoints.csv')\n",
    "with open(data_filename, 'r') as inFile:\n",
    "    reader = TrajectoryPointReader()\n",
    "    reader.input = inFile\n",
    "    reader.comment_character = '#'\n",
    "    reader.field_delimiter = ','\n",
    "    for point in reader:\n",
    "        points.append(point)"
   ]
  },
  {
   "cell_type": "markdown",
   "metadata": {},
   "source": [
    "Now we generate a map and create a heatmap from the points we generated.    \n",
    "The type of map, colors, scaling can be customised depending the on the desired look and feel of the finished map. "
   ]
  },
  {
   "cell_type": "code",
   "execution_count": null,
   "metadata": {},
   "outputs": [],
   "source": [
    "# JUPYTER NOTE: Jupyter will show you the state of the figure when you exit\n",
    "# the cell in which you created it.  You cannot apply different effects in\n",
    "# different cells as far as I know.  To work around this, just put all your\n",
    "# different things in functions, then call those functions one after another\n",
    "# in a single cell.\n",
    "\n",
    "# Set up the canvas and map projection\n",
    "# Grab default bounding box\n",
    "def get_bbox(area, domain):\n",
    "    coords = []\n",
    "    location = maps.CONVENIENCE_MAPS[area]\n",
    "    coords.append(location['min_corner'][0])\n",
    "    coords.append(location['min_corner'][1])\n",
    "    coords.append(location['max_corner'][0])\n",
    "    coords.append(location['max_corner'][1])\n",
    "    return mapmaker._make_bounding_box(coords, domain)\n",
    "\n",
    "# 100 DPI * (8, 6) gives an 800x600-pixel image\n",
    "figure = pyplot.figure(dpi=100, figsize=(8, 6))\n",
    "(mymap, map_actors) = mapmaker.mapmaker(domain='terrestrial',\n",
    "                                        map_name='region:conus')\n",
    "bbox = get_bbox('conus', 'terrestrial')\n",
    "render_histogram(map_projection=mymap, \n",
    "                 point_source=points,       # Our list of points we created above\n",
    "                 bounding_box = bbox,       # Bounding box is generated from mymap\n",
    "                 bin_size=0.25, \n",
    "                colormap='gist_heat')"
   ]
  }
 ],
 "metadata": {
  "kernelspec": {
   "display_name": "Python 3",
   "language": "python",
   "name": "python3"
  },
  "language_info": {
   "codemirror_mode": {
    "name": "ipython",
    "version": 3
   },
   "file_extension": ".py",
   "mimetype": "text/x-python",
   "name": "python",
   "nbconvert_exporter": "python",
   "pygments_lexer": "ipython3",
   "version": "3.8.6"
  }
 },
 "nbformat": 4,
 "nbformat_minor": 2
}
