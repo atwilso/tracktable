{
 "cells": [
  {
   "cell_type": "markdown",
   "metadata": {},
   "source": [
    "<span style=\"color:blue\">Copyright (c) 2014-2020 National Technology and Engineering\n",
    "Solutions of Sandia, LLC. Under the terms of Contract DE-NA0003525\n",
    "with National Technology and Engineering Solutions of Sandia, LLC,\n",
    "the U.S. Government retains certain rights in this software.</span>    \n",
    "    \n",
    "<span style=\"color:blue\">Redistribution and use in source and binary forms, with or without\n",
    "modification, are permitted provided that the following conditions\n",
    "are met:</span>    \n",
    "    \n",
    "&nbsp;&nbsp;&nbsp;&nbsp;<span style=\"color:green\">1. Redistributions of source code must retain the above copyright\n",
    "   notice, this list of conditions and the following disclaimer.</span>    \n",
    "    \n",
    "&nbsp;&nbsp;&nbsp;&nbsp;<span style=\"color:green\">2. Redistributions in binary form must reproduce the above copyright\n",
    "   notice, this list of conditions and the following disclaimer in the\n",
    "   documentation and/or other materials provided with the distribution.</span>    \n",
    "    \n",
    "<span style=\"color:blue\">THIS SOFTWARE IS PROVIDED BY THE COPYRIGHT HOLDERS AND CONTRIBUTORS\n",
    "\"AS IS\" AND ANY EXPRESS OR IMPLIED WARRANTIES, INCLUDING, BUT NOT\n",
    "LIMITED TO, THE IMPLIED WARRANTIES OF MERCHANTABILITY AND FITNESS FOR\n",
    "A PARTICULAR PURPOSE ARE DISCLAIMED. IN NO EVENT SHALL THE COPYRIGHT\n",
    "HOLDER OR CONTRIBUTORS BE LIABLE FOR ANY DIRECT, INDIRECT, INCIDENTAL,\n",
    "SPECIAL, EXEMPLARY, OR CONSEQUENTIAL DAMAGES (INCLUDING, BUT NOT\n",
    "LIMITED TO, PROCUREMENT OF SUBSTITUTE GOODS OR SERVICES; LOSS OF USE,\n",
    "DATA, OR PROFITS; OR BUSINESS INTERRUPTION) HOWEVER CAUSED AND ON ANY\n",
    "THEORY OF LIABILITY, WHETHER IN CONTRACT, STRICT LIABILITY, OR TORT\n",
    "(INCLUDING NEGLIGENCE OR OTHERWISE) ARISING IN ANY WAY OUT OF THE USE\n",
    "OF THIS SOFTWARE, EVEN IF ADVISED OF THE POSSIBILITY OF SUCH DAMAGE.</span>"
   ]
  },
  {
   "cell_type": "markdown",
   "metadata": {},
   "source": [
    "Purpose: Generate example trajectories between big airports.    \n",
    "    \n",
    "Our larger trajectory sample data file contains trajectories that for between the largest airports in the world. This script is what we use to generate that file.    \n",
    "    \n",
    "The example data in tracktable/Examples/Data/SampleTrajectories.tsv was generated with the following command line:    \n",
    "python generate_sample_trajectories.py SampleTrajectories.tsv    "
   ]
  },
  {
   "cell_type": "code",
   "execution_count": 6,
   "metadata": {},
   "outputs": [],
   "source": [
    "from __future__ import print_function, division, absolute_import\n",
    "\n",
    "import argparse\n",
    "import csv\n",
    "import datetime\n",
    "import math\n",
    "import operator\n",
    "import random\n",
    "import sys\n",
    "\n",
    "from six.moves import range\n",
    "\n",
    "from tracktable.core import geomath, timestamp, conversions\n",
    "from tracktable.info import cities, airports\n",
    "from tracktable.source import trajectory, path_point_source, combine\n",
    "from tracktable.domain.terrestrial import TrajectoryPoint as TerrestrialTrajectoryPoint\n",
    "from tracktable.domain.terrestrial import TrajectoryPointWriter as TerrestrialTrajectoryPointWriter"
   ]
  },
  {
   "cell_type": "code",
   "execution_count": 7,
   "metadata": {},
   "outputs": [],
   "source": [
    "def parse_args():\n",
    "    parser = argparse.ArgumentParser()\n",
    "\n",
    "    parser.add_argument('--speed',\n",
    "                        type=float,\n",
    "                        default=1036,\n",
    "                        help='Speed for trajectories (in km/h)')\n",
    "\n",
    "    parser.add_argument('--speed-jitter', '-j',\n",
    "                        type=float,\n",
    "                        default=200,\n",
    "                        help='Add or subtract this much noise in the speed for each trajectory')\n",
    "\n",
    "    parser.add_argument('--spacing',\n",
    "                        type=float,\n",
    "                        default=60,\n",
    "                        help='Time between points in a trajectory (in seconds)')\n",
    "\n",
    "    parser.add_argument('--paths', '-n',\n",
    "                        type=int,\n",
    "                        default=200,\n",
    "                        help='How many paths to generate between random pairs of airports')\n",
    "\n",
    "    parser.add_argument('--airports', '-a',\n",
    "                        type=int,\n",
    "                        default=100,\n",
    "                        help='How many airports to use as start/end points')\n",
    "\n",
    "    parser.add_argument('output',\n",
    "                        nargs=1,\n",
    "                        help='Filename for output points')\n",
    "\n",
    "    args = parser.parse_args()\n",
    "\n",
    "    return args"
   ]
  },
  {
   "cell_type": "markdown",
   "metadata": {},
   "source": [
    "Description: n_largest_airports(howmany: int) -> list of Airport objects    \n",
    "    \n",
    "Retrieve a list of N busiest airports in the world (by passenger traffic) sorted in descending order.    "
   ]
  },
  {
   "cell_type": "code",
   "execution_count": 8,
   "metadata": {},
   "outputs": [],
   "source": [
    "def n_largest_airport(howmany):\n",
    "    all_airports = sorted(airports.all_airports(), key=operator.attrgetter('size_rank'))\n",
    "    return all_airports[0:howmany]"
   ]
  },
  {
   "cell_type": "markdown",
   "metadata": {},
   "source": [
    "Description: time_between_positions(start: position, end: position, desired_speed: float (km/h)) -> datetime.timedelta    \n",
    "    \n",
    "Given two points and a constant speed, calculate the mount of time (expressed in seconds as a timedelta) to travel from hither to yon.    "
   ]
  },
  {
   "cell_type": "code",
   "execution_count": 9,
   "metadata": {},
   "outputs": [],
   "source": [
    "def time_between_positions(start, end, desired_speed=800):\n",
    "    distance = geomath.distance(start, end)\n",
    "    seconds = 3600.0 * (distance / desired_speed)\n",
    "    return datetime.timedelta(seconds=seconds)"
   ]
  },
  {
   "cell_type": "markdown",
   "metadata": {},
   "source": [
    "Description: num_points_between_positions(start: position, end: position, seconds_between_points: int, desired_speed: float (km/h)) -> int    \n",
    "    \n",
    "Calculate how many points need to be between the start and endpoints supplied at the desired speed given a desired time between adjacent points.  The default speed value (800 km/h) is Mach 0.83, the ideal cruising speed for a Boeing 777."
   ]
  },
  {
   "cell_type": "code",
   "execution_count": 10,
   "metadata": {},
   "outputs": [],
   "source": [
    "def num_points_between_positions(start, end, seconds_between_points=60, desired_speed=800):\n",
    "    travel_time = time_between_positions(start, end, desired_speed)\n",
    "    return int(travel_time.total_seconds() / seconds_between_points)"
   ]
  },
  {
   "cell_type": "markdown",
   "metadata": {},
   "source": [
    "Description: trajectory_point_generator(start_airport: Airport,    \n",
    "&emsp;&emsp;&emsp;&emsp;&emsp;&emsp;end_airport: Airport,    \n",
    "&emsp;&emsp;&emsp;&emsp;&emsp;&emsp;start_time=Timestamp (datetime.datetime),    \n",
    "&emsp;&emsp;&emsp;&emsp;&emsp;&emsp;object_id='ANON' (string),    \n",
    "&emsp;&emsp;&emsp;&emsp;&emsp;&emsp;desired_speed=60 (float, km/h),    \n",
    "&emsp;&emsp;&emsp;&emsp;&emsp;&emsp;seconds_between_points=60 (int),    \n",
    "&emsp;&emsp;&emsp;&emsp;&emsp;&emsp;minimum_num_points=10 (int)) -> iterable of points    \n",
    "    \n",
    "Generate a sequence of points that go from the starting airport to the ending airport with the desired speed and time between points.   "
   ]
  },
  {
   "cell_type": "code",
   "execution_count": 11,
   "metadata": {},
   "outputs": [],
   "source": [
    "def trajectory_point_generator(start_airport, end_airport, start_time, object_id='ANON', desired_speed=800, seconds_between_points=60, minimum_num_points=10):\n",
    "    start_position = TerrestrialTrajectoryPoint()\n",
    "    start_position[0] = start_airport.position[0]\n",
    "    start_position[1] = start_airport.position[1]\n",
    "\n",
    "    end_position = TerrestrialTrajectoryPoint()\n",
    "    end_position[0] = end_airport.position[0]\n",
    "    end_position[1] = end_airport.position[1]\n",
    "\n",
    "    travel_time = time_between_positions(start_position, end_position, desired_speed=desired_speed)\n",
    "\n",
    "    num_points = num_points_between_positions(start_position, end_position,\n",
    "                                              desired_speed=desired_speed,\n",
    "                                              seconds_between_points=seconds_between_points)\n",
    "\n",
    "    if num_points < minimum_num_points:\n",
    "        num_points = minimum_num_points\n",
    "\n",
    "    start_position.object_id = object_id\n",
    "    start_position.timestamp = start_time\n",
    "    end_position.object_id = object_id\n",
    "    end_position.timestamp = start_time + travel_time\n",
    "\n",
    "    point_list = [ start_position ]\n",
    "    if num_points == 2:\n",
    "        point_list.append(end_position)\n",
    "    else:\n",
    "        interpolant_increment = 1.0 / (num_points - 1)\n",
    "        for i in range(1, num_points-1):\n",
    "            interpolant = i * interpolant_increment\n",
    "            point_list.append(geomath.interpolate(start_position, end_position, interpolant))\n",
    "        point_list.append(end_position)\n",
    "    \n",
    "    return point_list"
   ]
  },
  {
   "cell_type": "markdown",
   "metadata": {},
   "source": [
    "Description: all_path_point_generators(airports: list(Airport),    \n",
    "&emsp;&emsp;&emsp;&emsp;&emsp;&emsp;num_paths: int,    \n",
    "&emsp;&emsp;&emsp;&emsp;&emsp;&emsp;desired_speed=800 (float, km/h),    \n",
    "&emsp;&emsp;&emsp;&emsp;&emsp;&emsp;seconds_between_points=60 (int)) -> list(iterable(Point))    \n",
    "    \n",
    "Given a list of airports, a desired speed and time between points, construct a whole bunch of iterables. Each iterable contains points for a great-circle path between two randomly selected elements of the list of airports.    "
   ]
  },
  {
   "cell_type": "code",
   "execution_count": 12,
   "metadata": {},
   "outputs": [],
   "source": [
    "def all_path_point_generators(airports, num_paths, desired_speed=800, speed_jitter=200, seconds_between_points=60):\n",
    "    flight_counters = {}\n",
    "    iterables = []\n",
    "    start_airport = None\n",
    "    end_airport = None\n",
    "\n",
    "    for i in range(num_paths):\n",
    "        while start_airport == end_airport:\n",
    "            chosen_airports = random.sample(airports, 2)\n",
    "            start_airport = chosen_airports[0]\n",
    "            end_airport = chosen_airports[1]\n",
    "        flight_id = 'TST{}{}'.format(start_airport.iata_code, end_airport.iata_code)\n",
    "        flight_number = flight_counters.get(flight_id, 0)\n",
    "        flight_counters[flight_id] = flight_number + 1\n",
    "        full_flight_id = '{}{}'.format(flight_id, flight_number)\n",
    "        print(\"INFO: generating sample trajectory for {} - {}\".format(start_airport.iata_code,\n",
    "                                                                       end_airport.iata_code))\n",
    "        generator = trajectory_point_generator(start_airport, end_airport, \n",
    "                                               start_time=datetime.datetime.now(), \n",
    "                                               object_id=full_flight_id, \n",
    "                                               desired_speed=desired_speed, \n",
    "                                               seconds_between_points=seconds_between_points)\n",
    "        start_airport = end_airport\n",
    "        iterables.append(generator)\n",
    "    return iterables"
   ]
  },
  {
   "cell_type": "code",
   "execution_count": 13,
   "metadata": {},
   "outputs": [],
   "source": [
    "def write_points_to_file(point_source, outfile):\n",
    "    outfile.write('# object_id timestamp longitude latitude\\n')\n",
    "    writer = csv.writer(outfile, delimiter='\\t')\n",
    "\n",
    "    for point in point_source:\n",
    "        row = [ point.object_id, timestamp.Timestamp.to_string(point.timestamp), point.longitude, point.latitude ]\n",
    "        writer.writerow(row)"
   ]
  },
  {
   "cell_type": "code",
   "execution_count": 14,
   "metadata": {},
   "outputs": [],
   "source": [
    "def main():\n",
    "    args = parse_args()\n",
    "    if args.airports > 100:\n",
    "        print(\"WARNING: We only have size statistics for the busiest 100 airports in the world.  Reducing num_airports from {} to 30.\".format(args.airports))\n",
    "        args.airports = 100\n",
    "    airports = n_largest_airports(args.airports)\n",
    "    print(\"INFO: Generating {} trajectories among random pairs of the world's {} largest airports.\".format(args.paths, args.airports))\n",
    "    point_iterables = all_path_point_generators(airports,\n",
    "                                                args.paths,\n",
    "                                                desired_speed=args.speed,\n",
    "                                                speed_jitter=args.speed_jitter,\n",
    "                                                seconds_between_points=args.spacing)\n",
    "    print(\"DEBUG: Acquired {} point iterables.\".format(len(point_iterables)))    \n",
    "    single_point_list = combine.interleave_points_by_timestamp(*point_iterables)\n",
    "    with open(args.output[0], 'wb') as outfile:\n",
    "        writer = TerrestrialTrajectoryPointWriter(outfile)\n",
    "        writer.write(single_point_list)\n",
    "    return 0"
   ]
  },
  {
   "cell_type": "code",
   "execution_count": 15,
   "metadata": {},
   "outputs": [
    {
     "name": "stderr",
     "output_type": "stream",
     "text": [
      "usage: ipykernel_launcher.py [-h] [--speed SPEED]\n",
      "                             [--speed-jitter SPEED_JITTER] [--spacing SPACING]\n",
      "                             [--paths PATHS] [--airports AIRPORTS]\n",
      "                             output\n",
      "ipykernel_launcher.py: error: unrecognized arguments: -f\n"
     ]
    },
    {
     "ename": "SystemExit",
     "evalue": "2",
     "output_type": "error",
     "traceback": [
      "An exception has occurred, use %tb to see the full traceback.\n",
      "\u001b[0;31mSystemExit\u001b[0m\u001b[0;31m:\u001b[0m 2\n"
     ]
    },
    {
     "name": "stderr",
     "output_type": "stream",
     "text": [
      "/ascldap/users/kjward/anaconda3/envs/jupyter/lib/python3.7/site-packages/IPython/core/interactiveshell.py:3334: UserWarning: To exit: use 'exit', 'quit', or Ctrl-D.\n",
      "  warn(\"To exit: use 'exit', 'quit', or Ctrl-D.\", stacklevel=1)\n"
     ]
    }
   ],
   "source": [
    "if __name__ == '__main__':\n",
    "    sys.exit(main())"
   ]
  }
 ],
 "metadata": {
  "kernelspec": {
   "display_name": "Python 3",
   "language": "python",
   "name": "python3"
  },
  "language_info": {
   "codemirror_mode": {
    "name": "ipython",
    "version": 3
   },
   "file_extension": ".py",
   "mimetype": "text/x-python",
   "name": "python",
   "nbconvert_exporter": "python",
   "pygments_lexer": "ipython3",
   "version": "3.7.3"
  }
 },
 "nbformat": 4,
 "nbformat_minor": 2
}
