{
 "cells": [
  {
   "cell_type": "markdown",
   "metadata": {},
   "source": [
    "<span style=\"color:blue\">Copyright (c) 2014-2020 National Technology and Engineering\n",
    "Solutions of Sandia, LLC. Under the terms of Contract DE-NA0003525\n",
    "with National Technology and Engineering Solutions of Sandia, LLC,\n",
    "the U.S. Government retains certain rights in this software.</span>    \n",
    "    \n",
    "<span style=\"color:blue\">Redistribution and use in source and binary forms, with or without\n",
    "modification, are permitted provided that the following conditions\n",
    "are met:</span>    \n",
    "    \n",
    "&nbsp;&nbsp;&nbsp;&nbsp;<span style=\"color:green\">1. Redistributions of source code must retain the above copyright\n",
    "   notice, this list of conditions and the following disclaimer.</span>    \n",
    "    \n",
    "&nbsp;&nbsp;&nbsp;&nbsp;<span style=\"color:green\">2. Redistributions in binary form must reproduce the above copyright\n",
    "   notice, this list of conditions and the following disclaimer in the\n",
    "   documentation and/or other materials provided with the distribution.</span>    \n",
    "    \n",
    "<span style=\"color:blue\">THIS SOFTWARE IS PROVIDED BY THE COPYRIGHT HOLDERS AND CONTRIBUTORS\n",
    "\"AS IS\" AND ANY EXPRESS OR IMPLIED WARRANTIES, INCLUDING, BUT NOT\n",
    "LIMITED TO, THE IMPLIED WARRANTIES OF MERCHANTABILITY AND FITNESS FOR\n",
    "A PARTICULAR PURPOSE ARE DISCLAIMED. IN NO EVENT SHALL THE COPYRIGHT\n",
    "HOLDER OR CONTRIBUTORS BE LIABLE FOR ANY DIRECT, INDIRECT, INCIDENTAL,\n",
    "SPECIAL, EXEMPLARY, OR CONSEQUENTIAL DAMAGES (INCLUDING, BUT NOT\n",
    "LIMITED TO, PROCUREMENT OF SUBSTITUTE GOODS OR SERVICES; LOSS OF USE,\n",
    "DATA, OR PROFITS; OR BUSINESS INTERRUPTION) HOWEVER CAUSED AND ON ANY\n",
    "THEORY OF LIABILITY, WHETHER IN CONTRACT, STRICT LIABILITY, OR TORT\n",
    "(INCLUDING NEGLIGENCE OR OTHERWISE) ARISING IN ANY WAY OUT OF THE USE\n",
    "OF THIS SOFTWARE, EVEN IF ADVISED OF THE POSSIBILITY OF SUCH DAMAGE.</span>"
   ]
  },
  {
   "cell_type": "code",
   "execution_count": 1,
   "metadata": {},
   "outputs": [],
   "source": [
    "import csv\n",
    "import datetime\n",
    "import itertools\n",
    "import math\n",
    "import os.path\n",
    "import random\n",
    "import sys\n",
    "\n",
    "from tracktable.core import geomath\n",
    "from tracktable.domain import terrestrial\n",
    "from tracktable.info import cities\n",
    "from tracktable.source.point import random_circle_linear_falloff\n"
   ]
  },
  {
   "cell_type": "markdown",
   "metadata": {},
   "source": [
    "n_largest_cities(howmany: int) -> list of CityInfo objects    \n",
    "    \n",
    "Retrieve a list of the N largest cities in the world (by population) sorted in descending order.    "
   ]
  },
  {
   "cell_type": "code",
   "execution_count": 2,
   "metadata": {},
   "outputs": [],
   "source": [
    "def n_largest_cities(howmany):\n",
    "    return cities.largest_cities_in_bbox(count=howmany)"
   ]
  },
  {
   "cell_type": "markdown",
   "metadata": {},
   "source": [
    "Point radius for city(city: tracktable.info.cities,CityInfo) -> float(km)    \n",
    "    \n",
    "Return a radius proportional to a city's population. Arbitrarily, a city with a population of 1 million will get a radius of 50km.    \n",
    "    \n",
    "This has no particular real-world meaning. It's just a way to scatter points around the city center."
   ]
  },
  {
   "cell_type": "code",
   "execution_count": 3,
   "metadata": {},
   "outputs": [],
   "source": [
    "def point_radius_for_city(city):\n",
    "    return (50 * city.population/1000000)"
   ]
  },
  {
   "cell_type": "code",
   "execution_count": 4,
   "metadata": {},
   "outputs": [],
   "source": [
    "def write_points_to_file(point_source, outfile):\n",
    "    writer = terrestrial.TrajectoryPointWriter(outfile)\n",
    "    writer.write(point_source)\n",
    "    "
   ]
  },
  {
   "cell_type": "code",
   "execution_count": 5,
   "metadata": {},
   "outputs": [],
   "source": [
    "def points_near_city(city, num_points):\n",
    "    center = terrestrial.TrajectoryPoint(city.longitude, city.latitude)\n",
    "    center.object_id = 'ANON'\n",
    "    center.timestamp = datetime.datetime.now()\n",
    "    radius = point_radius_for_city(city)\n",
    "\n",
    "    return random_circle_linear_falloff(center, \n",
    "                                        num_points=num_points, \n",
    "                                        max_radius_km=radius)\n",
    "    "
   ]
  },
  {
   "cell_type": "code",
   "execution_count": 6,
   "metadata": {},
   "outputs": [
    {
     "name": "stdout",
     "output_type": "stream",
     "text": [
      "INFO: Generating 1000 points around each of the 100 largest cities in the world.\n",
      "DEBUG: cities_in_bbox: bbox_min is (-180, -90), bbox_max is (180, 90)\n",
      "DEBUG: min_longitude is -180, min_latitude is -90, max_longitude is 180, max_latitude is 90\n"
     ]
    }
   ],
   "source": [
    "num_cities = 100\n",
    "num_points_per_city = 1000\n",
    "outfilename = os.path.expanduser('~/city_points.csv')\n",
    "\n",
    "print(\"INFO: Generating {} points around each of the {} largest cities in the world.\".format(num_points_per_city, num_cities))\n",
    "all_sources = [ points_near_city(city, num_points_per_city) for city in n_largest_cities(num_cities) ]\n",
    "combined_point_source = itertools.chain(*all_sources)\n",
    "    \n",
    "with open(outfilename, 'wb') as outfile:\n",
    "    write_points_to_file(combined_point_source, outfile)\n"
   ]
  }
 ],
 "metadata": {
  "kernelspec": {
   "display_name": "Python 3",
   "language": "python",
   "name": "python3"
  },
  "language_info": {
   "codemirror_mode": {
    "name": "ipython",
    "version": 3
   },
   "file_extension": ".py",
   "mimetype": "text/x-python",
   "name": "python",
   "nbconvert_exporter": "python",
   "pygments_lexer": "ipython3",
   "version": "3.7.4"
  }
 },
 "nbformat": 4,
 "nbformat_minor": 2
}
