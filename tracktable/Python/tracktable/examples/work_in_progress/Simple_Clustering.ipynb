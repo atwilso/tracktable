{
 "cells": [
  {
   "cell_type": "markdown",
   "metadata": {},
   "source": [
    "Copyright (c) 2014-2020 National Technology and Engineering\n",
    "Solutions of Sandia, LLC. Under the terms of Contract DE-NA0003525\n",
    "with National Technology and Engineering Solutions of Sandia, LLC,\n",
    "the U.S. Government retains certain rights in this software.\n",
    "\n",
    "Redistribution and use in source and binary forms, with or without\n",
    "modification, are permitted provided that the following conditions\n",
    "are met:\n",
    "\n",
    "1. Redistributions of source code must retain the above copyright\n",
    "   notice, this list of conditions and the following disclaimer.\n",
    "\n",
    "2. Redistributions in binary form must reproduce the above copyright\n",
    "   notice, this list of conditions and the following disclaimer in the\n",
    "   documentation and/or other materials provided with the distribution.\n",
    "  \n",
    "THIS SOFTWARE IS PROVIDED BY THE COPYRIGHT HOLDERS AND CONTRIBUTORS\n",
    "\"AS IS\" AND ANY EXPRESS OR IMPLIED WARRANTIES, INCLUDING, BUT NOT\n",
    "LIMITED TO, THE IMPLIED WARRANTIES OF MERCHANTABILITY AND FITNESS FOR\n",
    "A PARTICULAR PURPOSE ARE DISCLAIMED. IN NO EVENT SHALL THE COPYRIGHT\n",
    "HOLDER OR CONTRIBUTORS BE LIABLE FOR ANY DIRECT, INDIRECT, INCIDENTAL,\n",
    "SPECIAL, EXEMPLARY, OR CONSEQUENTIAL DAMAGES (INCLUDING, BUT NOT\n",
    "LIMITED TO, PROCUREMENT OF SUBSTITUTE GOODS OR SERVICES; LOSS OF USE,\n",
    "DATA, OR PROFITS; OR BUSINESS INTERRUPTION) HOWEVER CAUSED AND ON ANY\n",
    "THEORY OF LIABILITY, WHETHER IN CONTRACT, STRICT LIABILITY, OR TORT\n",
    "(INCLUDING NEGLIGENCE OR OTHERWISE) ARISING IN ANY WAY OUT OF THE USE\n",
    "OF THIS SOFTWARE, EVEN IF ADVISED OF THE POSSIBILITY OF SUCH DAMAGE."
   ]
  },
  {
   "cell_type": "markdown",
   "metadata": {},
   "source": [
    "# Trajectory Clustering Example    \n",
    "    \n",
    "This is a simple end-to-end clustering example using feature vectors. In this example, we cluster based on the convex hull area and the end to end distance. This can give us similar shaped trajectories that travel the same distance.    "
   ]
  },
  {
   "cell_type": "code",
   "execution_count": null,
   "metadata": {},
   "outputs": [],
   "source": [
    "import matplotlib"
   ]
  },
  {
   "cell_type": "markdown",
   "metadata": {},
   "source": [
    "First, we will define our method to grab the features we want. Given a trajectory, the method will build a list of features that we want to define our trajectory. In this instance, we get the convex hull area and we calculate the end to end distance of the trajectory. We convert the list of features into a feature vector."
   ]
  },
  {
   "cell_type": "code",
   "execution_count": null,
   "metadata": {},
   "outputs": [],
   "source": [
    "from tracktable.domain.feature_vectors import convert_to_feature_vector\n",
    "from tracktable.core.geomath import convex_hull_area as cha\n",
    "from tracktable.core.geomath import distance\n",
    "from datetime import timedelta\n",
    "\n",
    "def get_features(trajectory):\n",
    "    signature = []\n",
    "    signature.append(cha(trajectory))\n",
    "    signature.append(distance(trajectory[0], trajectory[len(trajectory)-1]))\n",
    "    # convert_to_feature_vector() just packages up the existing values\n",
    "    # in a data structure friendly to DBSCAN.  It doesn't change them\n",
    "    # in any way.\n",
    "    return convert_to_feature_vector(signature)"
   ]
  },
  {
   "cell_type": "markdown",
   "metadata": {},
   "source": [
    "Now we need to collect our data from our dataset and organize it into trajectories. We save the trajectories to a list so we can work with them as many times as we want."
   ]
  },
  {
   "cell_type": "code",
   "execution_count": null,
   "metadata": {},
   "outputs": [],
   "source": [
    "from tracktable.domain.terrestrial import TrajectoryPointReader\n",
    "from tracktable.source.trajectory import AssembleTrajectoryFromPoints\n",
    "from tracktable.analysis.dbscan import compute_cluster_labels\n",
    "from tracktable.core import data_directory\n",
    "import os.path\n",
    "\n",
    "data_filename = os.path.join(data_directory(), 'april_04_2013.csv')\n",
    "inFile = open(data_filename, 'r')\n",
    "reader = TrajectoryPointReader()\n",
    "reader.input = inFile\n",
    "reader.comment_character = '#'\n",
    "reader.field_delimiter = ','\n",
    "reader.object_id_column = 0\n",
    "reader.timestamp_column = 1\n",
    "reader.coordinates[0] = 2\n",
    "reader.coordinates[1] = 3\n",
    "\n",
    "builder = AssembleTrajectoryFromPoints()\n",
    "builder.input = reader\n",
    "builder.minimum_length = 5\n",
    "builder.separation_time = timedelta(minutes=20)\n",
    "\n",
    "all_trajectories = list(builder)"
   ]
  },
  {
   "cell_type": "markdown",
   "metadata": {},
   "source": [
    "Now we collect a list of feature vectors from all of our trajectories we formed. In order to computer cluster labels, we will need:    \n",
    "&nbsp;&nbsp;&nbsp;1. A list of feature vectors for the trajectories    \n",
    "&nbsp;&nbsp;&nbsp;2. Size of the box that defines when two points are close enough to be considered in the same cluster. This is a great parameter to play with to see how the clusters change.    \n",
    "&nbsp;&nbsp;&nbsp;3. The minimum number of points to keep a cluster.    "
   ]
  },
  {
   "cell_type": "code",
   "execution_count": null,
   "metadata": {
    "scrolled": true
   },
   "outputs": [],
   "source": [
    "feature_vectors = [get_features(trajectory) for trajectory in all_trajectories]\n",
    "signature_length = len(feature_vectors[0])\n",
    "search_box_span = [0.01] * signature_length\n",
    "minimum_cluster_size = 5\n",
    "\n",
    "cluster_labels = compute_cluster_labels(feature_vectors, search_box_span, minimum_cluster_size)"
   ]
  },
  {
   "cell_type": "markdown",
   "metadata": {},
   "source": [
    "Now we can actually cluster the trajectories based on the labels built. "
   ]
  },
  {
   "cell_type": "code",
   "execution_count": null,
   "metadata": {},
   "outputs": [],
   "source": [
    "# Assemble each cluster as a list of its component trajectories.\n",
    "clusters = {}\n",
    "for(vertex_id, cluster_id) in cluster_labels:\n",
    "    if cluster_id not in clusters:\n",
    "        clusters[cluster_id] = [all_trajectories[vertex_id]]\n",
    "    else:\n",
    "        clusters[cluster_id].append(all_trajectories[vertex_id])\n",
    "\n",
    "# If a cluster does not have an id, it is an outlier\n",
    "def cluster_name(cid):\n",
    "    if cid == 0:\n",
    "        return 'Outliers'\n",
    "    else:\n",
    "        return 'Cluster {}'.format(cid)\n",
    "\n",
    "#Print the cluster id and the number of trajectories in the cluster.\n",
    "print(\"RESULT: Cluster sizes:\")\n",
    "for(cid, cluster) in clusters.items():\n",
    "    print(\"{}: {}\".format(cluster_name(cid), len(cluster)))\n"
   ]
  }
 ],
 "metadata": {
  "kernelspec": {
   "display_name": "Python 3",
   "language": "python",
   "name": "python3"
  },
  "language_info": {
   "codemirror_mode": {
    "name": "ipython",
    "version": 3
   },
   "file_extension": ".py",
   "mimetype": "text/x-python",
   "name": "python",
   "nbconvert_exporter": "python",
   "pygments_lexer": "ipython3",
   "version": "3.7.3"
  }
 },
 "nbformat": 4,
 "nbformat_minor": 2
}
