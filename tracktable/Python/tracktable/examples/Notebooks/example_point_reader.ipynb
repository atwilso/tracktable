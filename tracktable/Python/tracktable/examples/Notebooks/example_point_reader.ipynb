{
 "cells": [
  {
   "cell_type": "markdown",
   "metadata": {},
   "source": [
    "<span style=\"color:blue\">Copyright (c) 2014-2017 National Technology and Engineering\n",
    "Solutions of Sandia, LLC. Under the terms of Contract DE-NA0003525\n",
    "with National Technology and Engineering Solutions of Sandia, LLC,\n",
    "the U.S. Government retains certain rights in this software.</span>    \n",
    "    \n",
    "<span style=\"color:blue\">Redistribution and use in source and binary forms, with or without\n",
    "modification, are permitted provided that the following conditions\n",
    "are met:</span>    \n",
    "    \n",
    "&nbsp;&nbsp;&nbsp;&nbsp;<span style=\"color:green\">1. Redistributions of source code must retain the above copyright\n",
    "   notice, this list of conditions and the following disclaimer.</span>    \n",
    "    \n",
    "&nbsp;&nbsp;&nbsp;&nbsp;<span style=\"color:green\">2. Redistributions in binary form must reproduce the above copyright\n",
    "   notice, this list of conditions and the following disclaimer in the\n",
    "   documentation and/or other materials provided with the distribution.</span>    \n",
    "    \n",
    "<span style=\"color:blue\">THIS SOFTWARE IS PROVIDED BY THE COPYRIGHT HOLDERS AND CONTRIBUTORS\n",
    "\"AS IS\" AND ANY EXPRESS OR IMPLIED WARRANTIES, INCLUDING, BUT NOT\n",
    "LIMITED TO, THE IMPLIED WARRANTIES OF MERCHANTABILITY AND FITNESS FOR\n",
    "A PARTICULAR PURPOSE ARE DISCLAIMED. IN NO EVENT SHALL THE COPYRIGHT\n",
    "HOLDER OR CONTRIBUTORS BE LIABLE FOR ANY DIRECT, INDIRECT, INCIDENTAL,\n",
    "SPECIAL, EXEMPLARY, OR CONSEQUENTIAL DAMAGES (INCLUDING, BUT NOT\n",
    "LIMITED TO, PROCUREMENT OF SUBSTITUTE GOODS OR SERVICES; LOSS OF USE,\n",
    "DATA, OR PROFITS; OR BUSINESS INTERRUPTION) HOWEVER CAUSED AND ON ANY\n",
    "THEORY OF LIABILITY, WHETHER IN CONTRACT, STRICT LIABILITY, OR TORT\n",
    "(INCLUDING NEGLIGENCE OR OTHERWISE) ARISING IN ANY WAY OUT OF THE USE\n",
    "OF THIS SOFTWARE, EVEN IF ADVISED OF THE POSSIBILITY OF SUCH DAMAGE.</span>"
   ]
  },
  {
   "cell_type": "markdown",
   "metadata": {},
   "source": [
    "Purpose: Common code to configure a DelimitedText point reader"
   ]
  },
  {
   "cell_type": "markdown",
   "metadata": {},
   "source": [
    "Imports"
   ]
  },
  {
   "cell_type": "code",
   "execution_count": 1,
   "metadata": {},
   "outputs": [],
   "source": [
    "from tracktable.domain import all_domains as ALL_DOMAINS\n",
    "from tracktable.script_helpers.argument_groups import extract_arguments\n",
    "import importlib\n",
    "import itertools"
   ]
  },
  {
   "cell_type": "markdown",
   "metadata": {},
   "source": [
    "<span style=\"color:blue\">Set up a TrajectoryPointReader for terrestrial points</span>    \n",
    "    \n",
    "<span style=\"color:orange\">Args:</span>    \n",
    "&nbsp;&nbsp;&nbsp;infile: An open file or file-like object containing the input.     \n",
    "&nbsp;&nbsp;&nbsp;delimiter: A single character that separates the fields    \n",
    "&nbsp;&nbsp;&nbsp;comment_character: Lines where this character is the first non-whitespace character will be ignored    \n",
    "&nbsp;&nbsp;&nbsp;coordinate_map: Map from corrdinate number to column number    \n",
    "&nbsp;&nbsp;&nbsp;field_map: Mapping from field name to column number. See below for more details.    \n",
    "    \n",
    "<span style=\"color:orange\">Returns:</span>    \n",
    "&nbsp;&nbsp;&nbsp;The ready-to-use point reader. In order to actually retrieve the points, iterate over the contents of the 'reader'    \n",
    "    \n",
    "<span style=\"color:blue\">Coordinate Map</span>    \n",
    "    \n",
    "You must tell the reader how to populate coordinates by supplying a coordinate -> column map. Here is how you would tell it to use columns 10 and 11 for longitude and latitude (coordinates 0 and 1):    \n",
    "    \n",
    "&nbsp;&nbsp;&nbsp;coordinate0 = 10    \n",
    "&nbsp;&nbsp;&nbsp;coordinate1 = 11    \n",
    "    \n",
    "<span style=\"color:blue\">Field Map</span>    \n",
    "    \n",
    "TrajectoryPoints can take named fields such as 'onject_id', 'timestamp', 'altitude', ... pretty much anything can take a string, numeric or timestamp value. These are populated from the columns in the file just like coordinates are. Here is an example:    \n",
    "    \n",
    "&nbsp;&nbsp;&nbsp;field_map =  dict()    \n",
    "&nbsp;&nbsp;&nbsp;field_map[\"object_id\"] = 0    \n",
    "&nbsp;&nbsp;&nbsp;field_map[\"timestamp\"] = 1    \n",
    "&nbsp;&nbsp;&nbsp;field_map[\"altitude\"] = 4    \n",
    "&nbsp;&nbsp;&nbsp;field_map[\"speed\"] = 5    \n",
    "&nbsp;&nbsp;&nbsp;field_map[\"airline_name\"] = 6    \n",
    "    \n",
    "TrajectoryPoint has 'object_id' and 'timestamp' as class members accessed with 'my_point.object_id' and 'my_point.timestamp'. All 'my_point.properties[\"prop_name\"]."
   ]
  },
  {
   "cell_type": "code",
   "execution_count": 2,
   "metadata": {},
   "outputs": [],
   "source": [
    "def configure_point_reader(infile, **kwargs):\n",
    "    reader_args = extract_arguments('delimited_text_point_reader', kwargs)\n",
    "    print(\"Arguments after extract(): {}\".format(reader_args))\n",
    "    \n",
    "    domain = reader_args['domain']\n",
    "    if domain.lower() not in ALL_DOMAINS:\n",
    "        raise KeyError(\"Domain '{}' is not in list of installed domains ({}).\".format(\n",
    "            domain, ', '.join(ALL_DOMAINS)))\n",
    "    else:\n",
    "        domain_to_import = 'tracktable.domain.{}'.format(domain.lower())\n",
    "        domain_module = importlib.import_module(domain_to_import)\n",
    "        \n",
    "    reader = domain_module.TrajectoryPointReader()\n",
    "    reader.input = infile\n",
    "    reader.comment_character = reader_args['comment_character']\n",
    "    reader.field_delimiter = reader_args['delimiter']\n",
    "\n",
    "    if reader_args['object_id_column'] is not None:\n",
    "        reader.object_id_column = reader_args['object_id_column']\n",
    "\n",
    "    if reader_args['timestamp_column'] is not None:\n",
    "        reader.timestamp_column = reader_args['timestamp_column']\n",
    "\n",
    "    if reader_args['coordinate0'] is not None:\n",
    "        reader.coordinates[0] = int(reader_args['coordinate0'])\n",
    "\n",
    "    if reader_args['coordinate1'] is not None:\n",
    "        reader.coordinates[1] = int(reader_args['coordinate1'])\n",
    "\n",
    "    if reader_args['coordinate2'] is not None:\n",
    "        reader.coordinates[2] = int(reader_args['coordinate2'])\n",
    "\n",
    "    if (reader_args['string_field_column'] is not None and\n",
    "        len(reader_args['string_field_column']) > 0):\n",
    "        for (field, column) in group(reader_args['string_field_column'], 2):\n",
    "            reader.string_fields[field] = column\n",
    "\n",
    "    if (reader_args['time_field_column'] is not None and\n",
    "        len(reader_args['time_field_column']) > 0):\n",
    "        for (field, column) in group(reader_args['time_field_column'], 2):\n",
    "            reader.time_fields[field] = column\n",
    "\n",
    "    if (reader_args['numeric_field_column'] is not None and\n",
    "        len(reader_args['numeric_field_column']) > 0):\n",
    "        for (field, column) in group(reader_args['numeric_field_column'], 2):\n",
    "            reader.numeric_fields[field] = column\n",
    "\n",
    "    return reader"
   ]
  },
  {
   "cell_type": "markdown",
   "metadata": {},
   "source": [
    "Utility function for reading groups of elements from an iterable.    \n",
    "Collects data into fixed-length chunks or blocks    \n",
    "&nbsp;&nbsp;&nbsp;&nbsp;<span style=\"color:red\">Example:</span> ('ABCDEFG', 3, 'x') -> ABC DEF Gxx    "
   ]
  },
  {
   "cell_type": "code",
   "execution_count": 3,
   "metadata": {},
   "outputs": [],
   "source": [
    "def group(iterable, howmany, fillvalue=None):\n",
    "    args = [ iter(iterable) ] * howmany\n",
    "    return izip_longest(fillvalue=fillvalue, *args)"
   ]
  }
 ],
 "metadata": {
  "kernelspec": {
   "display_name": "Python 3",
   "language": "python",
   "name": "python3"
  },
  "language_info": {
   "codemirror_mode": {
    "name": "ipython",
    "version": 3
   },
   "file_extension": ".py",
   "mimetype": "text/x-python",
   "name": "python",
   "nbconvert_exporter": "python",
   "pygments_lexer": "ipython3",
   "version": "3.7.3"
  }
 },
 "nbformat": 4,
 "nbformat_minor": 2
}
