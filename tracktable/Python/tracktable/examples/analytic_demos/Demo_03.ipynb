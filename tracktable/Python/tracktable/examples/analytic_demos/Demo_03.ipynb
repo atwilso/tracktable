{
 "cells": [
  {
   "cell_type": "markdown",
   "source": [
    "<span style=\"color:#888888\">Copyright (c) 2014-2021 National Technology and Engineering Solutions of Sandia, LLC. Under the terms of Contract DE-NA0003525 with National Technology and Engineering Solutions of Sandia, LLC, the U.S. Government retains certain rights in this software.     Redistribution and use in source and binary forms, with or without modification, are permitted provided that the following conditions are met:</span>\n",
    "\n",
    "<span style=\"color:#888888\">1. Redistributions of source code must retain the above copyright notice, this list of conditions and the following disclaimer.</span>\n",
    "\n",
    "<span style=\"color:#888888\">2. Redistributions in binary form must reproduce the above copyright notice, this list of conditions and the following disclaimer in the documentation and/or other materials provided with the distribution.</span>\n",
    "\n",
    "<span style=\"color:#888888\">THIS SOFTWARE IS PROVIDED BY THE COPYRIGHT HOLDERS AND CONTRIBUTORS \"AS IS\" AND ANY EXPRESS OR IMPLIED WARRANTIES, INCLUDING, BUT NOT LIMITED TO, THE IMPLIED WARRANTIES OF MERCHANTABILITY AND FITNESS FOR A PARTICULAR PURPOSE ARE DISCLAIMED. IN NO EVENT SHALL THE COPYRIGHT HOLDER OR CONTRIBUTORS BE LIABLE FOR ANY DIRECT, INDIRECT, INCIDENTAL, SPECIAL, EXEMPLARY, OR CONSEQUENTIAL DAMAGES (INCLUDING, BUT NOT LIMITED TO, PROCUREMENT OF SUBSTITUTE GOODS OR SERVICES; LOSS OF USE, DATA, OR PROFITS; OR BUSINESS INTERRUPTION) HOWEVER CAUSED AND ON ANY THEORY OF LIABILITY, WHETHER IN CONTRACT, STRICT LIABILITY, OR TORT (INCLUDING NEGLIGENCE OR OTHERWISE) ARISING IN ANY WAY OUT OF THE USE OF THIS SOFTWARE, EVEN IF ADVISED OF THE POSSIBILITY OF SUCH DAMAGE.</span>"
   ],
   "metadata": {
    "nbsphinx": "hidden"
   }
  },
  {
   "cell_type": "markdown",
   "source": [
    "# <span style=\"color:#0054a8\">**Demo 3:**</span> <span style=\"color:#555555\">Travel Prediction Using Alignment</span>"
   ],
   "metadata": {}
  },
  {
   "cell_type": "markdown",
   "source": [
    "This notebook describes how to use well-aligned historical trajectories to predict qualities about an observed trajectory's travel. Namely, in this notebook we predict the origin/destination location of an observed trajectory and the location of an observed trajectory in a specified amount of time. "
   ],
   "metadata": {}
  },
  {
   "cell_type": "code",
   "execution_count": null,
   "source": [
    "from tracktable.analysis.prediction import *\n",
    "from tracktable.core import data_directory\n",
    "import os.path"
   ],
   "outputs": [],
   "metadata": {}
  },
  {
   "cell_type": "markdown",
   "source": [
    "## Load in the Data"
   ],
   "metadata": {}
  },
  {
   "cell_type": "markdown",
   "source": [
    "We read in the file containing historical trajectories and store all relevant information in a dictionary. In our case, the dataset is a ~500 trajectory subset from one day of flight data over the US airspace. While using the full day of flight data (or even more data) would yield better predictions, we use a subset to cut down on the time required to process historical trajectories. "
   ],
   "metadata": {}
  },
  {
   "cell_type": "code",
   "execution_count": null,
   "source": [
    "historical_data_file = os.path.join(data_directory(), 'prediction_historical_trajectories.traj')"
   ],
   "outputs": [],
   "metadata": {}
  },
  {
   "cell_type": "code",
   "execution_count": null,
   "source": [
    "predict_dict = process_historical_trajectories(historical_data_file,  # file containing historical trajectories                                                                                          \n",
    "                                               separation_time=20, # minutes\n",
    "                                               separation_distance=100, # km \n",
    "                                               minimum_length=20, # km \n",
    "                                               minimum_total_distance=200, # km\n",
    "                                               only_commercial=True # relevant for flight data\n",
    "                                               )"
   ],
   "outputs": [],
   "metadata": {}
  },
  {
   "cell_type": "markdown",
   "source": [
    "Read in the file containing the observed trajectories into a list"
   ],
   "metadata": {}
  },
  {
   "cell_type": "code",
   "execution_count": null,
   "source": [
    "observed_data_file = os.path.join(data_directory(), 'prediction_observed_trajectories.traj')\n"
   ],
   "outputs": [],
   "metadata": {}
  },
  {
   "cell_type": "code",
   "execution_count": null,
   "source": [
    "observed_trajectories = import_observed(observed_data_file)"
   ],
   "outputs": [],
   "metadata": {}
  },
  {
   "cell_type": "markdown",
   "source": [
    "## Visualize the Dataset"
   ],
   "metadata": {}
  },
  {
   "cell_type": "markdown",
   "source": [
    "The number of trajectories in the historical data is..."
   ],
   "metadata": {}
  },
  {
   "cell_type": "code",
   "execution_count": null,
   "source": [
    "len(predict_dict['trajs'])"
   ],
   "outputs": [],
   "metadata": {}
  },
  {
   "cell_type": "markdown",
   "source": [
    "An image of the historical data is shown below. For brevity, we upload an image of the dataset. However, if you wish to render an interactive version of the dataset, uncomment and run the code below."
   ],
   "metadata": {}
  },
  {
   "cell_type": "code",
   "execution_count": null,
   "source": [
    "# render_trajectories(predict_dict['trajs'], backend='folium', tiles='CartoDBPositron')"
   ],
   "outputs": [],
   "metadata": {}
  },
  {
   "cell_type": "markdown",
   "source": [
    "![prediction_data](demo_images/prediction_data.png)"
   ],
   "metadata": {}
  },
  {
   "cell_type": "markdown",
   "source": [
    "The number of observed trajectories is...."
   ],
   "metadata": {}
  },
  {
   "cell_type": "code",
   "execution_count": null,
   "source": [
    "len(observed_trajectories)"
   ],
   "outputs": [],
   "metadata": {}
  },
  {
   "cell_type": "markdown",
   "source": [
    "We visualize them below."
   ],
   "metadata": {}
  },
  {
   "cell_type": "code",
   "execution_count": null,
   "source": [
    "render_trajectories(observed_trajectories, backend='folium', tiles='CartoDBPositron')"
   ],
   "outputs": [],
   "metadata": {}
  },
  {
   "cell_type": "markdown",
   "source": [
    "## Prediction"
   ],
   "metadata": {}
  },
  {
   "cell_type": "markdown",
   "source": [
    "### Step 1: choose the observed trajectory"
   ],
   "metadata": {}
  },
  {
   "cell_type": "markdown",
   "source": [
    "Choose and observed trajectory from the list."
   ],
   "metadata": {}
  },
  {
   "cell_type": "code",
   "execution_count": null,
   "source": [
    "observed_trajectory = observed_trajectories[0]"
   ],
   "outputs": [],
   "metadata": {}
  },
  {
   "cell_type": "markdown",
   "source": [
    "Choose how many sample points to represent the observed trajectory with. \n",
    "<br><br>\n",
    "The sample points (samples) are evenly spaced points along the observed trajectory. The first and last sample points in the list are the end points of the observed trajectory. The fewer the sample points, the less detailed the representation of the observed trajectory. For example, if 2 sample points are used, the observed trajectory is represented as a line segment. Change this number from 2 to 4 to see the difference in representation. "
   ],
   "metadata": {}
  },
  {
   "cell_type": "code",
   "execution_count": null,
   "source": [
    "sampled_trajectory = sample_traj(observed_trajectory, 2)"
   ],
   "outputs": [],
   "metadata": {}
  },
  {
   "cell_type": "code",
   "execution_count": null,
   "source": [
    "render_trajectories([observed_trajectory, sampled_trajectory], line_color=['blue', 'red'], backend='folium', tiles='CartoDBPositron', show_points=True)"
   ],
   "outputs": [],
   "metadata": {}
  },
  {
   "cell_type": "markdown",
   "source": [
    "### Step 2: Alignment"
   ],
   "metadata": {}
  },
  {
   "cell_type": "markdown",
   "source": [
    "Alignment is the central, driving algorithm of prediction. It finds well-aligned historical trajectories that are similar in shape and relative location to an observed trajectory. These well-aligned historical trajectories can be used to fill in unknown qualities about an object's motion (observed trajectory). Two applications of alignment are origin/destination prediction and time-based location prediction. We show those here."
   ],
   "metadata": {}
  },
  {
   "cell_type": "markdown",
   "source": [
    "![prediction_cartoon](demo_images/prediction_cartoon.png)"
   ],
   "metadata": {}
  },
  {
   "cell_type": "markdown",
   "source": [
    "A historical trajectory is well-aligned with an observed trajectory if for each sample point of the observed trajectory, the distance to the historical trajectory is less than the neighborhood distance (radius of circles in image above). The orange historical trajectory is well aligned with the black historical trajectory above. The align function returns a dictionary which maps each historical trajectory to the number of sample points it is close to. We then filter this dictionary to contain only the trajectories that are close to all of the sample points. "
   ],
   "metadata": {}
  },
  {
   "cell_type": "code",
   "execution_count": null,
   "source": [
    "neighborhood_distance = 10"
   ],
   "outputs": [],
   "metadata": {}
  },
  {
   "cell_type": "code",
   "execution_count": null,
   "source": [
    "well_aligned_trajectories = find_well_aligned_trajectories(sampled_trajectory, predict_dict, neighborhood_distance)"
   ],
   "outputs": [],
   "metadata": {}
  },
  {
   "cell_type": "markdown",
   "source": [
    "### Step 3: Direction check"
   ],
   "metadata": {}
  },
  {
   "cell_type": "markdown",
   "source": [
    "![prediction_cartoon_2](demo_images/prediction_cartoon_2.png)"
   ],
   "metadata": {}
  },
  {
   "cell_type": "markdown",
   "source": [
    "To determine if a historical trajectory is going in the same direction as an observed trajectory, first, represent the historical trajectory using segments. Find the closest segment of the historical trajectory to the first and last points in time of the observed trajectory. Interpolate along these two segments to find the closest point in space on the historical trajectory to the first and last point of the observed trajectory. Let t1 be the time of the point on the historical trajectory closest to the first point of the observed trajectory in space. Let t2 be the time of the point on the historical trajectory closest to the last point of the observed trajectory in space. If t2 - t1 > 0 then the historical trajectory and the observed trajectory are going in the same direction."
   ],
   "metadata": {}
  },
  {
   "cell_type": "code",
   "execution_count": null,
   "source": [
    "same_direction = find_same_direction_trajectories(sampled_trajectory, well_aligned_trajectories, predict_dict)"
   ],
   "outputs": [],
   "metadata": {}
  },
  {
   "cell_type": "markdown",
   "source": [
    "### Step 4: Assign a weight to each trajectory  "
   ],
   "metadata": {}
  },
  {
   "cell_type": "markdown",
   "source": [
    "The weight assigned to a trajectory is a function of the distance of the sample point that is farthest away from that trajectory. Here, a trajectory's weight is this distance scaled linearly by the neighborhood distance (1 is the weight if the trajectory and sample point overlap, 0 is the weight if the distance from the trajectory to the sample point is neighborhood distance). "
   ],
   "metadata": {}
  },
  {
   "cell_type": "code",
   "execution_count": null,
   "source": [
    "weight_fn = lambda d: 1 - d / neighborhood_distance "
   ],
   "outputs": [],
   "metadata": {}
  },
  {
   "cell_type": "code",
   "execution_count": null,
   "source": [
    "weights = find_weights_trajs(sampled_trajectory, same_direction, predict_dict, weight_fn)"
   ],
   "outputs": [],
   "metadata": {}
  },
  {
   "cell_type": "markdown",
   "source": [
    "Optionally, trajectories can be grouped by origin/destination pair during this step. Weights are then assigned to each origin/destination pair. This is not shown above, but is used for origin/destination prediction."
   ],
   "metadata": {}
  },
  {
   "cell_type": "markdown",
   "source": [
    "## Make Predictions"
   ],
   "metadata": {}
  },
  {
   "cell_type": "markdown",
   "source": [
    "Use the two prediction functions to link all of these steps together. "
   ],
   "metadata": {}
  },
  {
   "cell_type": "markdown",
   "source": [
    "### Origin/Destination prediction"
   ],
   "metadata": {}
  },
  {
   "cell_type": "markdown",
   "source": [
    "We can make a prediction about the observed trajectory's orign and destination. On this list of predictions, a higher weight corresponds to a more likely prediction. Optionally, set the neighborhood distance (how close well-aligned historical trajectories must be to the sample points of the observed trajectory). "
   ],
   "metadata": {}
  },
  {
   "cell_type": "code",
   "execution_count": null,
   "source": [
    "results = predict_origin_destination(observed_trajectory, \n",
    "                                     predict_dict,\n",
    "                                     samples=4,\n",
    "                                     neigh_distance=10 #km\n",
    "                                    )"
   ],
   "outputs": [],
   "metadata": {}
  },
  {
   "cell_type": "markdown",
   "source": [
    "We can also visualize the trajectories leading to this prediction. The observed trajectory is displayed in red. The trajectories from the historical dataset that passed nearby the observed trajectory are displayed in colors corresponding to their position on the prediction list, as shown below:"
   ],
   "metadata": {}
  },
  {
   "cell_type": "code",
   "execution_count": null,
   "source": [
    "display_color_map('viridis')"
   ],
   "outputs": [],
   "metadata": {}
  },
  {
   "cell_type": "code",
   "execution_count": null,
   "source": [
    "od_render(observed_trajectory, results, predict_dict)"
   ],
   "outputs": [],
   "metadata": {}
  },
  {
   "cell_type": "markdown",
   "source": [
    "### Time-based location prediction"
   ],
   "metadata": {}
  },
  {
   "cell_type": "markdown",
   "source": [
    "Time-based location prediction is done in a similar way to the direction check. First, represent a well-aligned historical trajectory using segments. Find the closest segment of the historical trajectory to the last point in time of the observed trajectory. Interpolate along this segment to find the closest point in space on the historical trajectory to the last point of the observed trajectory. Find the point on the historical trajectory that is x minutes from this point. This is the predicted location in x minutes and the portion of the historical trajectory between these two points is its predicted path. "
   ],
   "metadata": {}
  },
  {
   "cell_type": "markdown",
   "source": [
    "![prediction_cartoon_3](demo_images/prediction_cartoon_3.png)"
   ],
   "metadata": {}
  },
  {
   "cell_type": "markdown",
   "source": [
    "We can make a prediction about where the observed object will be in a given number of minutes (in this case 30). Optionally, set the neighborhood distance (how close well-aligned historical trajectories must be to the sample points of the observed trajectory).  "
   ],
   "metadata": {}
  },
  {
   "cell_type": "code",
   "execution_count": null,
   "source": [
    "points, paths, weights = predict_location(observed_trajectory, predict_dict, minutes=30, samples=4, neigh_distance=10)"
   ],
   "outputs": [],
   "metadata": {}
  },
  {
   "cell_type": "markdown",
   "source": [
    "Again, we can visualize the historical trajectories leading to this prediction. The trajecories from the historical dataset that passed nearby the observed trajectory are displayed in grey. They represent the possible future paths of the observed trajectory. The white dots represent the possible locations the observed trajectory will be in the specified amount of time. The color of the heatmap corresponds to the likelihood the observed object will be in a given region in the specified amount of time, as shown below:"
   ],
   "metadata": {}
  },
  {
   "cell_type": "code",
   "execution_count": null,
   "source": [
    "display_color_map('viridis')"
   ],
   "outputs": [],
   "metadata": {}
  },
  {
   "cell_type": "code",
   "execution_count": null,
   "source": [
    "pos_heatmap(points, paths, weights, observed_trajectory)"
   ],
   "outputs": [],
   "metadata": {}
  },
  {
   "cell_type": "markdown",
   "source": [
    "## Create a small relevant data file."
   ],
   "metadata": {}
  },
  {
   "cell_type": "markdown",
   "source": [
    "First, make a list of relevant trajectories. This can be done in two ways for predictions:"
   ],
   "metadata": {}
  },
  {
   "cell_type": "code",
   "execution_count": null,
   "source": [
    "relevant_trajectories = find_relevant_trajs_od(results, predict_dict)"
   ],
   "outputs": [],
   "metadata": {}
  },
  {
   "cell_type": "code",
   "execution_count": null,
   "source": [
    "relevant_trajectories = find_relevant_trajs_location(points, predict_dict)"
   ],
   "outputs": [],
   "metadata": {}
  },
  {
   "cell_type": "markdown",
   "source": [
    "Then, write these trajectories to a .traj file."
   ],
   "metadata": {}
  },
  {
   "cell_type": "code",
   "execution_count": null,
   "source": [
    "write_trajs('subset.traj', relevant_trajectories)"
   ],
   "outputs": [],
   "metadata": {}
  },
  {
   "cell_type": "markdown",
   "source": [
    "Now, instead of loading from a large historical data file, you can load only the trajectories used in the prediction. "
   ],
   "metadata": {}
  }
 ],
 "metadata": {
  "kernelspec": {
   "name": "python3",
   "display_name": "Python 3.8.10 64-bit"
  },
  "language_info": {
   "codemirror_mode": {
    "name": "ipython",
    "version": 3
   },
   "file_extension": ".py",
   "mimetype": "text/x-python",
   "name": "python",
   "nbconvert_exporter": "python",
   "pygments_lexer": "ipython3",
   "version": "3.8.10"
  },
  "interpreter": {
   "hash": "916dbcbb3f70747c44a77c7bcd40155683ae19c65e1c03b4aa3499c5328201f1"
  }
 },
 "nbformat": 4,
 "nbformat_minor": 4
}