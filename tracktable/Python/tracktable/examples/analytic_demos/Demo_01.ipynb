{
 "cells": [
  {
   "cell_type": "markdown",
   "source": [
    "<span style=\"color:#888888\">Copyright (c) 2014-2021 National Technology and Engineering Solutions of Sandia, LLC. Under the terms of Contract DE-NA0003525 with National Technology and Engineering Solutions of Sandia, LLC, the U.S. Government retains certain rights in this software.     Redistribution and use in source and binary forms, with or without modification, are permitted provided that the following conditions are met:</span>\n",
    "\n",
    "<span style=\"color:#888888\">1. Redistributions of source code must retain the above copyright notice, this list of conditions and the following disclaimer.</span>\n",
    "\n",
    "<span style=\"color:#888888\">2. Redistributions in binary form must reproduce the above copyright notice, this list of conditions and the following disclaimer in the documentation and/or other materials provided with the distribution.</span>\n",
    "\n",
    "<span style=\"color:#888888\">THIS SOFTWARE IS PROVIDED BY THE COPYRIGHT HOLDERS AND CONTRIBUTORS \"AS IS\" AND ANY EXPRESS OR IMPLIED WARRANTIES, INCLUDING, BUT NOT LIMITED TO, THE IMPLIED WARRANTIES OF MERCHANTABILITY AND FITNESS FOR A PARTICULAR PURPOSE ARE DISCLAIMED. IN NO EVENT SHALL THE COPYRIGHT HOLDER OR CONTRIBUTORS BE LIABLE FOR ANY DIRECT, INDIRECT, INCIDENTAL, SPECIAL, EXEMPLARY, OR CONSEQUENTIAL DAMAGES (INCLUDING, BUT NOT LIMITED TO, PROCUREMENT OF SUBSTITUTE GOODS OR SERVICES; LOSS OF USE, DATA, OR PROFITS; OR BUSINESS INTERRUPTION) HOWEVER CAUSED AND ON ANY THEORY OF LIABILITY, WHETHER IN CONTRACT, STRICT LIABILITY, OR TORT (INCLUDING NEGLIGENCE OR OTHERWISE) ARISING IN ANY WAY OUT OF THE USE OF THIS SOFTWARE, EVEN IF ADVISED OF THE POSSIBILITY OF SUCH DAMAGE.</span>"
   ],
   "metadata": {
    "nbsphinx": "hidden"
   }
  },
  {
   "cell_type": "markdown",
   "source": [
    "# <span style=\"color:#0054a8\">**Demo 1:**</span> <span style=\"color:#555555\">Anomaly Detection using Passersby</span>"
   ],
   "metadata": {}
  },
  {
   "cell_type": "code",
   "execution_count": null,
   "source": [
    "from tracktable.render.render_trajectories import render_trajectories\n",
    "from tracktable.applications.anomaly_detection import anomaly_detection\n",
    "import tracktable.examples.tutorials.tutorial_helper as tutorial"
   ],
   "outputs": [],
   "metadata": {}
  },
  {
   "cell_type": "markdown",
   "source": [
    "## Import Historical and Test Datasets"
   ],
   "metadata": {}
  },
  {
   "cell_type": "markdown",
   "source": [
    "For this demo, we will use one week of maritime traffic in NY Harbor in December 2020$^1$ as our historical dataset, and the following day of maritime traffic in NY Harbor $^2$ for our test trajectory dataset."
   ],
   "metadata": {}
  },
  {
   "cell_type": "code",
   "execution_count": null,
   "source": [
    "historical_trajectories = tutorial.get_trajectory_list('anomaly-historical')\n",
    "test_trajectories = tutorial.get_trajectory_list('anomaly-test')"
   ],
   "outputs": [],
   "metadata": {}
  },
  {
   "cell_type": "markdown",
   "source": [
    "## Detect Anomalies"
   ],
   "metadata": {}
  },
  {
   "cell_type": "markdown",
   "source": [
    "We send the anomaly detection function our historical and test trajectories, and for each test trajectory it detects how many historical trajectories passed by all `num_control_points` points equally-spaced along the trajectory (defaulted to 4), within a radius of `nearness_radius` kilometers (defaulted to 5km) of each point."
   ],
   "metadata": {}
  },
  {
   "cell_type": "code",
   "execution_count": null,
   "source": [
    "%%time\n",
    "\n",
    "nearby_trajectory_indices = anomaly_detection(test_trajectories,\n",
    "                                                historical_trajectories=historical_trajectories,\n",
    "                                                nearness_radius=1,\n",
    "                                                num_control_points=4,\n",
    "                                                filename=\"test.log\")"
   ],
   "outputs": [],
   "metadata": {}
  },
  {
   "cell_type": "markdown",
   "source": [
    "### Store our anomaly score as a trajectory property.\n",
    "\n",
    "We can create new properties to be stored with a given trajectory.  Let's store the number of passersby from the historical trajectories as an \"anomaly score\", where 0 is the most anomalous, as this means no historical trajectories passed along the same route."
   ],
   "metadata": {}
  },
  {
   "cell_type": "code",
   "execution_count": null,
   "source": [
    "for i, traj in enumerate(test_trajectories):\n",
    "    traj.set_property('anomalous_score', len(nearby_trajectory_indices[i]))"
   ],
   "outputs": [],
   "metadata": {}
  },
  {
   "cell_type": "markdown",
   "source": [
    "### Sort the trajectories by their anomaly score."
   ],
   "metadata": {}
  },
  {
   "cell_type": "code",
   "execution_count": null,
   "source": [
    "sorted_trajectories = sorted(enumerate(test_trajectories), key=lambda x: x[1].properties['anomalous_score'])"
   ],
   "outputs": [],
   "metadata": {}
  },
  {
   "cell_type": "markdown",
   "source": [
    "## Visualize Anomalies"
   ],
   "metadata": {}
  },
  {
   "cell_type": "markdown",
   "source": [
    "### Visualize all anomalous trajectories\n",
    "\n",
    "You can scroll and zoom to examine each anomalous trajectory more closely."
   ],
   "metadata": {}
  },
  {
   "cell_type": "code",
   "execution_count": null,
   "source": [
    "render_trajectories([trajectory for trajectory in test_trajectories if trajectory.properties['anomalous_score'] == 0])"
   ],
   "outputs": [],
   "metadata": {}
  },
  {
   "cell_type": "markdown",
   "source": [
    "### Visualize the `i`-th most anomalous trajectory, where `i = 0` is the most and `i = -1` is the least."
   ],
   "metadata": {}
  },
  {
   "cell_type": "code",
   "execution_count": null,
   "source": [
    "# Change i to change the trajectory being visualized in the following cells.\n",
    "i = -1"
   ],
   "outputs": [],
   "metadata": {}
  },
  {
   "cell_type": "markdown",
   "source": [
    "#### Render the trajectory alone."
   ],
   "metadata": {}
  },
  {
   "cell_type": "code",
   "execution_count": null,
   "source": [
    "canvas = render_trajectories(sorted_trajectories[i][1], show=True)"
   ],
   "outputs": [],
   "metadata": {}
  },
  {
   "cell_type": "markdown",
   "source": [
    "#### Render again with historical passersby."
   ],
   "metadata": {}
  },
  {
   "cell_type": "markdown",
   "source": [
    "Create a list of the historical trajectories that passed by the same route as this trajectory."
   ],
   "metadata": {}
  },
  {
   "cell_type": "code",
   "execution_count": null,
   "source": [
    "passersby = []\n",
    "for index in nearby_trajectory_indices[sorted_trajectories[i][0]]:\n",
    "    passersby.append(historical_trajectories[index])"
   ],
   "outputs": [],
   "metadata": {}
  },
  {
   "cell_type": "markdown",
   "source": [
    "How many historical passersby does this trajectory have?"
   ],
   "metadata": {}
  },
  {
   "cell_type": "code",
   "execution_count": null,
   "source": [
    "len(passersby)"
   ],
   "outputs": [],
   "metadata": {}
  },
  {
   "cell_type": "markdown",
   "source": [
    "Let's render the first twenty alongside the `i`-th most anomalous test trajectory."
   ],
   "metadata": {}
  },
  {
   "cell_type": "code",
   "execution_count": null,
   "source": [
    "render_trajectories(passersby[:20], canvas=canvas)"
   ],
   "outputs": [],
   "metadata": {}
  },
  {
   "cell_type": "markdown",
   "source": [
    "<span style=\"color:gray\">$^1$ Bureau of Ocean Energy Management (BOEM) and National Oceanic and Atmospheric Administration (NOAA). MarineCadastre.gov. <i>AIS Data for 2020.</i> Retrieved May 2021 from [marinecadastre.gov/data](https://marinecadastre.gov/data/).  US coastal maritime traffic trimmed down to June 30, 2020.</span>\n",
    "   <br>\n",
    "   <br>\n",
    "<span style=\"color:gray\">$^2$ Bureau of Ocean Energy Management (BOEM) and National Oceanic and Atmospheric Administration (NOAA). MarineCadastre.gov. <i>AIS Data for 2020.</i> Retrieved May 2021 from [marinecadastre.gov/data](https://marinecadastre.gov/data/).  US coastal maritime traffic trimmed down to before noon on July 1, 2020.</span>\n"
   ],
   "metadata": {}
  }
 ],
 "metadata": {
  "kernelspec": {
   "name": "python3",
   "display_name": "Python 3.8.10 64-bit"
  },
  "language_info": {
   "codemirror_mode": {
    "name": "ipython",
    "version": 3
   },
   "file_extension": ".py",
   "mimetype": "text/x-python",
   "name": "python",
   "nbconvert_exporter": "python",
   "pygments_lexer": "ipython3",
   "version": "3.8.10"
  },
  "interpreter": {
   "hash": "31f2aee4e71d21fbe5cf8b01ff0e069b9275f58929596ceb00d14d90e3e16cd6"
  }
 },
 "nbformat": 4,
 "nbformat_minor": 4
}