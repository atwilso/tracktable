{
 "cells": [
  {
   "cell_type": "markdown",
   "id": "06266b15",
   "metadata": {
    "nbsphinx": "hidden"
   },
   "source": [
    "<span style=\"color:#888888\">Copyright (c) 2014-2021 National Technology and Engineering Solutions of Sandia, LLC. Under the terms of Contract DE-NA0003525 with National Technology and Engineering Solutions of Sandia, LLC, the U.S. Government retains certain rights in this software.     Redistribution and use in source and binary forms, with or without modification, are permitted provided that the following conditions are met:</span>\n",
    "\n",
    "<span style=\"color:#888888\">1. Redistributions of source code must retain the above copyright notice, this list of conditions and the following disclaimer.</span>\n",
    "\n",
    "<span style=\"color:#888888\">2. Redistributions in binary form must reproduce the above copyright notice, this list of conditions and the following disclaimer in the documentation and/or other materials provided with the distribution.</span>\n",
    "\n",
    "<span style=\"color:#888888\">THIS SOFTWARE IS PROVIDED BY THE COPYRIGHT HOLDERS AND CONTRIBUTORS \"AS IS\" AND ANY EXPRESS OR IMPLIED WARRANTIES, INCLUDING, BUT NOT LIMITED TO, THE IMPLIED WARRANTIES OF MERCHANTABILITY AND FITNESS FOR A PARTICULAR PURPOSE ARE DISCLAIMED. IN NO EVENT SHALL THE COPYRIGHT HOLDER OR CONTRIBUTORS BE LIABLE FOR ANY DIRECT, INDIRECT, INCIDENTAL, SPECIAL, EXEMPLARY, OR CONSEQUENTIAL DAMAGES (INCLUDING, BUT NOT LIMITED TO, PROCUREMENT OF SUBSTITUTE GOODS OR SERVICES; LOSS OF USE, DATA, OR PROFITS; OR BUSINESS INTERRUPTION) HOWEVER CAUSED AND ON ANY THEORY OF LIABILITY, WHETHER IN CONTRACT, STRICT LIABILITY, OR TORT (INCLUDING NEGLIGENCE OR OTHERWISE) ARISING IN ANY WAY OUT OF THE USE OF THIS SOFTWARE, EVEN IF ADVISED OF THE POSSIBILITY OF SUCH DAMAGE.</span>"
   ]
  },
  {
   "cell_type": "markdown",
   "id": "02182bca",
   "metadata": {},
   "source": [
    "# <span style=\"color:#0054a8\">**Tutorial 5-E:**</span> <span style=\"color:#555555\">Airport & Port Visualization</span>"
   ]
  },
  {
   "cell_type": "markdown",
   "id": "4a2b8380",
   "metadata": {},
   "source": [
    "## Purpose\n",
    "\n",
    "This notebook demonstrates how to use Tracktable's airport and port databases to populate a map.  Tracktable has numerous rendering methods, and not all are shown here.  A comprehensive rendering user guide can be found in the Tracktable documentation: https://tracktable.readthedocs.io/en/latest/user_guides/python/rendering.html"
   ]
  },
  {
   "cell_type": "markdown",
   "id": "4a648a01",
   "metadata": {},
   "source": [
    "**<span style=\"color:#81062e\">IMPORTANT:</span>** When rendering trajectories interactively, the memory required to render large lists of trajectories may cause your browser to shut down.  Try rendering smaller datasets first and work up from there to test your browser's capacity."
   ]
  },
  {
   "cell_type": "code",
   "execution_count": null,
   "id": "314ccc78",
   "metadata": {},
   "outputs": [],
   "source": [
    "import tracktable.examples.tutorials.tutorial_helper as tutorial \n",
    "from tracktable.render.render_trajectories import render_trajectories\n",
    "from tracktable.render.render_heatmap import render_heatmap\n",
    "from tracktable.render.backends import folium_backend\n",
    "from tracktable.domain.terrestrial import BoundingBox"
   ]
  },
  {
   "cell_type": "markdown",
   "id": "ab101314",
   "metadata": {},
   "source": [
    "### Instantiating a blank map"
   ]
  },
  {
   "cell_type": "markdown",
   "id": "d42ccaa1",
   "metadata": {},
   "source": [
    "We include a tutorial helper function, `generate_blank_folium_map()`, to generate a blank folium map as well as this `create_map()` wrapper for easily resetting and creating a folium map. `create_map()` will be called throughout this tutorial to reset the map between examples. If the map is not reset then markers and dots for airports and ports will be continually added to the map."
   ]
  },
  {
   "cell_type": "code",
   "execution_count": null,
   "id": "3e75825a",
   "metadata": {},
   "outputs": [],
   "source": [
    "# Folium needs two corner points for bounding boxes: [sw, ne], in (lat,lon) order\n",
    "# For most of this tutorial we will be setting the bounding box of the folium map to CONUS.\n",
    "def create_map(bbox=[(22,-130),(50,-65)]):\n",
    "    return tutorial.generate_blank_folium_map(bbox=bbox, \n",
    "                                            tiles='cartodbdark_matter', attr=\".\", crs=\"EPSG3857\",\n",
    "                                            control_scale=True,\n",
    "                                            max_zoom=22, \n",
    "                                            prefer_canvas=True)          "
   ]
  },
  {
   "cell_type": "markdown",
   "id": "221e8fe0",
   "metadata": {},
   "source": [
    "### Rendering Airports"
   ]
  },
  {
   "cell_type": "markdown",
   "id": "7bf09b35",
   "metadata": {},
   "source": [
    "Rendering airports on to a folium map is as simple as calling the `render_airports_and_ports()` function with the generated foluim map from above as well as a list of ICAO/IATA codes of the airports which should be rendered, a bounding box in which to render all airports or both at the same time. Each marker/dot rendered onto the map has a tooltip and popup window which provides the following infromation about the given airport.\n",
    "\n",
    "- Name\n",
    "- City\n",
    "- Country\n",
    "- Lat, Lon, Alt (Feet & Meters)\n",
    "- IATA Code\n",
    "- ICAO Code\n",
    "- UTC Offset\n",
    "- Daylight Savings"
   ]
  },
  {
   "cell_type": "markdown",
   "id": "5794429d",
   "metadata": {},
   "source": [
    "By default, when rendering airports, if no airport list or bounding box is provided all airports in the database will be rendered onto the map.\n",
    "\n",
    "<span style=\"color:#0054a8\">Note:</span> If the `use_markers` flag is set to `True` there will be a significant performance slowdown when viewing the map."
   ]
  },
  {
   "cell_type": "code",
   "execution_count": null,
   "id": "e3129e17",
   "metadata": {},
   "outputs": [],
   "source": [
    "fol_map_canvas = create_map(bbox=None)\n",
    "folium_backend.render_airports_and_ports(fol_map_canvas, \n",
    "                                        draw_airports=True\n",
    "                                        )\n",
    "fol_map_canvas"
   ]
  },
  {
   "cell_type": "markdown",
   "id": "ad68bec9",
   "metadata": {},
   "source": [
    "Next, we'll provide a list of individual airports identified by their IATA codes to render onto the map."
   ]
  },
  {
   "cell_type": "code",
   "execution_count": null,
   "id": "801efb1e",
   "metadata": {},
   "outputs": [],
   "source": [
    "fol_map_canvas = create_map()\n",
    "folium_backend.render_airports_and_ports(fol_map_canvas, \n",
    "                                        draw_airports=True, \n",
    "                                        airport_list=[\"ABQ\", \"SFO\", \"SEA\", \"JFK\"]\n",
    "                                        )\n",
    "fol_map_canvas"
   ]
  },
  {
   "cell_type": "markdown",
   "id": "4d88ba9c",
   "metadata": {},
   "source": [
    "In order to better visualize the airports being rendered we can utilize markers when rendering the airports as well as change the color of the markers if desired. \n",
    "\n",
    "<span style=\"color:#0054a8\">Note:</span> Using markers causing a significant performance decrease when rendering large amounts of airports. Ensure that `prefer_canvas` is set to `True` when creating the folium map or don't use markers when rendering large quantities of airports. "
   ]
  },
  {
   "cell_type": "code",
   "execution_count": null,
   "id": "32a3fff5",
   "metadata": {},
   "outputs": [],
   "source": [
    "fol_map_canvas = create_map()\n",
    "folium_backend.render_airports_and_ports(fol_map_canvas, \n",
    "                                        draw_airports=True, \n",
    "                                        airport_list=[\"ABQ\", \"SFO\", \"SEA\", \"JFK\"], \n",
    "                                        use_markers=True, \n",
    "                                        airport_color=\"green\"\n",
    "                                        )\n",
    "fol_map_canvas"
   ]
  },
  {
   "cell_type": "markdown",
   "id": "8404ef1b",
   "metadata": {},
   "source": [
    "Next, we will use a bounding box instead of a list of airports to render all of the airports located in Florida."
   ]
  },
  {
   "cell_type": "code",
   "execution_count": null,
   "id": "93c52c44",
   "metadata": {},
   "outputs": [],
   "source": [
    "fol_map_canvas = create_map()\n",
    "folium_backend.render_airports_and_ports(fol_map_canvas, \n",
    "                                        draw_airports=True, \n",
    "                                        airport_bounding_box=BoundingBox((-88, 24), (-79.5, 31)), \n",
    "                                        use_markers=True\n",
    "                                        )\n",
    "fol_map_canvas"
   ]
  },
  {
   "cell_type": "markdown",
   "id": "79beaab3",
   "metadata": {},
   "source": [
    "A list of airports and a bounding box can be provided at the same time to create more detailed visualizations."
   ]
  },
  {
   "cell_type": "code",
   "execution_count": null,
   "id": "05cef0e1",
   "metadata": {},
   "outputs": [],
   "source": [
    "fol_map_canvas = create_map()\n",
    "folium_backend.render_airports_and_ports(fol_map_canvas, \n",
    "                                        draw_airports=True, \n",
    "                                        airport_list=[\"ABQ\", \"SFO\", \"SEA\", \"JFK\"], \n",
    "                                        airport_bounding_box=BoundingBox((-88, 24), (-79.5, 31)), \n",
    "                                        use_markers=True\n",
    "                                        )\n",
    "fol_map_canvas"
   ]
  },
  {
   "cell_type": "markdown",
   "id": "5f69c19f",
   "metadata": {},
   "source": [
    "If we don't reset the map between calls to `render_airport_and_ports()` we are able to display various visualization combinations."
   ]
  },
  {
   "cell_type": "code",
   "execution_count": null,
   "id": "1ca826e2",
   "metadata": {},
   "outputs": [],
   "source": [
    "fol_map_canvas = create_map()\n",
    "folium_backend.render_airports_and_ports(fol_map_canvas, \n",
    "                                        draw_airports=True, \n",
    "                                        airport_list=[\"ABQ\", \"SFO\", \"SEA\", \"JFK\"], \n",
    "                                        use_markers=False, \n",
    "                                        airport_color=\"green\"\n",
    "                                        )\n",
    "folium_backend.render_airports_and_ports(fol_map_canvas, \n",
    "                                        draw_airports=True, \n",
    "                                        airport_bounding_box=BoundingBox((-88, 24), (-79.5, 31)), \n",
    "                                        use_markers=True\n",
    "                                        )\n",
    "fol_map_canvas"
   ]
  },
  {
   "cell_type": "markdown",
   "id": "ce0d6010",
   "metadata": {},
   "source": [
    "Lastly, airports can be rendered directly from `render_trajectories` or `render_heatmap` when rendering trajectories or trajectory points onto a map to make it easier to see where the trajectories are going to and coming from or which airports are \"hotter\" then others."
   ]
  },
  {
   "cell_type": "code",
   "execution_count": null,
   "id": "329f4b0b",
   "metadata": {},
   "outputs": [],
   "source": [
    "trajectories = tutorial.get_trajectory_list('two-flights')\n",
    "render_trajectories(trajectories, \n",
    "                    draw_airports=True, \n",
    "                    use_markers=True, \n",
    "                    airport_bounding_box=BoundingBox((-82.6578, 26.7664), (-81.8075, 27.4872)),\n",
    "                    prefer_canvas=True\n",
    "                    )"
   ]
  },
  {
   "cell_type": "markdown",
   "id": "4e08a126",
   "metadata": {},
   "source": [
    "If a static image is prefered, the backend can be changed to generate a static map of the trajectories and airports."
   ]
  },
  {
   "cell_type": "code",
   "execution_count": null,
   "id": "82b2772e",
   "metadata": {},
   "outputs": [],
   "source": [
    "trajectories = tutorial.get_trajectory_list('two-flights')\n",
    "render_trajectories(trajectories, \n",
    "                    backend='cartopy',\n",
    "                    draw_airports=True, \n",
    "                    airport_bounding_box=BoundingBox((-82.6578, 26.7664), (-81.8075, 27.4872)),\n",
    "                    use_arrows=True,\n",
    "                    draw_scale=False,\n",
    "                    airport_label_size=5\n",
    "                    )"
   ]
  },
  {
   "cell_type": "code",
   "execution_count": null,
   "id": "4fc39f1d",
   "metadata": {},
   "outputs": [],
   "source": [
    "trajectories = tutorial.get_trajectory_list('us-flights')\n",
    "points = tutorial.trajectories_to_end_points(trajectories)\n",
    "\n",
    "render_heatmap(points,\n",
    "            trajectories=trajectories, \n",
    "            draw_airports=True, \n",
    "            use_markers=False, \n",
    "            airport_bounding_box=BoundingBox((-130, 22), (-65, 50)),\n",
    "            prefer_canvas=True\n",
    "            )"
   ]
  },
  {
   "cell_type": "markdown",
   "id": "4ecbb106",
   "metadata": {},
   "source": [
    "### Rendering Ports"
   ]
  },
  {
   "cell_type": "markdown",
   "id": "8c623e73",
   "metadata": {},
   "source": [
    "Much like the airport rendering above, rendering ports on to a folium map is as simple as calling the `render_airports_and_ports()` function with the a generated foluim map. Each marker and dot rendered onto the map has a tooltip and popup window which provides the following information about the given port: \n",
    "\n",
    "- Name\n",
    "- Alternate Port Name\n",
    "- Lat, Lon\n",
    "- Region\n",
    "- Water Body\n",
    "- UN/LOCODE\n",
    "- World Port Index Number\n",
    "\n",
    "The port database contains the following reference information that can be use used to pull port information:  \n",
    "\n",
    "- A list of ports (These can be a port's name, alternate name or World Port Index Number) \n",
    "- A bounding box \n",
    "- A country\n",
    "- A body of water\n",
    "- A World Port Index Region\n"
   ]
  },
  {
   "cell_type": "markdown",
   "id": "4f4b1c0a",
   "metadata": {},
   "source": [
    "By default, when rendering ports, if no specific port information is provided all ports will be rendered onto the map."
   ]
  },
  {
   "cell_type": "code",
   "execution_count": null,
   "id": "fce29f09",
   "metadata": {},
   "outputs": [],
   "source": [
    "fol_map_canvas = create_map(bbox=None)\n",
    "folium_backend.render_airports_and_ports(fol_map_canvas, \n",
    "                                        draw_ports=True)\n",
    "fol_map_canvas"
   ]
  },
  {
   "cell_type": "markdown",
   "id": "5431b8d7",
   "metadata": {},
   "source": [
    "Next, we'll provide a list of individual ports identified by their names to render onto the map.\n",
    "\n",
    "<span style=\"color:#0054a8\">Note:</span> If the `use_markers` flag is set to `True` there will be a significant performance slowdown when viewing the map."
   ]
  },
  {
   "cell_type": "code",
   "execution_count": null,
   "id": "3bba9904",
   "metadata": {},
   "outputs": [],
   "source": [
    "fol_map_canvas = create_map(bbox=[(18.206889622398023, -129.375),(56.06484046010452, 2.4609375)])\n",
    "folium_backend.render_airports_and_ports(fol_map_canvas, \n",
    "                                        draw_ports=True,  \n",
    "                                        port_list=[\"newport\", \"Alexandria\", \"New Shoreham\"])\n",
    "fol_map_canvas"
   ]
  },
  {
   "cell_type": "markdown",
   "id": "fe207926",
   "metadata": {},
   "source": [
    "In the previous cell we rendered five ports onto the map, this is because the port `newport` corresponds to three ports in the world. To counteract this we will provide the country we are interested in, `United States`, to `render_airports_and_ports()`. "
   ]
  },
  {
   "cell_type": "code",
   "execution_count": null,
   "id": "90192397",
   "metadata": {},
   "outputs": [],
   "source": [
    "fol_map_canvas = create_map(bbox=[(18.206889622398023, -129.375),(56.06484046010452, 2.4609375)])\n",
    "folium_backend.render_airports_and_ports(fol_map_canvas, \n",
    "                                        draw_ports=True,  \n",
    "                                        port_list=[\"newport\", \"Alexandria\", \"New Shoreham\"], \n",
    "                                        port_country='United States')\n",
    "fol_map_canvas"
   ]
  },
  {
   "cell_type": "markdown",
   "id": "66b19ad2",
   "metadata": {},
   "source": [
    "Now our map contains only three total ports but if we inspect which ports have been rendered we'll see that we still have two `newport` ports. This is a common occurrence as there are many ports in the world. To better get all of the ports we are interested in we will use the _World Port Index Number_ associated with each of the ports."
   ]
  },
  {
   "cell_type": "code",
   "execution_count": null,
   "id": "8580dcde",
   "metadata": {},
   "outputs": [],
   "source": [
    "fol_map_canvas = create_map(bbox=[(18.206889622398023, -129.375),(56.06484046010452, 2.4609375)])\n",
    "folium_backend.render_airports_and_ports(fol_map_canvas, \n",
    "                                        draw_ports=True,  \n",
    "                                        port_list=[16820, \"Alexandria\", \"New Shoreham\"], # WPI numbers can be str or int\n",
    "                                        port_country='United States')\n",
    "fol_map_canvas"
   ]
  },
  {
   "cell_type": "markdown",
   "id": "ec36f7be",
   "metadata": {},
   "source": [
    "In the map above we see that we now only have two ports rendered. `Newport` in Oregon and `Alexandria` near Washington D.C., `New Shoreham` isn't rendered because we restricted our port country to the United States."
   ]
  },
  {
   "cell_type": "markdown",
   "id": "ee91c792",
   "metadata": {},
   "source": [
    "In order to better visualize the ports being rendered we can utilize markers when rendering the ports as well as change the color of the markers if desired. \n",
    "\n",
    "<span style=\"color:#0054a8\">Note:</span> Using markers causing a significant performance decrease when rendering large amounts of ports. Ensure that `prefer_canvas` is set to `True` when creating the folium map or don't use markers when rendering large quantities of ports. "
   ]
  },
  {
   "cell_type": "code",
   "execution_count": null,
   "id": "09b07473",
   "metadata": {},
   "outputs": [],
   "source": [
    "fol_map_canvas = create_map()\n",
    "folium_backend.render_airports_and_ports(fol_map_canvas, \n",
    "                                        draw_ports=True,\n",
    "                                        use_markers=True,  \n",
    "                                        port_list=[16820, \"Alexandria\", \"New Shoreham\"], \n",
    "                                        port_country='United States',\n",
    "                                        port_color=\"green\")\n",
    "fol_map_canvas"
   ]
  },
  {
   "cell_type": "markdown",
   "id": "8b9b8a34",
   "metadata": {},
   "source": [
    "Next, we'll render all of the ports located in in the United States."
   ]
  },
  {
   "cell_type": "code",
   "execution_count": null,
   "id": "b1cbf1be",
   "metadata": {},
   "outputs": [],
   "source": [
    "fol_map_canvas = create_map()\n",
    "folium_backend.render_airports_and_ports(fol_map_canvas, \n",
    "                                        draw_ports=True,\n",
    "                                        use_markers=True, \n",
    "                                        port_country='United States')\n",
    "fol_map_canvas"
   ]
  },
  {
   "cell_type": "markdown",
   "id": "1c98cfd9",
   "metadata": {},
   "source": [
    "A list of ports and a specific country can be rendered independently of each other by setting the `port_and_country_seperate` flag to `True`."
   ]
  },
  {
   "cell_type": "code",
   "execution_count": null,
   "id": "413a16e8",
   "metadata": {},
   "outputs": [],
   "source": [
    "fol_map_canvas = create_map()\n",
    "folium_backend.render_airports_and_ports(fol_map_canvas, \n",
    "                                        draw_ports=True,\n",
    "                                        use_markers=True,  \n",
    "                                        port_list=[\"Alexandria\"], \n",
    "                                        port_country='Mexico',\n",
    "                                        port_and_country_seperate=True)\n",
    "fol_map_canvas"
   ]
  },
  {
   "cell_type": "markdown",
   "id": "a31d1b56",
   "metadata": {},
   "source": [
    "Next, for brevity, we will generate a map with all of the port parameters that we listed above. These parameters can be utilized independently of each other.  "
   ]
  },
  {
   "cell_type": "code",
   "execution_count": null,
   "id": "568dfd5f",
   "metadata": {},
   "outputs": [],
   "source": [
    "fol_map_canvas = create_map(bbox=None)\n",
    "folium_backend.render_airports_and_ports(fol_map_canvas, \n",
    "                                        draw_ports=True,\n",
    "                                        use_markers=True,  \n",
    "                                        port_list=[\"63110\", 63070, \"Mar Del Plata\", \"Eva Peron\"], \n",
    "                                        port_country=\"South Korea\",\n",
    "                                        port_water_body=\"Baltic Sea\",\n",
    "                                        port_wpi_region=\"Japan -- 61100\",\n",
    "                                        port_bounding_box=BoundingBox((-88, 24), (-79.5, 31)), # Florida\n",
    "                                        port_and_country_seperate=True)\n",
    "fol_map_canvas"
   ]
  },
  {
   "cell_type": "markdown",
   "id": "c0000d07",
   "metadata": {},
   "source": [
    "If we don't reset the map between calls to `render_airport_and_ports()` we are able to display various visualization combinations."
   ]
  },
  {
   "cell_type": "code",
   "execution_count": null,
   "id": "76168fe2",
   "metadata": {},
   "outputs": [],
   "source": [
    "fol_map_canvas = create_map(bbox=None)\n",
    "folium_backend.render_airports_and_ports(fol_map_canvas, \n",
    "                                        draw_ports=True, \n",
    "                                        port_list=[\"63110\", 63070, \"Mar Del Plata\", \"Eva Peron\"], \n",
    "                                        use_markers=False, \n",
    "                                        port_color=\"green\")\n",
    "folium_backend.render_airports_and_ports(fol_map_canvas, \n",
    "                                        draw_ports=True, \n",
    "                                        use_markers=True,\n",
    "                                        port_bounding_box=BoundingBox((-124, 45), (-116, 48)))\n",
    "fol_map_canvas"
   ]
  },
  {
   "cell_type": "markdown",
   "id": "3fe9cfd6",
   "metadata": {},
   "source": [
    "Lastly, ports can be rendered directly from `render_trajectories` or `render_heatmap` when rendering trajectories or trajectory points onto a map to make it easier to see where the trajectories are going to and coming from or which ports are \"hotter\" then others."
   ]
  },
  {
   "cell_type": "code",
   "execution_count": null,
   "id": "0c3d6870",
   "metadata": {},
   "outputs": [],
   "source": [
    "trajectories = tutorial.get_trajectory_list()\n",
    "\n",
    "render_trajectories(trajectories, \n",
    "            draw_ports=True, \n",
    "            use_markers=True,\n",
    "            port_bounding_box=BoundingBox((-74.47357177734375, 40.212440718286466), (-73.41201782226562, 41.11246878918088)),\n",
    "            prefer_canvas=True\n",
    "            )"
   ]
  },
  {
   "cell_type": "markdown",
   "id": "0fcb86d6",
   "metadata": {},
   "source": [
    "If a static image is prefered, the backend can be changed to generate a static map of the trajectories and ports."
   ]
  },
  {
   "cell_type": "code",
   "execution_count": null,
   "id": "57df4b67",
   "metadata": {},
   "outputs": [],
   "source": [
    "trajectories = tutorial.get_trajectory_list()\n",
    "\n",
    "render_trajectories(trajectories, \n",
    "            backend='cartopy',\n",
    "            draw_ports=True, \n",
    "            port_bounding_box=BoundingBox((-74.47357177734375, 40.212440718286466), (-73.41201782226562, 41.11246878918088)),\n",
    "            use_arrows=True,\n",
    "            draw_scale=False,\n",
    "            port_label_size=6,\n",
    "            draw_arrows=True\n",
    "            )"
   ]
  },
  {
   "cell_type": "code",
   "execution_count": null,
   "id": "393aabc5",
   "metadata": {},
   "outputs": [],
   "source": [
    "trajectories = tutorial.get_trajectory_list()\n",
    "points = tutorial.trajectories_to_end_points(trajectories)\n",
    "\n",
    "render_heatmap(points,\n",
    "            trajectories=trajectories, \n",
    "            draw_ports=True, \n",
    "            use_markers=True, \n",
    "            port_bounding_box=BoundingBox((-74.47357177734375, 40.212440718286466), (-73.41201782226562, 41.11246878918088)),\n",
    "            prefer_canvas=True\n",
    "            )"
   ]
  },
  {
   "cell_type": "markdown",
   "id": "9b6a7841",
   "metadata": {},
   "source": [
    "### Rendering Airports and Ports Together"
   ]
  },
  {
   "cell_type": "markdown",
   "id": "131f4233",
   "metadata": {},
   "source": [
    "Airports and ports can be rendered together on the same map utilizing the features demonstrated above. "
   ]
  },
  {
   "cell_type": "code",
   "execution_count": null,
   "id": "2ccfb41a",
   "metadata": {},
   "outputs": [],
   "source": [
    "fol_map_canvas = create_map(bbox=None)\n",
    "folium_backend.render_airports_and_ports(fol_map_canvas, \n",
    "                                        draw_ports=True, \n",
    "                                        draw_airports=True, \n",
    "                                        use_markers=True, \n",
    "                                        port_country=\"Australia\",\n",
    "                                        port_water_body=\"Mediterranean Sea\",\n",
    "                                        port_bounding_box=BoundingBox((-88, 24), (-79.5, 31)),\n",
    "                                        airport_list=[\"ABQ\", \"BOS\", \"SEA\", \"JFK\"],\n",
    "                                        airport_bounding_box=BoundingBox((-124, 45), (-116, 48))\n",
    "                                        )\n",
    "fol_map_canvas"
   ]
  }
 ],
 "metadata": {
  "interpreter": {
   "hash": "31f2aee4e71d21fbe5cf8b01ff0e069b9275f58929596ceb00d14d90e3e16cd6"
  },
  "kernelspec": {
   "display_name": "Python 3.8.10 64-bit",
   "name": "python3"
  },
  "language_info": {
   "codemirror_mode": {
    "name": "ipython",
    "version": 3
   },
   "file_extension": ".py",
   "mimetype": "text/x-python",
   "name": "python",
   "nbconvert_exporter": "python",
   "pygments_lexer": "ipython3",
   "version": "3.8.10"
  }
 },
 "nbformat": 4,
 "nbformat_minor": 5
}
