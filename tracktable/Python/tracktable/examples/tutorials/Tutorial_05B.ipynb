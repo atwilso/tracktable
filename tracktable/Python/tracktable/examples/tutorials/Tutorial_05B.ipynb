{
 "cells": [
  {
   "cell_type": "markdown",
   "metadata": {
    "nbsphinx": "hidden"
   },
   "source": [
    "<span style=\"color:#888888\">Copyright (c) 2014-2022 National Technology and Engineering Solutions of Sandia, LLC. Under the terms of Contract DE-NA0003525 with National Technology and Engineering Solutions of Sandia, LLC, the U.S. Government retains certain rights in this software.     Redistribution and use in source and binary forms, with or without modification, are permitted provided that the following conditions are met:</span>\n",
    "\n",
    "<span style=\"color:#888888\">1. Redistributions of source code must retain the above copyright notice, this list of conditions and the following disclaimer.</span>\n",
    "\n",
    "<span style=\"color:#888888\">2. Redistributions in binary form must reproduce the above copyright notice, this list of conditions and the following disclaimer in the documentation and/or other materials provided with the distribution.</span>\n",
    "\n",
    "<span style=\"color:#888888\">THIS SOFTWARE IS PROVIDED BY THE COPYRIGHT HOLDERS AND CONTRIBUTORS \"AS IS\" AND ANY EXPRESS OR IMPLIED WARRANTIES, INCLUDING, BUT NOT LIMITED TO, THE IMPLIED WARRANTIES OF MERCHANTABILITY AND FITNESS FOR A PARTICULAR PURPOSE ARE DISCLAIMED. IN NO EVENT SHALL THE COPYRIGHT HOLDER OR CONTRIBUTORS BE LIABLE FOR ANY DIRECT, INDIRECT, INCIDENTAL, SPECIAL, EXEMPLARY, OR CONSEQUENTIAL DAMAGES (INCLUDING, BUT NOT LIMITED TO, PROCUREMENT OF SUBSTITUTE GOODS OR SERVICES; LOSS OF USE, DATA, OR PROFITS; OR BUSINESS INTERRUPTION) HOWEVER CAUSED AND ON ANY THEORY OF LIABILITY, WHETHER IN CONTRACT, STRICT LIABILITY, OR TORT (INCLUDING NEGLIGENCE OR OTHERWISE) ARISING IN ANY WAY OUT OF THE USE OF THIS SOFTWARE, EVEN IF ADVISED OF THE POSSIBILITY OF SUCH DAMAGE.</span>"
   ]
  },
  {
   "cell_type": "markdown",
   "metadata": {},
   "source": [
    "## <span style=\"color:#0054a8\">**Tutorial 5-B:**</span> <span style=\"color:#555555\">Static Trajectory Visualization</span>"
   ]
  },
  {
   "cell_type": "markdown",
   "metadata": {},
   "source": [
    "**Purpose**: If consistency across renders and exports is a requirement, static rendering may be preferred over interactive rendering. "
   ]
  },
  {
   "cell_type": "code",
   "execution_count": null,
   "metadata": {},
   "outputs": [],
   "source": [
    "import tracktable.examples.tutorials.tutorial_helper as tutorial "
   ]
  },
  {
   "cell_type": "markdown",
   "metadata": {},
   "source": [
    "### Let's start with a list of trajectories.\n",
    "\n",
    "We will use the provided example data $^1$ for this tutorial.  For brevity, the function below reads our trajectories from a .traj file into a python list, as was demoed in [Tutorial 4](Tutorial_04.ipynb)."
   ]
  },
  {
   "cell_type": "code",
   "execution_count": null,
   "metadata": {},
   "outputs": [],
   "source": [
    "trajectories = tutorial.get_trajectory_list('tutorial-static-viz')"
   ]
  },
  {
   "cell_type": "markdown",
   "metadata": {},
   "source": [
    "Let's work with 15 trajectories so that our visualizaitons render quickly. "
   ]
  },
  {
   "cell_type": "code",
   "execution_count": null,
   "metadata": {},
   "outputs": [],
   "source": [
    "fifteen_trajectories = trajectories[60:75]"
   ]
  },
  {
   "cell_type": "code",
   "execution_count": null,
   "metadata": {},
   "outputs": [],
   "source": [
    "from tracktable.render import render_map\n",
    "from tracktable.render.map_processing import paths\n",
    "import cartopy\n",
    "import matplotlib\n",
    "import matplotlib.pyplot as plt"
   ]
  },
  {
   "cell_type": "markdown",
   "metadata": {},
   "source": [
    "Our static map choices are `conus` (continental United States), `europe`, `north_america`, `south_america`, `australia`, and `world`. These can be passed in as strings appended to `region:` in the `map_name` parameter of the mapmaker function.\n",
    "\n",
    "A quick note about Jupyter notebooks. Jupyter will show you the state of the figure when you exit the cell in which you created it. You cannot apply different effects in different cells.  To work around this, we put all our different effects in functions, then call those functions one after another in a single cell."
   ]
  },
  {
   "cell_type": "code",
   "execution_count": null,
   "metadata": {},
   "outputs": [],
   "source": [
    "# Set up our canvas to be a 800x600 image (8x6 inches at 100 dpi).\n",
    "figure = plt.figure(dpi=100, figsize=(8, 6))\n",
    "\n",
    "# Set up our map projection to be the entire world.\n",
    "(mymap, map_actors) = render_map.render_map(domain='terrestrial', map_name='region:world')\n",
    "\n",
    "# Render the trajectories.\n",
    "paths.draw_traffic(traffic_map=mymap, trajectory_iterable=fifteen_trajectories, transform=cartopy.crs.PlateCarree())"
   ]
  },
  {
   "cell_type": "markdown",
   "metadata": {},
   "source": [
    "These trajectories are a bit hard to see.  Let's customize our rendering to make the trajectories easier to see:\n",
    "\n",
    "1. Use `color_map` to get a red heat color.\n",
    "2. Use `linewidth` to make the lines thicker.\n",
    "3. Use `dot_size` to make the destination easier to see.\n",
    "4. Use `transform` to define our cartopy projection."
   ]
  },
  {
   "cell_type": "code",
   "execution_count": null,
   "metadata": {},
   "outputs": [],
   "source": [
    "# Set up our canvas to be a 800x600 image (8x6 inches at 100 dpi).\n",
    "figure = plt.figure(dpi=100, figsize=(8, 6))\n",
    "\n",
    "# Set up our map projection to be the entire world.\n",
    "(mymap, map_actors) = render_map.render_map(domain='terrestrial',\n",
    "                                        map_name='region:world')\n",
    "\n",
    "# Render the trajectories.\n",
    "paths.draw_traffic(traffic_map=mymap, \n",
    "                   trajectory_iterable=fifteen_trajectories, \n",
    "                   color_map=\"gist_heat\",\n",
    "                   linewidth=2,\n",
    "                   dot_size=2,\n",
    "                   transform=cartopy.crs.PlateCarree()\n",
    "                  )"
   ]
  }
 ],
 "metadata": {
  "interpreter": {
   "hash": "31f2aee4e71d21fbe5cf8b01ff0e069b9275f58929596ceb00d14d90e3e16cd6"
  },
  "kernelspec": {
   "display_name": "Python 3.8.10 64-bit",
   "name": "python3"
  },
  "language_info": {
   "codemirror_mode": {
    "name": "ipython",
    "version": 3
   },
   "file_extension": ".py",
   "mimetype": "text/x-python",
   "name": "python",
   "nbconvert_exporter": "python",
   "pygments_lexer": "ipython3",
   "version": "3.8.10"
  }
 },
 "nbformat": 4,
 "nbformat_minor": 4
}
