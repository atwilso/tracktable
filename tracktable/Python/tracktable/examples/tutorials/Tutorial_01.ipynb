{
 "cells": [
  {
   "cell_type": "markdown",
   "source": [
    "<span style=\"color:#888888\">Copyright (c) 2014-2021 National Technology and Engineering Solutions of Sandia, LLC. Under the terms of Contract DE-NA0003525 with National Technology and Engineering Solutions of Sandia, LLC, the U.S. Government retains certain rights in this software.     Redistribution and use in source and binary forms, with or without modification, are permitted provided that the following conditions are met:</span>\n",
    "\n",
    "<span style=\"color:#888888\">1. Redistributions of source code must retain the above copyright notice, this list of conditions and the following disclaimer.</span>\n",
    "\n",
    "<span style=\"color:#888888\">2. Redistributions in binary form must reproduce the above copyright notice, this list of conditions and the following disclaimer in the documentation and/or other materials provided with the distribution.</span>\n",
    "\n",
    "<span style=\"color:#888888\">THIS SOFTWARE IS PROVIDED BY THE COPYRIGHT HOLDERS AND CONTRIBUTORS \"AS IS\" AND ANY EXPRESS OR IMPLIED WARRANTIES, INCLUDING, BUT NOT LIMITED TO, THE IMPLIED WARRANTIES OF MERCHANTABILITY AND FITNESS FOR A PARTICULAR PURPOSE ARE DISCLAIMED. IN NO EVENT SHALL THE COPYRIGHT HOLDER OR CONTRIBUTORS BE LIABLE FOR ANY DIRECT, INDIRECT, INCIDENTAL, SPECIAL, EXEMPLARY, OR CONSEQUENTIAL DAMAGES (INCLUDING, BUT NOT LIMITED TO, PROCUREMENT OF SUBSTITUTE GOODS OR SERVICES; LOSS OF USE, DATA, OR PROFITS; OR BUSINESS INTERRUPTION) HOWEVER CAUSED AND ON ANY THEORY OF LIABILITY, WHETHER IN CONTRACT, STRICT LIABILITY, OR TORT (INCLUDING NEGLIGENCE OR OTHERWISE) ARISING IN ANY WAY OUT OF THE USE OF THIS SOFTWARE, EVEN IF ADVISED OF THE POSSIBILITY OF SUCH DAMAGE.</span>"
   ],
   "metadata": {
    "nbsphinx": "hidden"
   }
  },
  {
   "cell_type": "markdown",
   "source": [
    "# <span style=\"color:#0054a8\">**Tutorial 1:**</span> <span style=\"color:#555555\">How to Create Trajectory Points from a Deliminated File</span>"
   ],
   "metadata": {}
  },
  {
   "cell_type": "markdown",
   "source": [
    "## Purpose\n",
    "\n",
    "This notebook demonstrates how to create Tracktable Trajectory Point objects from a deliminated (e.g. csv, tsv, etc.) data file.  A data file must contain the following columns in order to be compatible with Tracktable:\n",
    "\n",
    "* **<span style=\"color:#00add0\">an identifier</span>** that is unique to each object\n",
    "* **<span style=\"color:#00add0\">a timestamp</span>**\n",
    "* **<span style=\"color:#00add0\">longitude</span>**\n",
    "* **<span style=\"color:#00add0\">latitude</span>**\n",
    "\n",
    "Both ordering and headers for these columns can vary, but they must exist in the file.  Each row of the data file should represent the information for a single trajectory point.  \n",
    "\n",
    "**<span style=\"color:#81062e\">IMPORTANT:</span>** Deliminated files must be **sorted by timestamp** to be compatible with Tracktable.\n",
    "\n",
    "*Note:* This notebook does not cover how to create a Trajectory object (as opposed to a list of Trajectory point objects).  Please see [Tutorial 2](Tutorial_02.ipynb) for an example of how to create Trajectory objects from a csv file containing trajectory point information."
   ],
   "metadata": {}
  },
  {
   "cell_type": "markdown",
   "source": [
    "## Step 1: Identify your CSV/TSV File\n",
    "\n",
    "We will use the provided example data $^1$ for this tutorial.  If you are using another filename, `data_filename` should be set to the string containing the path to your csv file."
   ],
   "metadata": {}
  },
  {
   "cell_type": "code",
   "execution_count": null,
   "source": [
    "from tracktable.core import data_directory\n",
    "import os.path\n",
    "\n",
    "data_filename = os.path.join(data_directory(), 'NYHarbor_2020_06_30_first_hour.csv')"
   ],
   "outputs": [],
   "metadata": {}
  },
  {
   "cell_type": "markdown",
   "source": [
    "## Step 2: Create a TrajectoryPointReader object."
   ],
   "metadata": {}
  },
  {
   "cell_type": "markdown",
   "source": [
    "We will create a Terrestrial point reader, which will expect **(longitude, latitude)** coordinates.  Alternatively, if our data points were in a Cartesian coordinate system, we would import the `TrajectoryPointReader` object from `tracktable.domain.cartesian2d` or `tracktable.domain.cartesian3d`."
   ],
   "metadata": {}
  },
  {
   "cell_type": "code",
   "execution_count": null,
   "source": [
    "from tracktable.domain.terrestrial import TrajectoryPointReader\n",
    "\n",
    "reader = TrajectoryPointReader()"
   ],
   "outputs": [],
   "metadata": {}
  },
  {
   "cell_type": "markdown",
   "source": [
    "## Step 3: Give the TrajectoryPointReader object info about the file."
   ],
   "metadata": {}
  },
  {
   "cell_type": "markdown",
   "source": [
    "Have the reader open an input stream to the data file."
   ],
   "metadata": {}
  },
  {
   "cell_type": "code",
   "execution_count": null,
   "source": [
    "reader.input = open(data_filename, 'r')"
   ],
   "outputs": [],
   "metadata": {}
  },
  {
   "cell_type": "markdown",
   "source": [
    "### <span style=\"color:#0f0f0f\">*Additional Settings*</span>"
   ],
   "metadata": {}
  },
  {
   "cell_type": "markdown",
   "source": [
    "Identify the comment character for the data file.  Any lines with this as the first non-whitespace character will be ignored.  This is optional and defaulted to `#`."
   ],
   "metadata": {}
  },
  {
   "cell_type": "code",
   "execution_count": null,
   "source": [
    "reader.comment_character = '#'"
   ],
   "outputs": [],
   "metadata": {}
  },
  {
   "cell_type": "markdown",
   "source": [
    "Identify the file's delimiter.  For comma-separated (CSV) files, the delimiter should be set to `,`.  For tab-separated files, this should be `\\t`.  This is optional, and the default value is `,`."
   ],
   "metadata": {}
  },
  {
   "cell_type": "code",
   "execution_count": null,
   "source": [
    "reader.field_delimiter = ','"
   ],
   "outputs": [],
   "metadata": {}
  },
  {
   "cell_type": "markdown",
   "source": [
    "Identify the string associated with a null value in a cell.  This is optional and defaulted to an empty string."
   ],
   "metadata": {}
  },
  {
   "cell_type": "code",
   "execution_count": null,
   "source": [
    "reader.null_value = 'NaN'"
   ],
   "outputs": [],
   "metadata": {}
  },
  {
   "cell_type": "markdown",
   "source": [
    "### <span style=\"color:#0f0f0f\">*Required Columns*</span>"
   ],
   "metadata": {}
  },
  {
   "cell_type": "markdown",
   "source": [
    "We must tell the reader where to find the **<span style=\"color:#00add0\">unique object ID</span>**, **<span style=\"color:#00add0\">timestamp</span>**, **<span style=\"color:#00add0\">longitude</span>** and **<span style=\"color:#00add0\">latitude</span>** columns.  Column numbering starts at zero.\n",
    "\n",
    "If no column numbers are given, the reader will assume they are in the order listed above.  Note that terrestrial points are stored as (longitude, latitude) in Tracktable."
   ],
   "metadata": {}
  },
  {
   "cell_type": "code",
   "execution_count": null,
   "source": [
    "reader.object_id_column = 3\n",
    "reader.timestamp_column = 0\n",
    "reader.coordinates[0] = 1     # longitude\n",
    "reader.coordinates[1] = 2     # latitude"
   ],
   "outputs": [],
   "metadata": {}
  },
  {
   "cell_type": "markdown",
   "source": [
    "### <span style=\"color:#0f0f0f\">*Optional Columns*</span>"
   ],
   "metadata": {}
  },
  {
   "cell_type": "markdown",
   "source": [
    "Your data file may contain additional information (e.g. speed, heading, altitude, etc.) that you wish to store with your trajectory points.  These can be stored as either floats, strings or datetime objects.  An example of each is shown below, respectively."
   ],
   "metadata": {}
  },
  {
   "cell_type": "code",
   "execution_count": null,
   "source": [
    "reader.set_real_field_column('heading', 6)\n",
    "reader.set_string_field_column('vessel-name', 7)\n",
    "reader.set_time_field_column('eta', 17)"
   ],
   "outputs": [],
   "metadata": {}
  },
  {
   "cell_type": "markdown",
   "source": [
    "## Step 4: Convert the Reader to a List of Trajectory Points"
   ],
   "metadata": {}
  },
  {
   "cell_type": "code",
   "execution_count": null,
   "source": [
    "trajectory_points = list(reader)"
   ],
   "outputs": [],
   "metadata": {}
  },
  {
   "cell_type": "markdown",
   "source": [
    "How many trajectory points do we have?"
   ],
   "metadata": {}
  },
  {
   "cell_type": "code",
   "execution_count": null,
   "source": [
    "len(trajectory_points)"
   ],
   "outputs": [],
   "metadata": {}
  },
  {
   "cell_type": "markdown",
   "source": [
    "## Step 5: Accessing Trajectory Point Info"
   ],
   "metadata": {}
  },
  {
   "cell_type": "markdown",
   "source": [
    "The information from the required columns of the csv can be accessed for a single `trajectory_point` object as\n",
    "\n",
    "* **<span style=\"color:#00add0\">unique object identifier:</span>** `trajectory_point.object_id`\n",
    "* **<span style=\"color:#00add0\">timestamp:</span>** `trajectory_point.timestamp`\n",
    "* **<span style=\"color:#00add0\">longitude:</span>** `trajectory_point[0]`\n",
    "* **<span style=\"color:#00add0\">latitude:</span>** `trajectory_point[1]`\n",
    "\n",
    "The optional column information is available through the member variable `properties` as follows: `trajectory_point.properties['what-you-named-it']`.\n",
    "\n",
    "This is demonstrated below for our first ten trajectory points."
   ],
   "metadata": {}
  },
  {
   "cell_type": "code",
   "execution_count": null,
   "source": [
    "for traj_point in trajectory_points[:10]:\n",
    "    object_id    = traj_point.object_id\n",
    "    timestamp    = traj_point.timestamp\n",
    "    longitude    = traj_point[0]\n",
    "    latitude     = traj_point[1]\n",
    "    heading      = traj_point.properties[\"heading\"]\n",
    "    vessel_name  = traj_point.properties[\"vessel-name\"]\n",
    "    eta          = traj_point.properties[\"eta\"]\n",
    "    \n",
    "    print(f'Unique ID: {object_id}')\n",
    "    print(f'Timestamp: {timestamp}')\n",
    "    print(f'Longitude: {longitude}')\n",
    "    print(f'Latitude: {latitude}')\n",
    "    print(f'Heading: {heading}')\n",
    "    print(f'Vessel Name: {vessel_name}')\n",
    "    print(f'ETA: {eta}\\n')"
   ],
   "outputs": [],
   "metadata": {}
  },
  {
   "cell_type": "markdown",
   "source": [
    "<span style=\"color:gray\">$^1$ Bureau of Ocean Energy Management (BOEM) and National Oceanic and Atmospheric Administration (NOAA). MarineCadastre.gov. *AIS Data for 2020.* Retrieved February 2021 from [marinecadastre.gov/data](https://marinecadastre.gov/data/).  Trimmed down to the first hour of June 30, 2020, restricted to in NY Harbor.</span>"
   ],
   "metadata": {}
  }
 ],
 "metadata": {
  "kernelspec": {
   "name": "python3",
   "display_name": "Python 3.8.10 64-bit"
  },
  "language_info": {
   "codemirror_mode": {
    "name": "ipython",
    "version": 3
   },
   "file_extension": ".py",
   "mimetype": "text/x-python",
   "name": "python",
   "nbconvert_exporter": "python",
   "pygments_lexer": "ipython3",
   "version": "3.8.10"
  },
  "interpreter": {
   "hash": "31f2aee4e71d21fbe5cf8b01ff0e069b9275f58929596ceb00d14d90e3e16cd6"
  }
 },
 "nbformat": 4,
 "nbformat_minor": 5
}