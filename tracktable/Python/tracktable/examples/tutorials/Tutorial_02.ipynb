{
 "cells": [
  {
   "cell_type": "markdown",
   "source": [
    "<span style=\"color:#888888\">Copyright (c) 2014-2021 National Technology and Engineering Solutions of Sandia, LLC. Under the terms of Contract DE-NA0003525 with National Technology and Engineering Solutions of Sandia, LLC, the U.S. Government retains certain rights in this software.     Redistribution and use in source and binary forms, with or without modification, are permitted provided that the following conditions are met:</span>\n",
    "\n",
    "<span style=\"color:#888888\">1. Redistributions of source code must retain the above copyright notice, this list of conditions and the following disclaimer.</span>\n",
    "\n",
    "<span style=\"color:#888888\">2. Redistributions in binary form must reproduce the above copyright notice, this list of conditions and the following disclaimer in the documentation and/or other materials provided with the distribution.</span>\n",
    "\n",
    "<span style=\"color:#888888\">THIS SOFTWARE IS PROVIDED BY THE COPYRIGHT HOLDERS AND CONTRIBUTORS \"AS IS\" AND ANY EXPRESS OR IMPLIED WARRANTIES, INCLUDING, BUT NOT LIMITED TO, THE IMPLIED WARRANTIES OF MERCHANTABILITY AND FITNESS FOR A PARTICULAR PURPOSE ARE DISCLAIMED. IN NO EVENT SHALL THE COPYRIGHT HOLDER OR CONTRIBUTORS BE LIABLE FOR ANY DIRECT, INDIRECT, INCIDENTAL, SPECIAL, EXEMPLARY, OR CONSEQUENTIAL DAMAGES (INCLUDING, BUT NOT LIMITED TO, PROCUREMENT OF SUBSTITUTE GOODS OR SERVICES; LOSS OF USE, DATA, OR PROFITS; OR BUSINESS INTERRUPTION) HOWEVER CAUSED AND ON ANY THEORY OF LIABILITY, WHETHER IN CONTRACT, STRICT LIABILITY, OR TORT (INCLUDING NEGLIGENCE OR OTHERWISE) ARISING IN ANY WAY OUT OF THE USE OF THIS SOFTWARE, EVEN IF ADVISED OF THE POSSIBILITY OF SUCH DAMAGE.</span>"
   ],
   "metadata": {
    "nbsphinx": "hidden"
   }
  },
  {
   "cell_type": "markdown",
   "source": [
    "# <span style=\"color:#0054a8\">**Tutorial 2:**</span> <span style=\"color:#555555\">How to Create Trajectories from a Deliminated File</span>"
   ],
   "metadata": {}
  },
  {
   "cell_type": "code",
   "execution_count": null,
   "source": [
    "import tracktable.examples.tutorials.tutorial_helper as tutorial "
   ],
   "outputs": [],
   "metadata": {}
  },
  {
   "cell_type": "markdown",
   "source": [
    "## Purpose\n",
    "\n",
    "This notebook demonstrates how to create Tracktable trajectorys from a deliminated (e.g. csv, tsv, etc.) data file.  A data file must contain the following columns in order to be compatible with Tracktable:\n",
    "\n",
    "* **<span style=\"color:#00add0\">an identifier</span>** that is unique to each object\n",
    "* **<span style=\"color:#00add0\">a timestamp</span>**\n",
    "* **<span style=\"color:#00add0\">longitude</span>**\n",
    "* **<span style=\"color:#00add0\">latitude</span>**\n",
    "\n",
    "Both ordering and headers for these columns can vary, but they must exist in the file.  Each row of the data file should represent the information for a single trajectory point.\n",
    "\n",
    "**<span style=\"color:#81062e\">IMPORTANT:</span>** Deliminated files must be **sorted by timestamp** to be compatible with Tracktable.\n",
    "\n",
    "*Note:* If you want to create individual Trajectory Point objects, but not assemble them into Trajectory objects, please see [Tutorial 1](Tutorial_01.ipynb)."
   ],
   "metadata": {}
  },
  {
   "cell_type": "markdown",
   "source": [
    "## Step 1: Set up a TrajectoryPointReader object.\n",
    "\n",
    "We will use the provided example data $^1$ for this tutorial.  For the sake of brevity, the function below executes the steps from [Tutorial 1](Tutorial_01.ipynb) to create a TrajectoryPointReader object."
   ],
   "metadata": {}
  },
  {
   "cell_type": "code",
   "execution_count": null,
   "source": [
    "reader = tutorial.create_point_reader()"
   ],
   "outputs": [],
   "metadata": {}
  },
  {
   "cell_type": "markdown",
   "source": [
    "## Step 2: Create an AssembleTrajectoryFromPoints object."
   ],
   "metadata": {}
  },
  {
   "cell_type": "markdown",
   "source": [
    "This will build trajectories from the individual points."
   ],
   "metadata": {}
  },
  {
   "cell_type": "code",
   "execution_count": null,
   "source": [
    "from tracktable.applications.assemble_trajectories import AssembleTrajectoryFromPoints\n",
    "\n",
    "builder = AssembleTrajectoryFromPoints()"
   ],
   "outputs": [],
   "metadata": {}
  },
  {
   "cell_type": "markdown",
   "source": [
    "We must tell the builder to get the trajectory points from our reader."
   ],
   "metadata": {}
  },
  {
   "cell_type": "code",
   "execution_count": null,
   "source": [
    "builder.input = reader"
   ],
   "outputs": [],
   "metadata": {}
  },
  {
   "cell_type": "markdown",
   "source": [
    "### *Additional Settings*"
   ],
   "metadata": {}
  },
  {
   "cell_type": "markdown",
   "source": [
    "How far apart (in km) should sequential points (with the same object ID) have to be before we consider them separate trajectories?  This parameter is optional and defaults to `None`."
   ],
   "metadata": {}
  },
  {
   "cell_type": "code",
   "execution_count": null,
   "source": [
    "builder.separation_distance = 10 # km"
   ],
   "outputs": [],
   "metadata": {}
  },
  {
   "cell_type": "markdown",
   "source": [
    "How far apart (in time) should sequential points (with the same object ID) have to be before we consider them separate trajectories?  This parameter is optional and defaults to 30 minutes."
   ],
   "metadata": {}
  },
  {
   "cell_type": "code",
   "execution_count": null,
   "source": [
    "from datetime import timedelta\n",
    "\n",
    "builder.separation_time = timedelta(minutes = 20)"
   ],
   "outputs": [],
   "metadata": {}
  },
  {
   "cell_type": "markdown",
   "source": [
    "What is the minimum number of points that a trajectory must have?  Any trajectories assembled with fewer than this number will be discarded.  This parameter is optional and defaults to 2 points."
   ],
   "metadata": {}
  },
  {
   "cell_type": "code",
   "execution_count": null,
   "source": [
    "builder.minimum_length = 5 # points"
   ],
   "outputs": [],
   "metadata": {}
  },
  {
   "cell_type": "markdown",
   "source": [
    "## Step 3: Assemble Trajectories from Point Data"
   ],
   "metadata": {}
  },
  {
   "cell_type": "code",
   "execution_count": null,
   "source": [
    "trajectories = list(builder)"
   ],
   "outputs": [],
   "metadata": {}
  },
  {
   "cell_type": "markdown",
   "source": [
    "How many trajectories do we have?"
   ],
   "metadata": {}
  },
  {
   "cell_type": "code",
   "execution_count": null,
   "source": [
    "len(trajectories)"
   ],
   "outputs": [],
   "metadata": {}
  },
  {
   "cell_type": "markdown",
   "source": [
    "## Step 4: Accessing Trajectory Information"
   ],
   "metadata": {}
  },
  {
   "cell_type": "markdown",
   "source": [
    "For each `trajectory`, we can access the following information:\n",
    "\n",
    "* `trajectory.object_id`: a string identifier that is unique to each object\n",
    "* `trajectory.trajectory_id`: a string identifier that is mostly-unique to each trajectory, created by concatenating the object ID, start timestamp and end timestamp together\n",
    "\n",
    "This is demonstrated below for our first ten trajectories."
   ],
   "metadata": {}
  },
  {
   "cell_type": "code",
   "execution_count": null,
   "source": [
    "for trajectory in trajectories[:10]:\n",
    "    object_id      = trajectory.object_id\n",
    "    trajectory_id  = trajectory.trajectory_id\n",
    "    \n",
    "    print(f'Object ID: {object_id}')\n",
    "    print(f'Trajectory ID: {trajectory_id}\\n')"
   ],
   "outputs": [],
   "metadata": {}
  },
  {
   "cell_type": "markdown",
   "source": [
    "## Step 5: Accessing Trajectory Point Information"
   ],
   "metadata": {}
  },
  {
   "cell_type": "markdown",
   "source": [
    "Let's look at just the first trajectory in our list:"
   ],
   "metadata": {}
  },
  {
   "cell_type": "code",
   "execution_count": null,
   "source": [
    "trajectory = trajectories[0]"
   ],
   "outputs": [],
   "metadata": {}
  },
  {
   "cell_type": "markdown",
   "source": [
    "Trajectory points can be accessed in a trajectory object using list indexing.  So, we can get the first point in our trajectory as follows:"
   ],
   "metadata": {}
  },
  {
   "cell_type": "code",
   "execution_count": null,
   "source": [
    "trajectory_point = trajectory[0]"
   ],
   "outputs": [],
   "metadata": {}
  },
  {
   "cell_type": "markdown",
   "source": [
    "The information from the required columns of the csv can be accessed for a single `trajectory_point` object as\n",
    "\n",
    "* **<span style=\"color:#00add0\">unique object identifier:</span>** `trajectory_point.object_id`\n",
    "* **<span style=\"color:#00add0\">timestamp:</span>** `trajectory_point.timestamp`\n",
    "* **<span style=\"color:#00add0\">longitude:</span>** `trajectory_point[0]`\n",
    "* **<span style=\"color:#00add0\">latitude:</span>** `trajectory_point[1]`\n",
    "\n",
    "The optional column information is available through the member variable `properties` as follows: `trajectory_point.properties['what-you-named-it']`.\n",
    "\n",
    "Below, we access all of the information stored in our `trajectory_point` object."
   ],
   "metadata": {}
  },
  {
   "cell_type": "code",
   "execution_count": null,
   "source": [
    "object_id    = trajectory_point.object_id\n",
    "timestamp    = trajectory_point.timestamp\n",
    "longitude    = trajectory_point[0]\n",
    "latitude     = trajectory_point[1]\n",
    "heading      = trajectory_point.properties[\"heading\"]\n",
    "vessel_name  = trajectory_point.properties[\"vessel-name\"]\n",
    "eta          = trajectory_point.properties[\"eta\"]\n",
    "\n",
    "print(f'Unique ID: {object_id}')\n",
    "print(f'Timestamp: {timestamp}')\n",
    "print(f'Longitude: {longitude}')\n",
    "print(f'Latitude: {latitude}')\n",
    "print(f'Heading: {heading}')\n",
    "print(f'Vessel Name: {vessel_name}')\n",
    "print(f'ETA: {eta}\\n')"
   ],
   "outputs": [],
   "metadata": {}
  },
  {
   "cell_type": "markdown",
   "source": [
    "## What can we do with trajectories in Tracktable?\n",
    "\n",
    "* Compact trajectory storage using `.traj` files is discussed in Tutorials [3](Tutorial_03.ipynb) & [4](Tutorial_04.ipynb).\n",
    "* Tutorials [5A](Tutorial_05A.ipynb) & [5B](Tutorial_05B.ipynb) demonstrate how to visualize trajectories with Tracktable.\n",
    "* Filtering trajectories using the capabilities provided by the `geomath` module is shown in [Tutorial 6](Tutorial_06.ipynb)."
   ],
   "metadata": {}
  },
  {
   "cell_type": "markdown",
   "source": [
    "<span style=\"color:gray\">$^1$ Bureau of Ocean Energy Management (BOEM) and National Oceanic and Atmospheric Administration (NOAA). MarineCadastre.gov. *AIS Data for 2020.* Retrieved February 2021 from [marinecadastre.gov/data](https://marinecadastre.gov/data/).  Trimmed down to the first hour of June 30, 2020, restricted to in NY Harbor.</span>"
   ],
   "metadata": {}
  }
 ],
 "metadata": {
  "kernelspec": {
   "name": "python3",
   "display_name": "Python 3.8.10 64-bit"
  },
  "language_info": {
   "codemirror_mode": {
    "name": "ipython",
    "version": 3
   },
   "file_extension": ".py",
   "mimetype": "text/x-python",
   "name": "python",
   "nbconvert_exporter": "python",
   "pygments_lexer": "ipython3",
   "version": "3.8.10"
  },
  "interpreter": {
   "hash": "31f2aee4e71d21fbe5cf8b01ff0e069b9275f58929596ceb00d14d90e3e16cd6"
  }
 },
 "nbformat": 4,
 "nbformat_minor": 5
}