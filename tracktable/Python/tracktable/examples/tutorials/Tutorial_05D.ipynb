{
 "cells": [
  {
   "cell_type": "markdown",
   "source": [
    "<span style=\"color:#888888\">Copyright (c) 2014-2021 National Technology and Engineering Solutions of Sandia, LLC. Under the terms of Contract DE-NA0003525 with National Technology and Engineering Solutions of Sandia, LLC, the U.S. Government retains certain rights in this software.     Redistribution and use in source and binary forms, with or without modification, are permitted provided that the following conditions are met:</span>\n",
    "\n",
    "<span style=\"color:#888888\">1. Redistributions of source code must retain the above copyright notice, this list of conditions and the following disclaimer.</span>\n",
    "\n",
    "<span style=\"color:#888888\">2. Redistributions in binary form must reproduce the above copyright notice, this list of conditions and the following disclaimer in the documentation and/or other materials provided with the distribution.</span>\n",
    "\n",
    "<span style=\"color:#888888\">THIS SOFTWARE IS PROVIDED BY THE COPYRIGHT HOLDERS AND CONTRIBUTORS \"AS IS\" AND ANY EXPRESS OR IMPLIED WARRANTIES, INCLUDING, BUT NOT LIMITED TO, THE IMPLIED WARRANTIES OF MERCHANTABILITY AND FITNESS FOR A PARTICULAR PURPOSE ARE DISCLAIMED. IN NO EVENT SHALL THE COPYRIGHT HOLDER OR CONTRIBUTORS BE LIABLE FOR ANY DIRECT, INDIRECT, INCIDENTAL, SPECIAL, EXEMPLARY, OR CONSEQUENTIAL DAMAGES (INCLUDING, BUT NOT LIMITED TO, PROCUREMENT OF SUBSTITUTE GOODS OR SERVICES; LOSS OF USE, DATA, OR PROFITS; OR BUSINESS INTERRUPTION) HOWEVER CAUSED AND ON ANY THEORY OF LIABILITY, WHETHER IN CONTRACT, STRICT LIABILITY, OR TORT (INCLUDING NEGLIGENCE OR OTHERWISE) ARISING IN ANY WAY OUT OF THE USE OF THIS SOFTWARE, EVEN IF ADVISED OF THE POSSIBILITY OF SUCH DAMAGE.</span>"
   ],
   "metadata": {
    "nbsphinx": "hidden"
   }
  },
  {
   "cell_type": "markdown",
   "source": [
    "## <span style=\"color:#0054a8\">**Tutorial 5-D:**</span> <span style=\"color:#555555\">Trajectory Visualization For Print</span>"
   ],
   "metadata": {}
  },
  {
   "cell_type": "code",
   "execution_count": null,
   "source": [
    "# TODO: Clean up this Tutorial to make the others"
   ],
   "outputs": [],
   "metadata": {}
  },
  {
   "cell_type": "markdown",
   "source": [
    "**Purpose:** Generate trajectory images that are specifically designed for a paper/report"
   ],
   "metadata": {}
  },
  {
   "cell_type": "code",
   "execution_count": null,
   "source": [
    "#This notebook demonstrates plotting trajectory figures for use in printed media / papers.\n",
    "\n",
    "from tracktable.domain.terrestrial import TrajectoryPointReader\n",
    "from tracktable.applications.assemble_trajectories import AssembleTrajectoryFromPoints\n",
    "from tracktable.render.render_trajectories import render_trajectories_for_print\n",
    "from tracktable.render.render_trajectories import render_trajectories_for_print_using_tiles\n",
    "#from tracktable.algorithms.dbscan import compute_cluster_labels\n",
    "from tracktable.core import data_directory\n",
    "from datetime import timedelta\n",
    "import cartopy\n",
    "import cartopy.crs\n",
    "import os.path\n",
    "\n",
    "data_filename = os.path.join(data_directory(), 'SampleFlightsUS.csv')\n",
    "inFile = open(data_filename, 'r')\n",
    "reader = TrajectoryPointReader()\n",
    "reader.input = inFile\n",
    "reader.comment_character = '#'\n",
    "reader.field_delimiter = ','\n",
    "reader.object_id_column = 0\n",
    "reader.timestamp_column = 1\n",
    "reader.coordinates[0] = 2\n",
    "reader.coordinates[1] = 3\n",
    "\n",
    "builder = AssembleTrajectoryFromPoints()\n",
    "builder.input = reader\n",
    "builder.minimum_length = 5\n",
    "builder.separation_time = timedelta(minutes=10)\n",
    "\n",
    "all_trajectories = list(builder)\n"
   ],
   "outputs": [],
   "metadata": {
    "scrolled": false
   }
  },
  {
   "cell_type": "code",
   "execution_count": null,
   "source": [
    "# Default behavior:\n",
    "# Give it a list of trajectories and a filename.  Extension can be png, pdf, etc and it will output in correct format.\n",
    "render_trajectories_for_print(all_trajectories[0], \"myfig0.pdf\")"
   ],
   "outputs": [],
   "metadata": {}
  },
  {
   "cell_type": "code",
   "execution_count": null,
   "source": [
    "#can change colormap to any supported by matplotlib.  We recommend default (viridis) or this one (cividis)\n",
    "render_trajectories_for_print(all_trajectories[0], \"myfig0.png\", color_map='cividis')"
   ],
   "outputs": [],
   "metadata": {}
  },
  {
   "cell_type": "code",
   "execution_count": null,
   "source": [
    "#Depending on your track(s) you may need to adjust linewidth until it's wide enough to see well, but not too thick.\n",
    "render_trajectories_for_print(all_trajectories[1], \"myfig1.pdf\", linewidth=1.5)"
   ],
   "outputs": [],
   "metadata": {}
  },
  {
   "cell_type": "code",
   "execution_count": null,
   "source": [
    "# There are multiple boarders (state and coastlines) that converge at the seashore.  You may want to turn off coastlines\n",
    "render_trajectories_for_print(all_trajectories[4], \"myfig4.pdf\", draw_coastlines=False)\n",
    "#other things you can tweak:\n",
    "#                     draw_countries=True,\n",
    "#                     draw_states=True,\n",
    "#                     fill_land=True,\n",
    "#                     fill_water=True,\n",
    "#                     land_fill_color='#101010',\n",
    "#                     water_fill_color='#000000',\n",
    "#                     land_zorder=4,\n",
    "#                     water_zorder=4,\n",
    "#                     lonlat_spacing=10,\n",
    "#                     lonlat_color='#A0A0A0',\n",
    "#                     lonlat_linewidth=0.2,\n",
    "#                     lonlat_zorder=6,\n",
    "#                     coastline_color='#808080',\n",
    "#                     coastline_linewidth=1,\n",
    "#                     coastline_zorder=5,\n",
    "#                     country_color='#606060',\n",
    "#                     country_fill_color='#303030',\n",
    "#                     country_linewidth=0.5,\n",
    "#                     country_zorder=3,\n",
    "#                     state_color='#404040',\n",
    "#                     state_fill_color='none',\n",
    "#                     state_linewidth=0.3,\n",
    "#                     state_zorder=2,\n",
    "#                     draw_largest_cities=None,\n",
    "#                     draw_cities_larger_than=None,\n",
    "#                     city_label_size=12,\n",
    "#                     city_dot_size=2,\n",
    "#                     city_dot_color='white',\n",
    "#                     city_label_color='white',\n",
    "#                     city_zorder=6,\n",
    "#                     country_resolution='10m',\n",
    "#                     state_resolution='10m',\n",
    "#                     coastline_resolution='50m',\n",
    "#                     land_resolution='110m',\n",
    "#                     ocean_resolution='110m',\n",
    "#                     lake_resolution='110m',\n",
    "#                     map_bbox=None,\n",
    "#                     map_projection=None,\n",
    "#                     map_scale_length=None,\n",
    "#                     region_size=None"
   ],
   "outputs": [],
   "metadata": {}
  },
  {
   "cell_type": "code",
   "execution_count": null,
   "source": [
    "#can turn off Lat/Lon lines\n",
    "render_trajectories_for_print(all_trajectories[11], \"myfig11.pdf\", linewidth=1.4, draw_lonlat=False)"
   ],
   "outputs": [],
   "metadata": {}
  },
  {
   "cell_type": "code",
   "execution_count": null,
   "source": [
    "#You can set the size of the figure in inches (width,height) dpi defaults to 300\n",
    "#unfortunately in this case the map will remain skinny, while the figure will be wide with lots of \n",
    "#whitespace on both sides. (you may need to look at the output pdf to see the whitespace.)\n",
    "render_trajectories_for_print(all_trajectories[13], \"myfig13a.pdf\", linewidth=.9, figsize=(3,2), draw_coastlines=False)"
   ],
   "outputs": [],
   "metadata": {}
  },
  {
   "cell_type": "code",
   "execution_count": null,
   "source": [
    "#To fix that extra whitespace (unless you manually crop) you can either adjust the figsize (see pdfs for comparison)\n",
    "render_trajectories_for_print(all_trajectories[13], \"myfig13b.pdf\", linewidth=.9, figsize=(1,2), draw_coastlines=False)"
   ],
   "outputs": [],
   "metadata": {}
  },
  {
   "cell_type": "code",
   "execution_count": null,
   "source": [
    "#Or, add extra \"bounding box buffer\" (width, height) to the map such that more map is shown.  (we hope to automate this at some point)\n",
    "render_trajectories_for_print(all_trajectories[13], \"myfig13c.pdf\", linewidth=.9, figsize=(3,2), bbox_buffer=(2.7,.1), draw_coastlines=False)"
   ],
   "outputs": [],
   "metadata": {}
  },
  {
   "cell_type": "code",
   "execution_count": null,
   "source": [
    "#If you wish to show multiple trajectories with different coloring here are some options:  Multiple color_maps (_r reverses the map)\n",
    "render_trajectories_for_print(all_trajectories[14:16], \"myfig14a.pdf\", color_map=['viridis','YlOrRd_r'], linewidth=1.2)"
   ],
   "outputs": [],
   "metadata": {}
  },
  {
   "cell_type": "code",
   "execution_count": null,
   "source": [
    "#you may specify the hue for a gradient (dark -> light) using a number (0-1) or a color name or a #RRGGBB color specification (see render_trajectories() for mor info)\n",
    "render_trajectories_for_print(all_trajectories[14:16], \"myfig14b.pdf\", gradient_hue=['blue',.3], linewidth=1.2)"
   ],
   "outputs": [],
   "metadata": {}
  },
  {
   "cell_type": "code",
   "execution_count": null,
   "source": [
    "#you may specify a solid color for the lines\n",
    "render_trajectories_for_print(all_trajectories[14:16], \"myfig14c.pdf\", line_color=['blue','red'], linewidth=1.2)"
   ],
   "outputs": [],
   "metadata": {}
  },
  {
   "cell_type": "code",
   "execution_count": null,
   "source": [
    "# You can specify a specific bounding box.  In this case entire world.\n",
    "render_trajectories_for_print(all_trajectories[15:25], \"myfig15a.pdf\", map_bbox=[-180,-90,180,90], linewidth=.3, coastline_linewidth=.15, draw_countries=False, draw_states=False, dot_size=.05)"
   ],
   "outputs": [],
   "metadata": {}
  },
  {
   "cell_type": "code",
   "execution_count": null,
   "source": [
    "#You can specify a projection (LambertCylindrical)\n",
    "# See options here: https://scitools.org.uk/cartopy/docs/latest/crs/projections.html\n",
    "render_trajectories_for_print(all_trajectories[15:25], \"myfig15b.pdf\", map_projection=cartopy.crs.LambertCylindrical, map_bbox=[-180,-90,180,90], linewidth=.3, coastline_linewidth=.15, draw_countries=False, draw_states=False, dot_size=.05)"
   ],
   "outputs": [],
   "metadata": {}
  },
  {
   "cell_type": "code",
   "execution_count": null,
   "source": [
    "#if using a \"global\" projection and you want to see all of it, set map_global=True to use the limites of the projection\n",
    "render_trajectories_for_print(all_trajectories[15:25], \"myfig15c.pdf\", map_global=True, map_projection=cartopy.crs.Robinson, linewidth=.3, coastline_linewidth=.15, draw_countries=False, draw_states=False, dot_size=.05)"
   ],
   "outputs": [],
   "metadata": {}
  },
  {
   "cell_type": "code",
   "execution_count": null,
   "source": [
    "# You can add labels for lon/lat, only with certain projections.\n",
    "# Only PlateCarree and Mercator plots currently support drawing labels for lon/lats.  \n",
    "#Recommended projection (Miller) does not support automatically drawing labels.\n",
    "render_trajectories_for_print(all_trajectories[17], \"myfig17.pdf\", lonlat_labels=True, map_projection=cartopy.crs.Mercator)"
   ],
   "outputs": [],
   "metadata": {}
  },
  {
   "cell_type": "code",
   "execution_count": null,
   "source": [
    "# The border resolution can be adjusted. (Low res)\n",
    "#110m = low res, 50m = med res, 10m high res\n",
    "render_trajectories_for_print(all_trajectories[25], \"myfig25a.pdf\", linewidth=1.2, border_resolution='110m') "
   ],
   "outputs": [],
   "metadata": {}
  },
  {
   "cell_type": "code",
   "execution_count": null,
   "source": [
    "# The border resolution can be adjusted. (High res)\n",
    "render_trajectories_for_print(all_trajectories[25], \"myfig25b.pdf\", linewidth=1.2, border_resolution='10m')"
   ],
   "outputs": [],
   "metadata": {}
  },
  {
   "cell_type": "code",
   "execution_count": null,
   "source": [
    "#using this method you can use map tiles instead of Cartopy geometry.  \n",
    "render_trajectories_for_print_using_tiles(all_trajectories[25], \"myfig25c.pdf\", linewidth=1.2)"
   ],
   "outputs": [],
   "metadata": {}
  },
  {
   "cell_type": "code",
   "execution_count": null,
   "source": [
    "# You can change the zoom level \n",
    "render_trajectories_for_print_using_tiles(all_trajectories[25], \"myfig25d.pdf\", linewidth=1.2, tiles_zoom_level=2)"
   ],
   "outputs": [],
   "metadata": {}
  },
  {
   "cell_type": "code",
   "execution_count": null,
   "source": [
    "# And should adjust the zoom level until the label font is correclty sized. \n",
    "render_trajectories_for_print_using_tiles(all_trajectories[25], \"myfig25e.pdf\", linewidth=1.2, tiles_zoom_level=7)"
   ],
   "outputs": [],
   "metadata": {}
  }
 ],
 "metadata": {
  "interpreter": {
   "hash": "916dbcbb3f70747c44a77c7bcd40155683ae19c65e1c03b4aa3499c5328201f1"
  },
  "kernelspec": {
   "display_name": "Python 3.8.5 64-bit",
   "name": "python3"
  },
  "language_info": {
   "name": "python",
   "version": ""
  }
 },
 "nbformat": 4,
 "nbformat_minor": 2
}