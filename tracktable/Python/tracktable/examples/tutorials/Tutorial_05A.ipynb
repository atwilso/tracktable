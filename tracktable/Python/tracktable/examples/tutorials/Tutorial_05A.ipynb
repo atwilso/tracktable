{
 "cells": [
  {
   "cell_type": "markdown",
   "metadata": {
    "nbsphinx": "hidden"
   },
   "source": [
    "<span style=\"color:#888888\">Copyright (c) 2014-2021 National Technology and Engineering Solutions of Sandia, LLC. Under the terms of Contract DE-NA0003525 with National Technology and Engineering Solutions of Sandia, LLC, the U.S. Government retains certain rights in this software.     Redistribution and use in source and binary forms, with or without modification, are permitted provided that the following conditions are met:</span>\n",
    "\n",
    "<span style=\"color:#888888\">1. Redistributions of source code must retain the above copyright notice, this list of conditions and the following disclaimer.</span>\n",
    "\n",
    "<span style=\"color:#888888\">2. Redistributions in binary form must reproduce the above copyright notice, this list of conditions and the following disclaimer in the documentation and/or other materials provided with the distribution.</span>\n",
    "\n",
    "<span style=\"color:#888888\">THIS SOFTWARE IS PROVIDED BY THE COPYRIGHT HOLDERS AND CONTRIBUTORS \"AS IS\" AND ANY EXPRESS OR IMPLIED WARRANTIES, INCLUDING, BUT NOT LIMITED TO, THE IMPLIED WARRANTIES OF MERCHANTABILITY AND FITNESS FOR A PARTICULAR PURPOSE ARE DISCLAIMED. IN NO EVENT SHALL THE COPYRIGHT HOLDER OR CONTRIBUTORS BE LIABLE FOR ANY DIRECT, INDIRECT, INCIDENTAL, SPECIAL, EXEMPLARY, OR CONSEQUENTIAL DAMAGES (INCLUDING, BUT NOT LIMITED TO, PROCUREMENT OF SUBSTITUTE GOODS OR SERVICES; LOSS OF USE, DATA, OR PROFITS; OR BUSINESS INTERRUPTION) HOWEVER CAUSED AND ON ANY THEORY OF LIABILITY, WHETHER IN CONTRACT, STRICT LIABILITY, OR TORT (INCLUDING NEGLIGENCE OR OTHERWISE) ARISING IN ANY WAY OUT OF THE USE OF THIS SOFTWARE, EVEN IF ADVISED OF THE POSSIBILITY OF SUCH DAMAGE.</span>"
   ]
  },
  {
   "cell_type": "markdown",
   "source": [
    "# <span style=\"color:#0054a8\">**Tutorial 5:**</span> <span style=\"color:#555555\">Trajectory Visualization</span>"
   ],
   "metadata": {}
  },
  {
   "cell_type": "code",
   "execution_count": null,
   "source": [
    "import tracktable.examples.tutorials.tutorial_helper as tutorial "
   ],
   "outputs": [],
   "metadata": {}
  },
  {
   "cell_type": "markdown",
   "source": [
    "## Purpose\n",
    "\n",
    "The next three notebooks demonstrate how to use Tracktable's internal rendering functions to visualize trajectories.  Tracktable has numerous rendering methods, and not all are shown here.  A comprehensive rendering user guide can be found in the Tracktable documentation: https://tracktable.readthedocs.io/en/latest/user_guides/python/rendering.html"
   ],
   "metadata": {}
  },
  {
   "cell_type": "markdown",
   "source": [
    "We break up this tutorial into three parts, each with it's own notebook. [Tutorial 5-A](Tutorial_05A.ipynb) details interactive trajectory visualization. [Tutorial 5-B](Tutorial_05B.ipynb) details static trajectory visualization. [Tutorial 5-C](Tutorial_05C.ipynb) details heatmap visualization. "
   ],
   "metadata": {}
  },
  {
   "cell_type": "markdown",
   "source": [
    "**<span style=\"color:#81062e\">IMPORTANT:</span>** When rendering trajectories interactively, the memory required to render large lists of trajectories may cause your browser to shut down.  Try rendering smaller datasets first and work up from there to test your browser's capacity."
   ],
   "metadata": {}
  },
  {
   "cell_type": "markdown",
   "source": [
    "## <span style=\"color:#0054a8\">**Tutorial 5-A:**</span> <span style=\"color:#555555\">Interactive Trajectory Visualization</span>"
   ],
   "metadata": {}
  },
  {
   "cell_type": "markdown",
   "source": [
    "### Let's start with a list of trajectories.\n",
    "\n",
    "We will use the provided example data $^1$ for this tutorial.  For brevity, the function below reads our trajectories from a .traj file into a python list, as was demoed in [Tutorial 4](Tutorial_04.ipynb)."
   ],
   "metadata": {}
  },
  {
   "cell_type": "code",
   "execution_count": null,
   "source": [
    "trajectories = tutorial.get_trajectory_list()"
   ],
   "outputs": [],
   "metadata": {}
  },
  {
   "cell_type": "code",
   "execution_count": null,
   "source": [
    "from tracktable.render.render_trajectories import render_trajectories, render_trajectories_separate"
   ],
   "outputs": [],
   "metadata": {}
  },
  {
   "cell_type": "markdown",
   "source": [
    "### Default Rendering"
   ],
   "metadata": {}
  },
  {
   "cell_type": "markdown",
   "source": [
    "Let's start by rendering just the first trajectory in our list."
   ],
   "metadata": {}
  },
  {
   "cell_type": "code",
   "execution_count": null,
   "source": [
    "trajectory = trajectories[0]"
   ],
   "outputs": [],
   "metadata": {}
  },
  {
   "cell_type": "markdown",
   "source": [
    "By default, trajectories are rendered in folium, allowing you to **scroll** and **zoom**.  Each trajectory is hashed to a color using its `object_id` string, and the trajectory color is given a gradient from dark to light.  The end of each trajectory is marked with a white dot."
   ],
   "metadata": {}
  },
  {
   "cell_type": "code",
   "execution_count": null,
   "source": [
    "render_trajectories(trajectory)"
   ],
   "outputs": [],
   "metadata": {}
  },
  {
   "cell_type": "markdown",
   "source": [
    "Now let's render a list of fifteen trajectories together."
   ],
   "metadata": {}
  },
  {
   "cell_type": "code",
   "execution_count": null,
   "source": [
    "fifteen_trajectories = trajectories[5:20]"
   ],
   "outputs": [],
   "metadata": {}
  },
  {
   "cell_type": "code",
   "execution_count": null,
   "source": [
    "render_trajectories(fifteen_trajectories)"
   ],
   "outputs": [],
   "metadata": {}
  },
  {
   "cell_type": "markdown",
   "source": [
    "We can also render a list of trajectories separately."
   ],
   "metadata": {}
  },
  {
   "cell_type": "code",
   "execution_count": null,
   "source": [
    "three_trajectories = trajectories[10:13]"
   ],
   "outputs": [],
   "metadata": {}
  },
  {
   "cell_type": "code",
   "execution_count": null,
   "source": [
    "render_trajectories_separate(three_trajectories)"
   ],
   "outputs": [],
   "metadata": {}
  },
  {
   "cell_type": "markdown",
   "source": [
    "If there are a specific object's trajectories that we wish to render, we can select them by the object ID."
   ],
   "metadata": {}
  },
  {
   "cell_type": "code",
   "execution_count": null,
   "source": [
    "render_trajectories(trajectories, obj_ids='367782880')"
   ],
   "outputs": [],
   "metadata": {}
  },
  {
   "cell_type": "markdown",
   "source": [
    "... or select several object IDs."
   ],
   "metadata": {}
  },
  {
   "cell_type": "code",
   "execution_count": null,
   "source": [
    "render_trajectories(trajectories, obj_ids=['367782880', '367740750'])"
   ],
   "outputs": [],
   "metadata": {}
  },
  {
   "cell_type": "markdown",
   "source": [
    "### Changing the Backend"
   ],
   "metadata": {}
  },
  {
   "cell_type": "markdown",
   "source": [
    "In Jupyter, the default backend is folium, but we can change it to cartopy.  Note that by switching to cartopy, our map is no longer interactive. For more on using cartopy see [Tutorial 5-B](Tutorial_05B.ipynb)."
   ],
   "metadata": {}
  },
  {
   "cell_type": "code",
   "execution_count": null,
   "source": [
    "render_trajectories(three_trajectories, backend='cartopy', scale_length_in_km=2)"
   ],
   "outputs": [],
   "metadata": {}
  },
  {
   "cell_type": "markdown",
   "source": [
    "### Changing the Map"
   ],
   "metadata": {}
  },
  {
   "cell_type": "markdown",
   "source": [
    "The `tiles` keyword argument is defaulted to `CartoDBDark_Matter` and can be set to any of the following alternative options:\n",
    "   \n",
    "* `OpenStreetMaps`\n",
    "* `StamenTerrain` \n",
    "* `StamenToner`\n",
    "* `StamenWatercolor`\n",
    "* `CartoDBPositron`"
   ],
   "metadata": {}
  },
  {
   "cell_type": "code",
   "execution_count": null,
   "source": [
    "render_trajectories(fifteen_trajectories, tiles='CartoDBPositron')"
   ],
   "outputs": [],
   "metadata": {}
  },
  {
   "cell_type": "markdown",
   "source": [
    "You can also specify a map tile server by URL.  You will need to specify the keyword argument `attr`, the attribution string."
   ],
   "metadata": {}
  },
  {
   "cell_type": "code",
   "execution_count": null,
   "source": [
    "render_trajectories(fifteen_trajectories, tiles='http://server.arcgisonline.com/ArcGIS/rest/services/NatGeo_World_Map/MapServer/tile/{z}/{y}/{x}', attr='ESRI')"
   ],
   "outputs": [],
   "metadata": {}
  },
  {
   "cell_type": "markdown",
   "source": [
    "By default, the map will initially be zoomed to fit all trajectories, but a specific bounding box can be specified.  Note that the format of the bounding box should be `[min_longitude, min_latitude, max_longitude, max_latitude]`."
   ],
   "metadata": {}
  },
  {
   "cell_type": "code",
   "execution_count": null,
   "source": [
    "render_trajectories(fifteen_trajectories, map_bbox=[-75.1, 39.9, -73.2, 40.9])"
   ],
   "outputs": [],
   "metadata": {}
  },
  {
   "cell_type": "markdown",
   "source": [
    "### Changing Trajectory Lines"
   ],
   "metadata": {}
  },
  {
   "cell_type": "markdown",
   "source": [
    "By default the line width is `2.4`, but can be adjusted to any positive number."
   ],
   "metadata": {}
  },
  {
   "cell_type": "code",
   "execution_count": null,
   "source": [
    "render_trajectories(trajectory, linewidth=10)"
   ],
   "outputs": [],
   "metadata": {}
  },
  {
   "cell_type": "markdown",
   "source": [
    "We can render multiple trajectories in one solid color. We specify that color by passing a string to the `line_color` parameter. We choose plum here, but any HTML named color will work."
   ],
   "metadata": {}
  },
  {
   "cell_type": "code",
   "execution_count": null,
   "source": [
    "render_trajectories(three_trajectories, line_color='plum')"
   ],
   "outputs": [],
   "metadata": {}
  },
  {
   "cell_type": "markdown",
   "source": [
    "Alternatively, we can pass in the color as a hex string of the format `#RRGGBBAA` where `RR` (red), `GG` (green) and `BB` (blue) are values from 0 to 255 as two hex digits each.  The last two hex digits `AA` (alpha) are optional and control opacity (e.g. `FF` = 100% and `00` = 0%)."
   ],
   "metadata": {}
  },
  {
   "cell_type": "code",
   "execution_count": null,
   "source": [
    "render_trajectories(three_trajectories, line_color='#E6E6E650')"
   ],
   "outputs": [],
   "metadata": {}
  },
  {
   "cell_type": "markdown",
   "source": [
    "The trajectories can also be colored using a colormap. A complete list of colormaps can be viewed here: https://matplotlib.org/stable/tutorials/colors/colormaps.html."
   ],
   "metadata": {}
  },
  {
   "cell_type": "code",
   "execution_count": null,
   "source": [
    "render_trajectories(three_trajectories, color_map='plasma')"
   ],
   "outputs": [],
   "metadata": {}
  },
  {
   "cell_type": "markdown",
   "source": [
    "You can even define your own color maps. "
   ],
   "metadata": {}
  },
  {
   "cell_type": "code",
   "execution_count": null,
   "source": [
    "import matplotlib\n",
    "import numpy as np"
   ],
   "outputs": [],
   "metadata": {}
  },
  {
   "cell_type": "code",
   "execution_count": null,
   "source": [
    "# start with the matplotlib 'Blues colormap' \n",
    "blues_map = matplotlib.cm.get_cmap('Blues')\n",
    "\n",
    "# convert a matplotlib colormap to a numpy matrix of size (100, 4) composed of 100 colors each represented \n",
    "# by their RGB representation (4 numbers - red, green, blue, and opacity scaled between 0 and 1)\n",
    "newcolors = blues_map(np.linspace(0, 1, 100))\n",
    "\n",
    "# define pink using RGB representation\n",
    "pink = np.array([248/256, 24/256, 148/256, 1]) # R G B Opacity\n",
    "\n",
    "# use pink for takeoff by setting the first ~10% of trajectory to use the color pink\n",
    "newcolors[:10, :] = pink \n",
    "render_trajectories(three_trajectories, color_map = matplotlib.colors.ListedColormap(newcolors))"
   ],
   "outputs": [],
   "metadata": {}
  },
  {
   "cell_type": "markdown",
   "source": [
    "To create a color map that corresponds to features of a trajectory, create a function that maps scalars to colors and pass it to `trajectory_sclar_generator`. In our example below, color gets lighter as heading increases. Alternatively, you might use altitude instead of heading. You must also pass your scale into `color_scale`. "
   ],
   "metadata": {}
  },
  {
   "cell_type": "code",
   "execution_count": null,
   "source": [
    "from tracktable.core.geomath import bearing\n",
    "\n",
    "def heading_generator(trajectory):\n",
    "    # calculate bearing of each linear segment of the trajectory\n",
    "    return [bearing(trajectory[i], trajectory[i+1]) for i in range(len(trajectory)-1)]\n",
    "\n",
    "render_trajectories(three_trajectories,\n",
    "                    trajectory_scalar_generator=heading_generator,\n",
    "                    color_scale=matplotlib.colors.Normalize(vmin=36, vmax=349))"
   ],
   "outputs": [],
   "metadata": {}
  },
  {
   "cell_type": "markdown",
   "source": [
    "In the same way, you can control linewidth by passing a function that maps scalars to linewidth to `trajectory_linewidth_generator`.  In the example below, we'll use a built-in method that will widen the line as the trajectory progresses, but as in the previous example, a user-defined function could be specified."
   ],
   "metadata": {}
  },
  {
   "cell_type": "code",
   "execution_count": null,
   "source": [
    "from tracktable.render.map_processing.common_processing import progress_linewidth_generator\n",
    "\n",
    "render_trajectories(trajectory, trajectory_linewidth_generator=progress_linewidth_generator)"
   ],
   "outputs": [],
   "metadata": {}
  },
  {
   "cell_type": "markdown",
   "source": [
    "Specifying `gradient_hue` will render the trajectory color as a gradient that transitions from dark to light as the trajectory progresses.  The RGB color that will be used for the gradient can be either a float between 0 and 1, or a color name or hex string."
   ],
   "metadata": {}
  },
  {
   "cell_type": "code",
   "execution_count": null,
   "source": [
    "render_trajectories(three_trajectories, gradient_hue=0.2)"
   ],
   "outputs": [],
   "metadata": {}
  },
  {
   "cell_type": "markdown",
   "source": [
    "Different trajectories can be given different colors, colormaps or gradient hues by passing a list into `line_color`, `color_map` or `gradient_hue`, respectively.  Note that you cannot mix and match techniques here."
   ],
   "metadata": {}
  },
  {
   "cell_type": "code",
   "execution_count": null,
   "source": [
    "render_trajectories(three_trajectories, line_color=['red', 'blue', 'green'])"
   ],
   "outputs": [],
   "metadata": {}
  },
  {
   "cell_type": "code",
   "execution_count": null,
   "source": [
    "render_trajectories(three_trajectories, color_map=['plasma', 'viridis', 'gray'])"
   ],
   "outputs": [],
   "metadata": {}
  },
  {
   "cell_type": "code",
   "execution_count": null,
   "source": [
    "render_trajectories(three_trajectories, gradient_hue=[0.1, 0.5, 0.9])"
   ],
   "outputs": [],
   "metadata": {}
  },
  {
   "cell_type": "markdown",
   "source": [
    "### Changing Trajectory Points"
   ],
   "metadata": {}
  },
  {
   "cell_type": "markdown",
   "source": [
    "If desired, trajectory points can be rendered as well."
   ],
   "metadata": {}
  },
  {
   "cell_type": "code",
   "execution_count": null,
   "source": [
    "render_trajectories(trajectory, show_points=True)"
   ],
   "outputs": [],
   "metadata": {}
  },
  {
   "cell_type": "markdown",
   "source": [
    "...and you can specify the colors of those points using `point_color` and the radius of the dot using `point_size`"
   ],
   "metadata": {}
  },
  {
   "cell_type": "code",
   "execution_count": null,
   "source": [
    "render_trajectories(trajectory, show_points=True, point_color='red', point_size=3)"
   ],
   "outputs": [],
   "metadata": {}
  },
  {
   "cell_type": "markdown",
   "source": [
    "...or you can set the color and radius of the last point in the trajectory only."
   ],
   "metadata": {}
  },
  {
   "cell_type": "code",
   "execution_count": null,
   "source": [
    "render_trajectories(trajectory, show_points=True, dot_color='red', dot_size=3)"
   ],
   "outputs": [],
   "metadata": {}
  },
  {
   "cell_type": "markdown",
   "source": [
    "We can turn off the dot at the end of the trajectory with the `show_dot` parameter."
   ],
   "metadata": {}
  },
  {
   "cell_type": "code",
   "execution_count": null,
   "source": [
    "render_trajectories(trajectory, show_dot=False)"
   ],
   "outputs": [],
   "metadata": {}
  },
  {
   "cell_type": "markdown",
   "source": [
    "To see a trajectory point's properties in a popup when a trajectory point is clicked, send a list of the desired properties to `point_popup_properties`."
   ],
   "metadata": {}
  },
  {
   "cell_type": "code",
   "execution_count": null,
   "source": [
    "render_trajectories(trajectory, show_points=True, point_popup_properties = ['eta', 'heading'])"
   ],
   "outputs": [],
   "metadata": {}
  },
  {
   "cell_type": "markdown",
   "source": [
    "### Exporting Renderings"
   ],
   "metadata": {}
  },
  {
   "cell_type": "markdown",
   "source": [
    "If you come across a rendering you really like, you can save the trajectories as an `html` file (default filename is `trajs-timestamprange.html`)."
   ],
   "metadata": {}
  },
  {
   "cell_type": "code",
   "execution_count": null,
   "source": [
    "render_trajectories(fifteen_trajectories, save=True, filename='my_favorite_trajectories.html')"
   ],
   "outputs": [],
   "metadata": {}
  },
  {
   "cell_type": "markdown",
   "source": [
    "<span style=\"color:gray\">$^1$ Bureau of Ocean Energy Management (BOEM) and National Oceanic and Atmospheric Administration (NOAA). MarineCadastre.gov. *AIS Data for 2020.* Retrieved February 2021 from [marinecadastre.gov/data](https://marinecadastre.gov/data/).  Trimmed down to the first hour of June 30, 2020, restricted to in NY Harbor.</span>"
   ],
   "metadata": {}
  }
 ],
 "metadata": {
  "kernelspec": {
   "name": "python3",
   "display_name": "Python 3.8.10 64-bit"
  },
  "language_info": {
   "codemirror_mode": {
    "name": "ipython",
    "version": 3
   },
   "file_extension": ".py",
   "mimetype": "text/x-python",
   "name": "python",
   "nbconvert_exporter": "python",
   "pygments_lexer": "ipython3",
   "version": "3.8.10"
  },
  "interpreter": {
   "hash": "31f2aee4e71d21fbe5cf8b01ff0e069b9275f58929596ceb00d14d90e3e16cd6"
  }
 },
 "nbformat": 4,
 "nbformat_minor": 5
}