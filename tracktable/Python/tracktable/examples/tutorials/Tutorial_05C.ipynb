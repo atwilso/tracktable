{
 "cells": [
  {
   "cell_type": "markdown",
   "metadata": {
    "nbsphinx": "hidden"
   },
   "source": [
    "<span style=\"color:#888888\">Copyright (c) 2014-2021 National Technology and Engineering Solutions of Sandia, LLC. Under the terms of Contract DE-NA0003525 with National Technology and Engineering Solutions of Sandia, LLC, the U.S. Government retains certain rights in this software.     Redistribution and use in source and binary forms, with or without modification, are permitted provided that the following conditions are met:</span>\n",
    "\n",
    "<span style=\"color:#888888\">1. Redistributions of source code must retain the above copyright notice, this list of conditions and the following disclaimer.</span>\n",
    "\n",
    "<span style=\"color:#888888\">2. Redistributions in binary form must reproduce the above copyright notice, this list of conditions and the following disclaimer in the documentation and/or other materials provided with the distribution.</span>\n",
    "\n",
    "<span style=\"color:#888888\">THIS SOFTWARE IS PROVIDED BY THE COPYRIGHT HOLDERS AND CONTRIBUTORS \"AS IS\" AND ANY EXPRESS OR IMPLIED WARRANTIES, INCLUDING, BUT NOT LIMITED TO, THE IMPLIED WARRANTIES OF MERCHANTABILITY AND FITNESS FOR A PARTICULAR PURPOSE ARE DISCLAIMED. IN NO EVENT SHALL THE COPYRIGHT HOLDER OR CONTRIBUTORS BE LIABLE FOR ANY DIRECT, INDIRECT, INCIDENTAL, SPECIAL, EXEMPLARY, OR CONSEQUENTIAL DAMAGES (INCLUDING, BUT NOT LIMITED TO, PROCUREMENT OF SUBSTITUTE GOODS OR SERVICES; LOSS OF USE, DATA, OR PROFITS; OR BUSINESS INTERRUPTION) HOWEVER CAUSED AND ON ANY THEORY OF LIABILITY, WHETHER IN CONTRACT, STRICT LIABILITY, OR TORT (INCLUDING NEGLIGENCE OR OTHERWISE) ARISING IN ANY WAY OUT OF THE USE OF THIS SOFTWARE, EVEN IF ADVISED OF THE POSSIBILITY OF SUCH DAMAGE.</span>"
   ]
  },
  {
   "cell_type": "markdown",
   "source": [
    "## <span style=\"color:#0054a8\">**Tutorial 5-C:**</span> <span style=\"color:#555555\">Heatmap Trajectory Visualization</span>"
   ],
   "metadata": {}
  },
  {
   "cell_type": "markdown",
   "source": [
    "**Purpose**: Heatmaps give information about the density of points in a given area."
   ],
   "metadata": {}
  },
  {
   "cell_type": "code",
   "execution_count": null,
   "source": [
    "import tracktable.examples.tutorials.tutorial_helper as tutorial "
   ],
   "outputs": [],
   "metadata": {}
  },
  {
   "cell_type": "markdown",
   "source": [
    "### Let's start with a list of trajectories.\n",
    "\n",
    "We will use the provided example data $^1$ for this tutorial.  For brevity, the function below reads our trajectories from a .traj file into a python list, as was demoed in [Tutorial 4](Tutorial_04.ipynb)."
   ],
   "metadata": {}
  },
  {
   "cell_type": "code",
   "execution_count": null,
   "source": [
    "trajectories = tutorial.get_trajectory_list('tutorial-static-viz')"
   ],
   "outputs": [],
   "metadata": {}
  },
  {
   "cell_type": "markdown",
   "source": [
    "Let's create a list of all of the end points of the trajectories in this set."
   ],
   "metadata": {}
  },
  {
   "cell_type": "code",
   "execution_count": null,
   "source": [
    "points = tutorial.trajectories_to_end_points(trajectories)"
   ],
   "outputs": [],
   "metadata": {}
  },
  {
   "cell_type": "code",
   "execution_count": null,
   "source": [
    "from tracktable.render import render_map, render_heatmap\n",
    "from tracktable.render.map_processing import paths\n",
    "import cartopy\n",
    "import matplotlib\n",
    "import matplotlib.pyplot as plt"
   ],
   "outputs": [],
   "metadata": {}
  },
  {
   "cell_type": "markdown",
   "source": [
    "Let's first look at static heatmap image of the end points that fall in the continental United States.\n",
    "\n",
    "A quick note about Jupyter notebooks. Jupyter will show you the state of the figure when you exit the cell in which you created it. You cannot apply different effects in different cells.  To work around this, we put all our different effects in functions, then call those functions one after another in a single cell."
   ],
   "metadata": {}
  },
  {
   "cell_type": "code",
   "execution_count": null,
   "source": [
    "# Set up our canvas to be a 800x600 image (8x6 inches at 100 dpi).\n",
    "figure = plt.figure(dpi=100, figsize=(8, 6))\n",
    "\n",
    "# Set up our map projection to be the continental United States.\n",
    "(mymap, map_actors) = render_map.render_map(domain='terrestrial',\n",
    "                                        map_name='region:conus')\n",
    "\n",
    "# Grab default bounding box.\n",
    "bbox = tutorial.get_bbox('conus', 'terrestrial')\n",
    "\n",
    "# Render the heatmap.\n",
    "render_heatmap.render_heatmap(points, # Our list of points we created above\n",
    "                    backend='cartopy',\n",
    "                    map_canvas=mymap,\n",
    "                    bounding_box=bbox,       # Bounding box is generated from mymap\n",
    "                    bin_size=0.25,\n",
    "                    colormap='gist_heat')"
   ],
   "outputs": [],
   "metadata": {}
  },
  {
   "cell_type": "markdown",
   "source": [
    "We can also render an interactive heatmap using folium. You can optionally provide a list of weights to color the heatmap (instead of using density of points in a given area alone). "
   ],
   "metadata": {}
  },
  {
   "cell_type": "code",
   "execution_count": null,
   "source": [
    "render_heatmap.render_heatmap(points, trajectories=trajectories)"
   ],
   "outputs": [],
   "metadata": {}
  }
 ],
 "metadata": {
  "kernelspec": {
   "name": "python3",
   "display_name": "Python 3.8.10 64-bit"
  },
  "language_info": {
   "codemirror_mode": {
    "name": "ipython",
    "version": 3
   },
   "file_extension": ".py",
   "mimetype": "text/x-python",
   "name": "python",
   "nbconvert_exporter": "python",
   "pygments_lexer": "ipython3",
   "version": "3.8.10"
  },
  "interpreter": {
   "hash": "31f2aee4e71d21fbe5cf8b01ff0e069b9275f58929596ceb00d14d90e3e16cd6"
  }
 },
 "nbformat": 4,
 "nbformat_minor": 4
}