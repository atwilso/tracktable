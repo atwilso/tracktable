{
 "cells": [
  {
   "cell_type": "markdown",
   "source": [
    "<span style=\"color:#888888\">Copyright (c) 2014-2021 National Technology and Engineering Solutions of Sandia, LLC. Under the terms of Contract DE-NA0003525 with National Technology and Engineering Solutions of Sandia, LLC, the U.S. Government retains certain rights in this software.     Redistribution and use in source and binary forms, with or without modification, are permitted provided that the following conditions are met:</span>\n",
    "\n",
    "<span style=\"color:#888888\">1. Redistributions of source code must retain the above copyright notice, this list of conditions and the following disclaimer.</span>\n",
    "\n",
    "<span style=\"color:#888888\">2. Redistributions in binary form must reproduce the above copyright notice, this list of conditions and the following disclaimer in the documentation and/or other materials provided with the distribution.</span>\n",
    "\n",
    "<span style=\"color:#888888\">THIS SOFTWARE IS PROVIDED BY THE COPYRIGHT HOLDERS AND CONTRIBUTORS \"AS IS\" AND ANY EXPRESS OR IMPLIED WARRANTIES, INCLUDING, BUT NOT LIMITED TO, THE IMPLIED WARRANTIES OF MERCHANTABILITY AND FITNESS FOR A PARTICULAR PURPOSE ARE DISCLAIMED. IN NO EVENT SHALL THE COPYRIGHT HOLDER OR CONTRIBUTORS BE LIABLE FOR ANY DIRECT, INDIRECT, INCIDENTAL, SPECIAL, EXEMPLARY, OR CONSEQUENTIAL DAMAGES (INCLUDING, BUT NOT LIMITED TO, PROCUREMENT OF SUBSTITUTE GOODS OR SERVICES; LOSS OF USE, DATA, OR PROFITS; OR BUSINESS INTERRUPTION) HOWEVER CAUSED AND ON ANY THEORY OF LIABILITY, WHETHER IN CONTRACT, STRICT LIABILITY, OR TORT (INCLUDING NEGLIGENCE OR OTHERWISE) ARISING IN ANY WAY OUT OF THE USE OF THIS SOFTWARE, EVEN IF ADVISED OF THE POSSIBILITY OF SUCH DAMAGE.</span>"
   ],
   "metadata": {
    "nbsphinx": "hidden"
   }
  },
  {
   "cell_type": "markdown",
   "source": [
    "# <span style=\"color:#0054a8\">**Tutorial 6:**</span> <span style=\"color:#555555\">Filtering Trajectories</span>"
   ],
   "metadata": {}
  },
  {
   "cell_type": "code",
   "execution_count": null,
   "source": [
    "import tracktable.examples.tutorials.tutorial_helper as tutorial "
   ],
   "outputs": [],
   "metadata": {}
  },
  {
   "cell_type": "markdown",
   "source": [
    "## Purpose\n",
    "\n",
    "It is often desirable to remove unwanted trajectories from a dataset prior to beginning analysis.  Tracktable's `geomath` package includes a large suite of functions to support trajectory filtering, as well as general analysis.  We will demonstrate several possible filtering techniques here."
   ],
   "metadata": {}
  },
  {
   "cell_type": "markdown",
   "source": [
    "## Import Example Trajectories\n",
    "\n",
    "The function below will assemble trajectories from our sample data file $^1$.  For details, please see Tutorials [1](Tutorial_01.ipynb) & [2](Tutorial_02.ipynb)."
   ],
   "metadata": {}
  },
  {
   "cell_type": "code",
   "execution_count": null,
   "source": [
    "trajectories = tutorial.get_trajectory_list()"
   ],
   "outputs": [],
   "metadata": {}
  },
  {
   "cell_type": "markdown",
   "source": [
    "Let's print out some info about our trajectories.  How each of these values is calculated is explained in each corresponding filter below."
   ],
   "metadata": {}
  },
  {
   "cell_type": "code",
   "execution_count": null,
   "source": [
    "tutorial.print_statistics(trajectories, 'all')"
   ],
   "outputs": [],
   "metadata": {}
  },
  {
   "cell_type": "markdown",
   "source": [
    "## Filtering using Tracktable's `geomath`"
   ],
   "metadata": {}
  },
  {
   "cell_type": "markdown",
   "source": [
    "### Filtering by Distance Traveled"
   ],
   "metadata": {}
  },
  {
   "cell_type": "markdown",
   "source": [
    "Suppose we know that our dataset contains many short trajectories (say, less than 5km in length) that we wish to filter out.  This can be done using `geomath`'s `length` function."
   ],
   "metadata": {}
  },
  {
   "cell_type": "code",
   "execution_count": null,
   "source": [
    "length_threshold = 5 # km"
   ],
   "outputs": [],
   "metadata": {}
  },
  {
   "cell_type": "code",
   "execution_count": null,
   "source": [
    "from tracktable.core.geomath import length\n",
    "\n",
    "trajectories_filtered_by_length = [trajectory for trajectory in trajectories if length(trajectory) > length_threshold]"
   ],
   "outputs": [],
   "metadata": {}
  },
  {
   "cell_type": "markdown",
   "source": [
    "How many are left?"
   ],
   "metadata": {}
  },
  {
   "cell_type": "code",
   "execution_count": null,
   "source": [
    "len(trajectories_filtered_by_length)"
   ],
   "outputs": [],
   "metadata": {}
  },
  {
   "cell_type": "markdown",
   "source": [
    "What lengths do the remaining trajectories have?"
   ],
   "metadata": {}
  },
  {
   "cell_type": "code",
   "execution_count": null,
   "source": [
    "tutorial.print_statistics(trajectories_filtered_by_length, 'length')"
   ],
   "outputs": [],
   "metadata": {}
  },
  {
   "cell_type": "markdown",
   "source": [
    "### Filtering by Straightness"
   ],
   "metadata": {}
  },
  {
   "cell_type": "markdown",
   "source": [
    "In some datasets (such as air traffic) we can anticipate that many of our trajectories will be nearly straight, and we may wish to filter these out as \"uninteresting\" to make analysis faster on the remaining trajectories."
   ],
   "metadata": {}
  },
  {
   "cell_type": "markdown",
   "source": [
    "The function below will calculate the \"straightness\" of a trajectory.  This is done by comparing the distance between the trajectory's endpoints to the distance traveled along the trajectory.  If their ratio is 1, the trajectory traveled in a straight line.  As the ratio decreases, we consider the trajectory to be less straight.  A ratio of zero means the trajectory's origin and destination are the same, so it could not have traveled a straight line."
   ],
   "metadata": {}
  },
  {
   "cell_type": "code",
   "execution_count": null,
   "source": [
    "from tracktable.core.geomath import length, end_to_end_distance\n",
    "\n",
    "def calculate_straightness(trajectory):\n",
    "    \n",
    "    # get the distance between endpoints of a trajectory\n",
    "    end_to_end_dist = end_to_end_distance(trajectory)\n",
    "    \n",
    "    # get the distance traveled along the trajectory\n",
    "    dist_traveled = length(trajectory)\n",
    "    \n",
    "    # if the trajectory doesn't move, it is not straight\n",
    "    if dist_traveled == 0:\n",
    "        return 0\n",
    "    \n",
    "    # measure how well the trajectory followed the straight path\n",
    "    return end_to_end_dist / dist_traveled"
   ],
   "outputs": [],
   "metadata": {}
  },
  {
   "cell_type": "markdown",
   "source": [
    "Since straightness varies from 0 to 1, so must our threshold.  Increasing our threshold means we will discard few trajectories based on straightness."
   ],
   "metadata": {}
  },
  {
   "cell_type": "code",
   "execution_count": null,
   "source": [
    "straightness_threshold = 0.9"
   ],
   "outputs": [],
   "metadata": {}
  },
  {
   "cell_type": "markdown",
   "source": [
    "Let's discard all trajectories with straightness 0.9 or higher."
   ],
   "metadata": {}
  },
  {
   "cell_type": "code",
   "execution_count": null,
   "source": [
    "trajectories_filtered_by_straightness = [trajectory for trajectory in trajectories if calculate_straightness(trajectory) < straightness_threshold]"
   ],
   "outputs": [],
   "metadata": {}
  },
  {
   "cell_type": "markdown",
   "source": [
    "How many are left?"
   ],
   "metadata": {}
  },
  {
   "cell_type": "code",
   "execution_count": null,
   "source": [
    "len(trajectories_filtered_by_straightness)"
   ],
   "outputs": [],
   "metadata": {}
  },
  {
   "cell_type": "markdown",
   "source": [
    "How straight are the remaining trajectories?"
   ],
   "metadata": {}
  },
  {
   "cell_type": "code",
   "execution_count": null,
   "source": [
    "tutorial.print_statistics(trajectories_filtered_by_straightness, 'straightness')"
   ],
   "outputs": [],
   "metadata": {}
  },
  {
   "cell_type": "markdown",
   "source": [
    "### Filtering by Area Covered"
   ],
   "metadata": {}
  },
  {
   "cell_type": "markdown",
   "source": [
    "The convex hull is the smallest convex polygon that encloses the entire trajectory (imagine each trajectory point to be a peg on a board, and we are stretching a rubber band around this set of pegs).  The area of this polygon can give us insight into the breadth of travel of a trajectory, and can be calculated using the `convex_hull_area` function of `geomath`.\n",
    "\n",
    "For example, in some maritime datasets, we may wish to remove anchored boats from our dataset.  This can be done by filtering out trajectories with a small `convex_hull_area`, e.g. less than 0.2 km $^2$, as shown below."
   ],
   "metadata": {}
  },
  {
   "cell_type": "code",
   "execution_count": null,
   "source": [
    "convex_hull_area_threshold = 0.2 # square km"
   ],
   "outputs": [],
   "metadata": {}
  },
  {
   "cell_type": "code",
   "execution_count": null,
   "source": [
    "from tracktable.core.geomath import convex_hull_area\n",
    "\n",
    "trajectories_filtered_by_area = [trajectory for trajectory in trajectories if convex_hull_area(trajectory) > convex_hull_area_threshold]"
   ],
   "outputs": [],
   "metadata": {}
  },
  {
   "cell_type": "markdown",
   "source": [
    "How many are left?"
   ],
   "metadata": {}
  },
  {
   "cell_type": "code",
   "execution_count": null,
   "source": [
    "len(trajectories_filtered_by_area)"
   ],
   "outputs": [],
   "metadata": {}
  },
  {
   "cell_type": "markdown",
   "source": [
    "What are the convex hull areas of the remaining trajectories?"
   ],
   "metadata": {}
  },
  {
   "cell_type": "code",
   "execution_count": null,
   "source": [
    "tutorial.print_statistics(trajectories_filtered_by_area, 'convex hull area')"
   ],
   "outputs": [],
   "metadata": {}
  },
  {
   "cell_type": "markdown",
   "source": [
    "### Filtering by Average Speed"
   ],
   "metadata": {}
  },
  {
   "cell_type": "markdown",
   "source": [
    "We may wish to remove slow moving objects from our dataset (such as tugboats in maritime data).  We can use the `speed_between` function on the first and last trajectory points to filter slow trajectories, as shown below."
   ],
   "metadata": {}
  },
  {
   "cell_type": "code",
   "execution_count": null,
   "source": [
    "avg_speed_threshold = 1 # km/s"
   ],
   "outputs": [],
   "metadata": {}
  },
  {
   "cell_type": "code",
   "execution_count": null,
   "source": [
    "from tracktable.core.geomath import speed_between\n",
    "\n",
    "trajectories_filtered_by_avg_speed = [trajectory for trajectory in trajectories if speed_between(trajectory[0], trajectory[-1]) > avg_speed_threshold]"
   ],
   "outputs": [],
   "metadata": {}
  },
  {
   "cell_type": "markdown",
   "source": [
    "How many are left?"
   ],
   "metadata": {}
  },
  {
   "cell_type": "code",
   "execution_count": null,
   "source": [
    "len(trajectories_filtered_by_avg_speed)"
   ],
   "outputs": [],
   "metadata": {}
  },
  {
   "cell_type": "markdown",
   "source": [
    "What average speeds do the remaining trajectories have?"
   ],
   "metadata": {}
  },
  {
   "cell_type": "code",
   "execution_count": null,
   "source": [
    "tutorial.print_statistics(trajectories_filtered_by_avg_speed, 'average speed')"
   ],
   "outputs": [],
   "metadata": {}
  },
  {
   "cell_type": "markdown",
   "source": [
    "### Filtering by Spatial Window"
   ],
   "metadata": {}
  },
  {
   "cell_type": "markdown",
   "source": [
    "If we only want to keep trajectories within a given spatial window, we can filter as demonstrated below.  The algorithm below is a quick filtering algorithm that uses a trajectory's bounding box.\n",
    "\n",
    "*Reminder:* Tracktable uses the ordering (longitude, latitude) to match the traditional Cartesian (x,y) ordering."
   ],
   "metadata": {}
  },
  {
   "cell_type": "code",
   "execution_count": null,
   "source": [
    "from tracktable.core.geomath import compute_bounding_box\n",
    "\n",
    "def remove_trajectories_outside(trajectories, min_lon, min_lat, max_lon, max_lat, strictly_within=True):\n",
    "    \n",
    "    trajectories_in_window = []\n",
    "    \n",
    "    for trajectory in trajectories:\n",
    "        \n",
    "        # Get the bounding box of the current trajectory.\n",
    "        bounding_box = compute_bounding_box(trajectory)\n",
    "        \n",
    "        # Check if the bottom left corner of the trajectory's bounding box is inside our window.\n",
    "        min_corner_in_window = (min_lon < bounding_box.min_corner[0] < max_lon and min_lat < bounding_box.min_corner[1] < max_lat)\n",
    "        \n",
    "        # Check if the top right corner of the trajectory's bounding box is inside our window.\n",
    "        max_corner_in_window = (min_lon < bounding_box.max_corner[0] < max_lon and min_lat < bounding_box.max_corner[1] < max_lat)\n",
    "        \n",
    "        # For a trajectory to be entirely within the box, both corners must be in the box.\n",
    "        # For a trajectory to be somewhat within the box, at least one corner must be in the box.\n",
    "        if ((strictly_within and min_corner_in_window and max_corner_in_window) \n",
    "            or ((not strictly_within) and (min_corner_in_window or max_corner_in_window))):\n",
    "            \n",
    "            trajectories_in_window.append(trajectory)\n",
    "            \n",
    "    return trajectories_in_window"
   ],
   "outputs": [],
   "metadata": {}
  },
  {
   "cell_type": "code",
   "execution_count": null,
   "source": [
    "trajectories_in_window = remove_trajectories_outside(trajectories, -74.1, 40.5, -73.9, 40.6, strictly_within=True) # change strictly_within to False to include trajectories that cross the boundary of our window"
   ],
   "outputs": [],
   "metadata": {}
  },
  {
   "cell_type": "markdown",
   "source": [
    "How many trajectories are strictly within the window with bottom left corner (-74.1, 40.5) and top right corner (-73.9, 40.6)?"
   ],
   "metadata": {}
  },
  {
   "cell_type": "code",
   "execution_count": null,
   "source": [
    "len(trajectories_in_window)"
   ],
   "outputs": [],
   "metadata": {}
  },
  {
   "cell_type": "markdown",
   "source": [
    "## Other Filtering Techniques"
   ],
   "metadata": {}
  },
  {
   "cell_type": "markdown",
   "source": [
    "### Trim Redundant Points\n",
    "\n",
    "The storage footprints can be significantly reduced by removing redundant points, meaning sequential points with unchanged lat/long coordinates.  We can use Tracktable to create the function `trim_redundant_points` that will remove these points.\n",
    "\n",
    "*Example:* If our trajectory consists of sequential points $p_0$, $p_1$, $p_2$, $p_3$, $p_4$, $p_5$, $p_6$, $p_7$, $p_8$, and points $p_1$, $p_2$, $p_3$, $p_4$, $p_6$ all occur in the exact same location, we can remove $p_2$ and $p_3$ without losing any spacio-temporal information."
   ],
   "metadata": {}
  },
  {
   "cell_type": "code",
   "execution_count": null,
   "source": [
    "from tracktable.domain.terrestrial import Trajectory\n",
    "\n",
    "# Determines if the latitude and longitude of two points match.\n",
    "def colocated(point1, point2):\n",
    "    return point1[0] == point2[0] and point1[1] == point2[1]\n",
    "\n",
    "# Determines if the timestamps of two points match.\n",
    "def cotimed(point1, point2):\n",
    "    return point1.timestamp == point2.timestamp\n",
    "\n",
    "# Removes the middle points from any sequence of colocated points\n",
    "def trim_redundant_points(trajectory):\n",
    "    # Initialize our interval of points at the same location to include only the first point.\n",
    "    first_point_at_location = trajectory[0]\n",
    "    last_point_at_location = trajectory[0]\n",
    "    \n",
    "    trimmed_trajectory = Trajectory()\n",
    "    \n",
    "    for point in trajectory[1:]:\n",
    "        if colocated(first_point_at_location, point):\n",
    "            # Extend our interval of points at the same location to include this point,\n",
    "            last_point_at_location = point\n",
    "        else:\n",
    "            # Keep the first point of the interval of points at the same location.\n",
    "            trimmed_trajectory.append(first_point_at_location)\n",
    "            # Check that the endpoints of our interval of points at the same location aren't indentically timed as well.\n",
    "            if not cotimed(first_point_at_location, last_point_at_location):\n",
    "                # Keep the last point of the interval of points at the same location.\n",
    "                trimmed_trajectory.append(last_point_at_location)\n",
    "            # Reinitialize the interval of points at the same location to include only the current point.\n",
    "            first_point_at_location = point\n",
    "            last_point_at_location = point\n",
    "    \n",
    "    \n",
    "    if not cotimed(first_point_at_location, last_point_at_location):\n",
    "        trimmed_trajectory.extend([first_point_at_location, last_point_at_location])\n",
    "\n",
    "    return trimmed_trajectory"
   ],
   "outputs": [],
   "metadata": {}
  },
  {
   "cell_type": "code",
   "execution_count": null,
   "source": [
    "trajectories_with_redundant_points_removed = [trim_redundant_points(trajectory) for trajectory in trajectories]"
   ],
   "outputs": [],
   "metadata": {}
  },
  {
   "cell_type": "markdown",
   "source": [
    "We still have the same number of trajectories..."
   ],
   "metadata": {}
  },
  {
   "cell_type": "code",
   "execution_count": null,
   "source": [
    "len(trajectories)"
   ],
   "outputs": [],
   "metadata": {}
  },
  {
   "cell_type": "code",
   "execution_count": null,
   "source": [
    "len(trajectories_with_redundant_points_removed)"
   ],
   "outputs": [],
   "metadata": {}
  },
  {
   "cell_type": "markdown",
   "source": [
    "... but we have reduced the number of trajectory points in our data:"
   ],
   "metadata": {}
  },
  {
   "cell_type": "code",
   "execution_count": null,
   "source": [
    "tutorial.print_statistics(trajectories, 'total points')"
   ],
   "outputs": [],
   "metadata": {}
  },
  {
   "cell_type": "code",
   "execution_count": null,
   "source": [
    "tutorial.print_statistics(trajectories_with_redundant_points_removed, 'total points')"
   ],
   "outputs": [],
   "metadata": {}
  },
  {
   "cell_type": "markdown",
   "source": [
    "### Filtering by Time Window"
   ],
   "metadata": {}
  },
  {
   "cell_type": "markdown",
   "source": [
    "We can remove all trajectories occurring outside of a given time range as follows:"
   ],
   "metadata": {}
  },
  {
   "cell_type": "code",
   "execution_count": null,
   "source": [
    "from datetime import timedelta, timezone, datetime\n",
    "\n",
    "# This format can be changed to match your data.\n",
    "format = '%Y-%m-%d %H:%M:%S'\n",
    "\n",
    "# Let's trim down to the first thirty minutes of the day.\n",
    "begin = datetime.strptime('2020-06-30 00:00:00', format)\n",
    "end = datetime.strptime('2020-06-30 00:30:00', format)\n",
    "\n",
    "# Matching our begin/end timestamps to time zones of the Tracktable trajectories.\n",
    "begin = begin.replace(tzinfo=timezone.utc)\n",
    "end = end.replace(tzinfo=timezone.utc)"
   ],
   "outputs": [],
   "metadata": {}
  },
  {
   "cell_type": "code",
   "execution_count": null,
   "source": [
    "trajectories_in_first_thirty_minutes = [trajectory for trajectory in trajectories\n",
    "                                        if trajectory[0].timestamp - begin >= timedelta(0) and end - trajectory[-1].timestamp >= timedelta(0)]"
   ],
   "outputs": [],
   "metadata": {}
  },
  {
   "cell_type": "markdown",
   "source": [
    "How many trajectories occurred only in the first thirty minutes of the day?"
   ],
   "metadata": {}
  },
  {
   "cell_type": "code",
   "execution_count": null,
   "source": [
    "len(trajectories_in_first_thirty_minutes)"
   ],
   "outputs": [],
   "metadata": {}
  },
  {
   "cell_type": "markdown",
   "source": [
    "## Additional Functionality\n",
    "\n",
    "Tracktable's `geomath` module contains many additional functions not shown here.  For a complete list, please see the [geomath documentation](https://tracktable.readthedocs.io/en/latest/api/python/tracktable.core.geomath.html?highlight=geomath#tracktable-core-geomath-module)."
   ],
   "metadata": {}
  },
  {
   "cell_type": "markdown",
   "source": [
    "<span style=\"color:gray\">$^1$ Bureau of Ocean Energy Management (BOEM) and National Oceanic and Atmospheric Administration (NOAA). MarineCadastre.gov. *AIS Data for 2020.* Retrieved February 2021 from [marinecadastre.gov/data](https://marinecadastre.gov/data/).  Trimmed down to the first hour of June 30, 2020, restricted to in NY Harbor.</span>"
   ],
   "metadata": {}
  }
 ],
 "metadata": {
  "kernelspec": {
   "name": "python3",
   "display_name": "Python 3.8.10 64-bit"
  },
  "language_info": {
   "codemirror_mode": {
    "name": "ipython",
    "version": 3
   },
   "file_extension": ".py",
   "mimetype": "text/x-python",
   "name": "python",
   "nbconvert_exporter": "python",
   "pygments_lexer": "ipython3",
   "version": "3.8.10"
  },
  "interpreter": {
   "hash": "31f2aee4e71d21fbe5cf8b01ff0e069b9275f58929596ceb00d14d90e3e16cd6"
  }
 },
 "nbformat": 4,
 "nbformat_minor": 5
}