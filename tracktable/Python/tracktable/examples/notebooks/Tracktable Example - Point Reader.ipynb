{
 "cells": [
  {
   "cell_type": "markdown",
   "metadata": {},
   "source": [
    "<span style=\"color:blue\">Copyright (c) 2014-2017 National Technology and Engineering\n",
    "Solutions of Sandia, LLC. Under the terms of Contract DE-NA0003525\n",
    "with National Technology and Engineering Solutions of Sandia, LLC,\n",
    "the U.S. Government retains certain rights in this software.</span>    \n",
    "    \n",
    "<span style=\"color:blue\">Redistribution and use in source and binary forms, with or without\n",
    "modification, are permitted provided that the following conditions\n",
    "are met:</span>    \n",
    "    \n",
    "&nbsp;&nbsp;&nbsp;&nbsp;<span style=\"color:green\">1. Redistributions of source code must retain the above copyright\n",
    "   notice, this list of conditions and the following disclaimer.</span>    \n",
    "    \n",
    "&nbsp;&nbsp;&nbsp;&nbsp;<span style=\"color:green\">2. Redistributions in binary form must reproduce the above copyright\n",
    "   notice, this list of conditions and the following disclaimer in the\n",
    "   documentation and/or other materials provided with the distribution.</span>    \n",
    "    \n",
    "<span style=\"color:blue\">THIS SOFTWARE IS PROVIDED BY THE COPYRIGHT HOLDERS AND CONTRIBUTORS\n",
    "\"AS IS\" AND ANY EXPRESS OR IMPLIED WARRANTIES, INCLUDING, BUT NOT\n",
    "LIMITED TO, THE IMPLIED WARRANTIES OF MERCHANTABILITY AND FITNESS FOR\n",
    "A PARTICULAR PURPOSE ARE DISCLAIMED. IN NO EVENT SHALL THE COPYRIGHT\n",
    "HOLDER OR CONTRIBUTORS BE LIABLE FOR ANY DIRECT, INDIRECT, INCIDENTAL,\n",
    "SPECIAL, EXEMPLARY, OR CONSEQUENTIAL DAMAGES (INCLUDING, BUT NOT\n",
    "LIMITED TO, PROCUREMENT OF SUBSTITUTE GOODS OR SERVICES; LOSS OF USE,\n",
    "DATA, OR PROFITS; OR BUSINESS INTERRUPTION) HOWEVER CAUSED AND ON ANY\n",
    "THEORY OF LIABILITY, WHETHER IN CONTRACT, STRICT LIABILITY, OR TORT\n",
    "(INCLUDING NEGLIGENCE OR OTHERWISE) ARISING IN ANY WAY OUT OF THE USE\n",
    "OF THIS SOFTWARE, EVEN IF ADVISED OF THE POSSIBILITY OF SUCH DAMAGE.</span>"
   ]
  },
  {
   "cell_type": "markdown",
   "metadata": {},
   "source": [
    "**Purpose:** Demonstrate how to create and use a terrestrial point reader.    \n",
    "The basic object in tracktable is the point reader. This data structure reads tabular data from a file and saves it as points containing, at the least, an object id, timestamp, longitude, and latitude.    "
   ]
  },
  {
   "cell_type": "markdown",
   "metadata": {},
   "source": [
    "**Imports**"
   ]
  },
  {
   "cell_type": "code",
   "execution_count": 1,
   "metadata": {},
   "outputs": [],
   "source": [
    "from tracktable.domain import all_domains as ALL_DOMAINS\n",
    "import importlib\n",
    "import itertools"
   ]
  },
  {
   "cell_type": "markdown",
   "metadata": {},
   "source": [
    "To create a point, we create a generic TrajectoryPointReader object and give it the following:    \n",
    "&emsp;input file - File stream connected to a data file\n",
    "&emsp;delimiter - The character separating fields in the fileie, a csv will have ',' as a delimiter)    \n",
    "&emsp;comment character - The character marking comments in the file and will be ignored by the point reader    \n",
    "&emsp;domain - Which domain the points come from. Options are '<span style=\"color:blue\">terrestrial</span>', '<span style=\"color:blue\">Cartesian2d</span>', and '<span style=\"color:blue\">Cartesian3d</span>'"
   ]
  },
  {
   "cell_type": "code",
   "execution_count": 2,
   "metadata": {},
   "outputs": [],
   "source": [
    "inFile = open('../data/SampleASDI.csv')\n",
    "domain = 'terrestrial'                 # we want to create a terrestrial point reader\n",
    "if domain.lower() not in ALL_DOMAINS:  #Format domain and make sure it is an available domain\n",
    "    raise KeyError(\"Domain '{}' is not in list of installed domains ({}).\".format(domain, ', '.join(ALL_DOMAINS)))\n",
    "else:\n",
    "    domain_to_import = 'tracktable.domain.{}'.format(domain.lower())\n",
    "    domain_module = importlib.import_module(domain_to_import)\n",
    "\n",
    "reader = domain_module.TrajectoryPointReader()\n",
    "reader.input = inFile\n",
    "reader.comment_character = '#'\n",
    "reader.field_delimiter = ','"
   ]
  },
  {
   "cell_type": "markdown",
   "metadata": {},
   "source": [
    "In order to view the points the reader has read, we iterate over the reader."
   ]
  },
  {
   "cell_type": "code",
   "execution_count": 5,
   "metadata": {},
   "outputs": [
    {
     "name": "stdout",
     "output_type": "stream",
     "text": [
      "[DAL54@ 2013-07-01 05:53:50: (-66.75, 28.25) Properties: ( )]\n",
      "[UAL48@ 2013-07-01 05:53:53: (-42.1, 58.4167) Properties: ( )]\n",
      "[KAL86@ 2013-07-01 05:53:53: (-74.0833, 47.4) Properties: ( )]\n",
      "[BAW288@ 2013-07-01 05:53:54: (-82.9333, 45.7167) Properties: ( )]\n",
      "[DAL248@ 2013-07-01 05:53:55: (-49.1667, 59.0167) Properties: ( )]\n",
      "[ANZ2@ 2013-07-01 05:53:55: (-53.0667, 52.2833) Properties: ( )]\n",
      "[DAL61@ 2013-07-01 05:53:56: (-66.35, 17.55) Properties: ( )]\n",
      "[JBU1103@ 2013-07-01 05:53:56: (-66.55, 19.5667) Properties: ( )]\n",
      "[CFG234@ 2013-07-01 05:53:56: (-67.9167, 20) Properties: ( )]\n",
      "[AZA62J@ 2013-07-01 05:53:57: (-51.1, 48.7667) Properties: ( )]\n",
      "[UAL423@ 2013-07-01 05:53:58: (-120.483, 37.6833) Properties: ( )]\n",
      "[N802Q@ 2013-07-01 05:53:58: (-96.9042, 33.2456) Properties: ( )]\n",
      "[UAL531@ 2013-07-01 05:53:58: (-96.9725, 32.4944) Properties: ( )]\n",
      "[SWA2872@ 2013-07-01 05:53:59: (-89.3742, 41.4225) Properties: ( )]\n",
      "[UAL201T@ 2013-07-01 05:54:00: (158.217, 21) Properties: ( )]\n",
      "[DAL153@ 2013-07-01 05:54:00: (-76.1833, 67.25) Properties: ( )]\n",
      "[AAY1058@ 2013-07-01 05:54:01: (-155.65, 23.8667) Properties: ( )]\n",
      "[DAL1149@ 2013-07-01 05:54:01: (-157.6, 21.3167) Properties: ( )]\n",
      "[JBU166@ 2013-07-01 05:54:02: (-107.747, 45.7392) Properties: ( )]\n",
      "[N63CR@ 2013-07-01 05:54:02: (-110.656, 43.7511) Properties: ( )]\n",
      "[ASA147@ 2013-07-01 05:54:02: (-112.861, 45.6372) Properties: ( )]\n",
      "[UAL1411@ 2013-07-01 05:54:02: (-113.913, 44.7878) Properties: ( )]\n",
      "[SKW6271@ 2013-07-01 05:54:02: (-115.387, 43.1603) Properties: ( )]\n",
      "[SKW517R@ 2013-07-01 05:54:02: (-116.643, 43.1522) Properties: ( )]\n",
      "[EIA562@ 2013-07-01 05:54:02: (-118.717, 47.6647) Properties: ( )]\n",
      "[UAL1522@ 2013-07-01 05:54:02: (-121.836, 45.1461) Properties: ( )]\n",
      "[ASA82@ 2013-07-01 05:54:02: (-122.312, 47.3731) Properties: ( )]\n",
      "[SWA1023@ 2013-07-01 05:54:02: (-122.717, 46.2486) Properties: ( )]\n",
      "[UAL226@ 2013-07-01 05:54:03: (-81.0125, 30.8497) Properties: ( )]\n",
      "[UAL564@ 2013-07-01 05:54:03: (-83.6694, 28.4772) Properties: ( )]\n",
      "[AWE151@ 2013-07-01 05:54:03: (-91.3667, 38.7456) Properties: ( )]\n",
      "[UAL1245@ 2013-07-01 05:54:04: (-102.012, 38.8819) Properties: ( )]\n",
      "[NKS706@ 2013-07-01 05:54:04: (-103.428, 40.2231) Properties: ( )]\n",
      "[BAW274@ 2013-07-01 05:54:04: (-103.636, 39.6422) Properties: ( )]\n",
      "[JBU994@ 2013-07-01 05:54:04: (-104.136, 39.8819) Properties: ( )]\n",
      "[JBU14@ 2013-07-01 05:54:04: (-107.314, 38.3608) Properties: ( )]\n",
      "[JBU404@ 2013-07-01 05:54:04: (-110.249, 37.4753) Properties: ( )]\n",
      "[JBU712@ 2013-07-01 05:54:04: (-110.961, 36.8783) Properties: ( )]\n",
      "[CFG83@ 2013-07-01 05:54:04: (-58.8833, 48.8) Properties: ( )]\n",
      "[DAL268@ 2013-07-01 05:54:04: (-65.5833, 44.9833) Properties: ( )]\n",
      "[JBU804@ 2013-07-01 05:54:04: (-71.9889, 38.3942) Properties: ( )]\n",
      "[JBU1001@ 2013-07-01 05:54:04: (-75.3889, 42.2292) Properties: ( )]\n",
      "[JBU6400@ 2013-07-01 05:54:04: (-77.4708, 41.6614) Properties: ( )]\n",
      "[N3SA@ 2013-07-01 05:54:04: (-83.7433, 34.6308) Properties: ( )]\n",
      "[KLM256@ 2013-07-01 05:54:05: (-61.65, 50.25) Properties: ( )]\n",
      "[JBU500@ 2013-07-01 05:54:06: (-137.85, 55.15) Properties: ( )]\n",
      "[DAL2312@ 2013-07-01 05:54:06: (-139.017, 57.9333) Properties: ( )]\n",
      "[AAL285@ 2013-07-01 05:54:06: (-158.35, 21.9167) Properties: ( )]\n",
      "[N90PB@ 2013-07-01 05:54:06: (-164.25, 55.7167) Properties: ( )]\n",
      "[AVA14@ 2013-07-01 05:54:06: (-63.3, 17.85) Properties: ( )]\n",
      "[AAL973@ 2013-07-01 05:54:06: (-67.0833, 18.8667) Properties: ( )]\n",
      "[DAL120@ 2013-07-01 05:54:06: (-67.1167, 17.45) Properties: ( )]\n",
      "[AVA245@ 2013-07-01 05:54:06: (-74.4733, 38.9497) Properties: ( )]\n",
      "[TRS121@ 2013-07-01 05:54:06: (-78.8047, 37.0269) Properties: ( )]\n",
      "[AAL1902@ 2013-07-01 05:54:06: (-78.8439, 35.9722) Properties: ( )]\n",
      "[TRS40@ 2013-07-01 05:54:07: (-118.383, 33.95) Properties: ( )]\n",
      "[N13LY@ 2013-07-01 05:54:07: (-118.783, 35.1833) Properties: ( )]\n",
      "[SKW5302@ 2013-07-01 05:54:07: (-122.027, 38.9558) Properties: ( )]\n",
      "[CPA845@ 2013-07-01 05:54:07: (-73.7697, 40.5253) Properties: ( )]\n",
      "[UAL344@ 2013-07-01 05:54:07: (-74.15, 40.7167) Properties: ( )]\n",
      "[CLX837@ 2013-07-01 05:54:07: (-82.6333, 45.9833) Properties: ( )]\n",
      "[SKW5586@ 2013-07-01 05:54:07: (-97.85, 33.2333) Properties: ( )]\n",
      "[UAL1635@ 2013-07-01 05:54:08: (-121.402, 47.7739) Properties: ( )]\n",
      "[UAL6243@ 2013-07-01 05:54:08: (-122.199, 47.3936) Properties: ( )]\n",
      "[SWA101@ 2013-07-01 05:54:09: (-104.433, 39.8333) Properties: ( )]\n",
      "[ASA97@ 2013-07-01 05:54:10: (-125.683, 50.2) Properties: ( )]\n",
      "[N30LP@ 2013-07-01 05:54:10: (-86.4833, 36.2) Properties: ( )]\n",
      "[CFRMV@ 2013-07-01 05:54:10: (-95.9, 53.5) Properties: ( )]\n",
      "[DLH477@ 2013-07-01 05:54:10: (-96.2333, 61.85) Properties: ( )]\n",
      "[NKS339@ 2013-07-01 05:54:10: (-98.2447, 31.8222) Properties: ( )]\n",
      "[FFT122@ 2013-07-01 05:54:10: (-98.565, 34.1264) Properties: ( )]\n",
      "[N248BF@ 2013-07-01 05:54:10: (-98.7322, 34.8883) Properties: ( )]\n",
      "[TRS1300@ 2013-07-01 05:54:11: (-113.199, 35.6217) Properties: ( )]\n",
      "[DAL1603@ 2013-07-01 05:54:11: (-113.633, 35.7031) Properties: ( )]\n",
      "[NKS695@ 2013-07-01 05:54:11: (-114.338, 36.3506) Properties: ( )]\n",
      "[AAY599@ 2013-07-01 05:54:11: (-114.683, 36.1075) Properties: ( )]\n",
      "[N239AT@ 2013-07-01 05:54:11: (-115.239, 33.6033) Properties: ( )]\n",
      "[SWA116@ 2013-07-01 05:54:11: (-115.596, 35.8897) Properties: ( )]\n",
      "[DAL1168@ 2013-07-01 05:54:11: (-115.65, 33.5614) Properties: ( )]\n",
      "[SWA424@ 2013-07-01 05:54:11: (-115.835, 35.9453) Properties: ( )]\n",
      "[DAL2355@ 2013-07-01 05:54:11: (-115.962, 34.1639) Properties: ( )]\n",
      "[EJA284@ 2013-07-01 05:54:11: (-116.325, 36.5047) Properties: ( )]\n",
      "[SKW465T@ 2013-07-01 05:54:11: (-116.332, 34.8644) Properties: ( )]\n",
      "[UAL448@ 2013-07-01 05:54:11: (-116.348, 33.6997) Properties: ( )]\n",
      "[AWE50@ 2013-07-01 05:54:11: (-116.732, 32.635) Properties: ( )]\n",
      "[AAL1302@ 2013-07-01 05:54:11: (-116.747, 33.9392) Properties: ( )]\n",
      "[SWA2794@ 2013-07-01 05:54:11: (-118.495, 34.9447) Properties: ( )]\n",
      "[TAI560@ 2013-07-01 05:54:11: (-118.723, 33.7983) Properties: ( )]\n",
      "[ANZ1@ 2013-07-01 05:54:11: (-121.498, 31.4792) Properties: ( )]\n",
      "[AAL267@ 2013-07-01 05:54:11: (-153.1, 22.8333) Properties: ( )]\n",
      "[UAL1004@ 2013-07-01 05:54:11: (-154.367, 20.75) Properties: ( )]\n",
      "[N204JS@ 2013-07-01 05:54:11: (-157.833, 59.4333) Properties: ( )]\n"
     ]
    }
   ],
   "source": [
    "for x in reader:\n",
    "    print(x)"
   ]
  },
  {
   "cell_type": "markdown",
   "metadata": {},
   "source": [
    "So what happens in the background?    \n",
    "The reader has several attributes that can be set. Some of these attributes are:    \n",
    "&emsp;object_id_column - Column in dataset holding the object id    \n",
    "&emsp;timestamp_column - Column in dataset holding the timestamp    \n",
    "&emsp;coordinate0 - Column in dataset holding the longitude    \n",
    "&emsp;coordinate1 - Column in dataset holding the latitude    \n",
    "&emsp;coordinate2 - Column in dataset holding the z-order\n",
    "    \n",
    "<span style=\"color:blue\">Note:</span> Coordinates are referenced like a list and there are three, coordinates[0], coordinates[1], and coordinates[2] representing longitude, latitude, and z-order respectively.    \n",
    "In addition to these attributes, custom columns can be set such as 'altitude', 'speed', 'airline', etc so long as it is numeric, timestamp, or string. Any columns not given values will be assigned the default, or 'None'.     \n",
    "    \n",
    "In the next example, we set a numeric field (speed) and a string field(status) and see the results.    "
   ]
  },
  {
   "cell_type": "code",
   "execution_count": null,
   "metadata": {},
   "outputs": [],
   "source": [
    "inFile.close()\n",
    "inFile = open('../data/SampleASDI.csv')\n",
    "reader.input = inFile\n",
    "reader.object_id_column = 0\n",
    "reader.timestamp_column = 1\n",
    "reader.coordinates[0] = 2\n",
    "reader.coordinates[1] = 3\n",
    "reader.set_real_field_column('speed', 4)\n",
    "reader.set_string_field_column('status', 9)"
   ]
  },
  {
   "cell_type": "code",
   "execution_count": null,
   "metadata": {},
   "outputs": [],
   "source": [
    "for x in reader:\n",
    "    print(x)"
   ]
  },
  {
   "cell_type": "code",
   "execution_count": null,
   "metadata": {},
   "outputs": [],
   "source": [
    "inFile.close()"
   ]
  }
 ],
 "metadata": {
  "kernelspec": {
   "display_name": "Python 3",
   "language": "python",
   "name": "python3"
  },
  "language_info": {
   "codemirror_mode": {
    "name": "ipython",
    "version": 3
   },
   "file_extension": ".py",
   "mimetype": "text/x-python",
   "name": "python",
   "nbconvert_exporter": "python",
   "pygments_lexer": "ipython3",
   "version": "3.7.3"
  }
 },
 "nbformat": 4,
 "nbformat_minor": 2
}
