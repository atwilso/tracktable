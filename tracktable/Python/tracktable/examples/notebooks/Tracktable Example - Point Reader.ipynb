{
 "cells": [
  {
   "cell_type": "markdown",
   "metadata": {},
   "source": [
    "<span style=\"color:blue\">Copyright (c) 2014-2019 National Technology and Engineering\n",
    "Solutions of Sandia, LLC. Under the terms of Contract DE-NA0003525\n",
    "with National Technology and Engineering Solutions of Sandia, LLC,\n",
    "the U.S. Government retains certain rights in this software.</span>    \n",
    "    \n",
    "<span style=\"color:blue\">Redistribution and use in source and binary forms, with or without\n",
    "modification, are permitted provided that the following conditions\n",
    "are met:</span>    \n",
    "    \n",
    "&nbsp;&nbsp;&nbsp;&nbsp;<span style=\"color:green\">1. Redistributions of source code must retain the above copyright\n",
    "   notice, this list of conditions and the following disclaimer.</span>    \n",
    "    \n",
    "&nbsp;&nbsp;&nbsp;&nbsp;<span style=\"color:green\">2. Redistributions in binary form must reproduce the above copyright\n",
    "   notice, this list of conditions and the following disclaimer in the\n",
    "   documentation and/or other materials provided with the distribution.</span>    \n",
    "    \n",
    "<span style=\"color:blue\">THIS SOFTWARE IS PROVIDED BY THE COPYRIGHT HOLDERS AND CONTRIBUTORS\n",
    "\"AS IS\" AND ANY EXPRESS OR IMPLIED WARRANTIES, INCLUDING, BUT NOT\n",
    "LIMITED TO, THE IMPLIED WARRANTIES OF MERCHANTABILITY AND FITNESS FOR\n",
    "A PARTICULAR PURPOSE ARE DISCLAIMED. IN NO EVENT SHALL THE COPYRIGHT\n",
    "HOLDER OR CONTRIBUTORS BE LIABLE FOR ANY DIRECT, INDIRECT, INCIDENTAL,\n",
    "SPECIAL, EXEMPLARY, OR CONSEQUENTIAL DAMAGES (INCLUDING, BUT NOT\n",
    "LIMITED TO, PROCUREMENT OF SUBSTITUTE GOODS OR SERVICES; LOSS OF USE,\n",
    "DATA, OR PROFITS; OR BUSINESS INTERRUPTION) HOWEVER CAUSED AND ON ANY\n",
    "THEORY OF LIABILITY, WHETHER IN CONTRACT, STRICT LIABILITY, OR TORT\n",
    "(INCLUDING NEGLIGENCE OR OTHERWISE) ARISING IN ANY WAY OUT OF THE USE\n",
    "OF THIS SOFTWARE, EVEN IF ADVISED OF THE POSSIBILITY OF SUCH DAMAGE.</span>"
   ]
  },
  {
   "cell_type": "markdown",
   "metadata": {},
   "source": [
    "**Purpose:** Demonstrate how to create and use a terrestrial point reader.    \n",
    "The basic object in tracktable is the point reader. This data structure reads tabular data from a file and saves it as points containing, at the least, an object id, timestamp, longitude, and latitude.    "
   ]
  },
  {
   "cell_type": "markdown",
   "metadata": {},
   "source": [
    "**Imports**"
   ]
  },
  {
   "cell_type": "code",
   "execution_count": null,
   "metadata": {
    "collapsed": true
   },
   "outputs": [],
   "source": [
    "from tracktable.domain import all_domains as ALL_DOMAINS\n",
    "import importlib\n",
    "import itertools"
   ]
  },
  {
   "cell_type": "markdown",
   "metadata": {},
   "source": [
    "To create a point, we create a generic TrajectoryPointReader object and give it the following:    \n",
    "&emsp;input file - File stream connected to a data file\n",
    "&emsp;delimiter - The character separating fields in the fileie, a csv will have ',' as a delimiter)    \n",
    "&emsp;comment character - The character marking comments in the file and will be ignored by the point reader    \n",
    "&emsp;domain - Which domain the points come from. Options are '<span style=\"color:blue\">terrestrial</span>', '<span style=\"color:blue\">Cartesian2d</span>', and '<span style=\"color:blue\">Cartesian3d</span>'"
   ]
  },
  {
   "cell_type": "code",
   "execution_count": null,
   "metadata": {
    "collapsed": true
   },
   "outputs": [],
   "source": [
    "inFile = open('../data/SampleASDI.csv')\n",
    "domain = 'terrestrial'                 # we want to create a terrestrial point reader\n",
    "if domain.lower() not in ALL_DOMAINS:  #Format domain and make sure it is an available domain\n",
    "    raise KeyError(\"Domain '{}' is not in list of installed domains ({}).\".format(domain, ', '.join(ALL_DOMAINS)))\n",
    "else:\n",
    "    domain_to_import = 'tracktable.domain.{}'.format(domain.lower())\n",
    "    domain_module = importlib.import_module(domain_to_import)\n",
    "\n",
    "reader = domain_module.TrajectoryPointReader()\n",
    "reader.input = inFile\n",
    "reader.comment_character = '#'\n",
    "reader.field_delimiter = ','"
   ]
  },
  {
   "cell_type": "markdown",
   "metadata": {},
   "source": [
    "In order to view the points the reader has read, we iterate over the reader."
   ]
  },
  {
   "cell_type": "code",
   "execution_count": null,
   "metadata": {
    "collapsed": true
   },
   "outputs": [],
   "source": [
    "for x in reader:\n",
    "    print(x)"
   ]
  },
  {
   "cell_type": "markdown",
   "metadata": {},
   "source": [
    "So what happens in the background?    \n",
    "The reader has several attributes that can be set. Some of these attributes are:    \n",
    "&emsp;object_id_column - Column in dataset holding the object id    \n",
    "&emsp;timestamp_column - Column in dataset holding the timestamp    \n",
    "&emsp;coordinate0 - Column in dataset holding the longitude    \n",
    "&emsp;coordinate1 - Column in dataset holding the latitude    \n",
    "&emsp;coordinate2 - Column in dataset holding the z-order\n",
    "    \n",
    "<span style=\"color:blue\">Note:</span> Coordinates are referenced like a list and there are three, coordinates[0], coordinates[1], and coordinates[2] representing longitude, latitude, and z-order respectively.    \n",
    "In addition to these attributes, custom columns can be set such as 'altitude', 'speed', 'airline', etc so long as it is numeric, timestamp, or string. Any columns not given values will be assigned the default, or 'None'.     \n",
    "    \n",
    "In the next example, we set a numeric field (speed) and a string field(status) and see the results.    "
   ]
  },
  {
   "cell_type": "code",
   "execution_count": null,
   "metadata": {
    "collapsed": true
   },
   "outputs": [],
   "source": [
    "inFile.close()\n",
    "inFile = open('../data/SampleASDI.csv')\n",
    "reader.input = inFile\n",
    "reader.object_id_column = 0\n",
    "reader.timestamp_column = 1\n",
    "reader.coordinates[0] = 2\n",
    "reader.coordinates[1] = 3\n",
    "reader.set_real_field_column('speed', 4)\n",
    "reader.set_string_field_column('status', 9)"
   ]
  },
  {
   "cell_type": "code",
   "execution_count": null,
   "metadata": {
    "collapsed": true
   },
   "outputs": [],
   "source": [
    "for x in reader:\n",
    "    print(x)"
   ]
  },
  {
   "cell_type": "code",
   "execution_count": null,
   "metadata": {
    "collapsed": true
   },
   "outputs": [],
   "source": [
    "inFile.close()"
   ]
  }
 ],
 "metadata": {
  "kernelspec": {
   "display_name": "Python 3",
   "language": "python",
   "name": "python3"
  },
  "language_info": {
   "codemirror_mode": {
    "name": "ipython",
    "version": 3
   },
   "file_extension": ".py",
   "mimetype": "text/x-python",
   "name": "python",
   "nbconvert_exporter": "python",
   "pygments_lexer": "ipython3",
   "version": "3.6.3"
  }
 },
 "nbformat": 4,
 "nbformat_minor": 2
}
