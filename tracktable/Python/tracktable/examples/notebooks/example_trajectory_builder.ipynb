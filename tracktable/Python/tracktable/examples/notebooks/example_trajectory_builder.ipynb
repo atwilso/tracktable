{
 "cells": [
  {
   "cell_type": "markdown",
   "metadata": {},
   "source": [
    "<span style=\"color:blue\">Copyright (c) 2014-2017 National Technology and Engineering\n",
    "Solutions of Sandia, LLC. Under the terms of Contract DE-NA0003525\n",
    "with National Technology and Engineering Solutions of Sandia, LLC,\n",
    "the U.S. Government retains certain rights in this software.</span>    \n",
    "    \n",
    "<span style=\"color:blue\">Redistribution and use in source and binary forms, with or without\n",
    "modification, are permitted provided that the following conditions\n",
    "are met:</span>    \n",
    "    \n",
    "&nbsp;&nbsp;&nbsp;&nbsp;<span style=\"color:green\">1. Redistributions of source code must retain the above copyright\n",
    "   notice, this list of conditions and the following disclaimer.</span>    \n",
    "    \n",
    "&nbsp;&nbsp;&nbsp;&nbsp;<span style=\"color:green\">2. Redistributions in binary form must reproduce the above copyright\n",
    "   notice, this list of conditions and the following disclaimer in the\n",
    "   documentation and/or other materials provided with the distribution.</span>    \n",
    "    \n",
    "<span style=\"color:blue\">THIS SOFTWARE IS PROVIDED BY THE COPYRIGHT HOLDERS AND CONTRIBUTORS\n",
    "\"AS IS\" AND ANY EXPRESS OR IMPLIED WARRANTIES, INCLUDING, BUT NOT\n",
    "LIMITED TO, THE IMPLIED WARRANTIES OF MERCHANTABILITY AND FITNESS FOR\n",
    "A PARTICULAR PURPOSE ARE DISCLAIMED. IN NO EVENT SHALL THE COPYRIGHT\n",
    "HOLDER OR CONTRIBUTORS BE LIABLE FOR ANY DIRECT, INDIRECT, INCIDENTAL,\n",
    "SPECIAL, EXEMPLARY, OR CONSEQUENTIAL DAMAGES (INCLUDING, BUT NOT\n",
    "LIMITED TO, PROCUREMENT OF SUBSTITUTE GOODS OR SERVICES; LOSS OF USE,\n",
    "DATA, OR PROFITS; OR BUSINESS INTERRUPTION) HOWEVER CAUSED AND ON ANY\n",
    "THEORY OF LIABILITY, WHETHER IN CONTRACT, STRICT LIABILITY, OR TORT\n",
    "(INCLUDING NEGLIGENCE OR OTHERWISE) ARISING IN ANY WAY OUT OF THE USE\n",
    "OF THIS SOFTWARE, EVEN IF ADVISED OF THE POSSIBILITY OF SUCH DAMAGE.</span>"
   ]
  },
  {
   "cell_type": "markdown",
   "metadata": {},
   "source": [
    "Purpose: Sample code to assemble points into trajectories"
   ]
  },
  {
   "cell_type": "code",
   "execution_count": 2,
   "metadata": {},
   "outputs": [],
   "source": [
    "import datetime\n",
    "\n",
    "from tracktable.source.trajectory import AssembleTrajectoryFromPoints\n",
    "from tracktable.core import geomath"
   ]
  },
  {
   "cell_type": "markdown",
   "metadata": {},
   "source": [
    "<span style=\"color:blue\">Set up a trajectory builder using the specified parameters</span>    \n",
    "    \n",
    "Instantiate and configure an AssembleTrajectoryFromPoints. You will still need to set its 'input' member before it's ready to go.    \n",
    "    \n",
    "<span style=\"color:orange\">Args:</span>    \n",
    "&nbsp;&nbsp;&nbsp;&nbsp;separation_distance: Two successive points that are at least this far apart (in KM) will be placed in separate trajectories.    \n",
    "&nbsp;&nbsp;&nbsp;&nbsp;separation_time: Two successive points with at least this many minutes between them will be placed in separate trajectories.    \n",
    "&nbsp;&nbsp;&nbsp;&nbsp;minimum_length: Trajectories with fewer than this many points will be discarded.    \n",
    "        \n",
    "<span style=\"color:orange\">Returns:</span>    \n",
    "&nbsp;&nbsp;&nbsp;&nbsp;A new instance of AssembleTrajectoryFromPoints"
   ]
  },
  {
   "cell_type": "code",
   "execution_count": 3,
   "metadata": {},
   "outputs": [],
   "source": [
    "def configure_trajectory_builder(separation_distance=100, separation_time=20, minimum_length=10):\n",
    "    source = AssembleTrajectoryFromPoints()\n",
    "    if separation_distance is not None:\n",
    "        source.separation_distance = float(separation_distance)\n",
    "    if separation_time is not None:\n",
    "        source.separation_time = datetime.timedelta(minutes=separation_time)\n",
    "    if minimum_length is not None:\n",
    "        source.minimum_length = minimum_length\n",
    "    return source"
   ]
  }
 ],
 "metadata": {
  "kernelspec": {
   "display_name": "Python 3",
   "language": "python",
   "name": "python3"
  },
  "language_info": {
   "codemirror_mode": {
    "name": "ipython",
    "version": 3
   },
   "file_extension": ".py",
   "mimetype": "text/x-python",
   "name": "python",
   "nbconvert_exporter": "python",
   "pygments_lexer": "ipython3",
   "version": "3.7.3"
  }
 },
 "nbformat": 4,
 "nbformat_minor": 2
}
