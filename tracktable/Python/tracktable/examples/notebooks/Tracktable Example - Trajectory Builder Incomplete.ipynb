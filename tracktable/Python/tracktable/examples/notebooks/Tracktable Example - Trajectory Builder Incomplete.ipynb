{
 "cells": [
  {
   "cell_type": "markdown",
   "metadata": {},
   "source": [
    "<span style=\"color:blue\">Copyright (c) 2014-2019 National Technology and Engineering\n",
    "Solutions of Sandia, LLC. Under the terms of Contract DE-NA0003525\n",
    "with National Technology and Engineering Solutions of Sandia, LLC,\n",
    "the U.S. Government retains certain rights in this software.</span>    \n",
    "    \n",
    "<span style=\"color:blue\">Redistribution and use in source and binary forms, with or without\n",
    "modification, are permitted provided that the following conditions\n",
    "are met:</span>    \n",
    "    \n",
    "&nbsp;&nbsp;&nbsp;&nbsp;<span style=\"color:green\">1. Redistributions of source code must retain the above copyright\n",
    "   notice, this list of conditions and the following disclaimer.</span>    \n",
    "    \n",
    "&nbsp;&nbsp;&nbsp;&nbsp;<span style=\"color:green\">2. Redistributions in binary form must reproduce the above copyright\n",
    "   notice, this list of conditions and the following disclaimer in the\n",
    "   documentation and/or other materials provided with the distribution.</span>    \n",
    "    \n",
    "<span style=\"color:blue\">THIS SOFTWARE IS PROVIDED BY THE COPYRIGHT HOLDERS AND CONTRIBUTORS\n",
    "\"AS IS\" AND ANY EXPRESS OR IMPLIED WARRANTIES, INCLUDING, BUT NOT\n",
    "LIMITED TO, THE IMPLIED WARRANTIES OF MERCHANTABILITY AND FITNESS FOR\n",
    "A PARTICULAR PURPOSE ARE DISCLAIMED. IN NO EVENT SHALL THE COPYRIGHT\n",
    "HOLDER OR CONTRIBUTORS BE LIABLE FOR ANY DIRECT, INDIRECT, INCIDENTAL,\n",
    "SPECIAL, EXEMPLARY, OR CONSEQUENTIAL DAMAGES (INCLUDING, BUT NOT\n",
    "LIMITED TO, PROCUREMENT OF SUBSTITUTE GOODS OR SERVICES; LOSS OF USE,\n",
    "DATA, OR PROFITS; OR BUSINESS INTERRUPTION) HOWEVER CAUSED AND ON ANY\n",
    "THEORY OF LIABILITY, WHETHER IN CONTRACT, STRICT LIABILITY, OR TORT\n",
    "(INCLUDING NEGLIGENCE OR OTHERWISE) ARISING IN ANY WAY OUT OF THE USE\n",
    "OF THIS SOFTWARE, EVEN IF ADVISED OF THE POSSIBILITY OF SUCH DAMAGE.</span>"
   ]
  },
  {
   "cell_type": "markdown",
   "metadata": {},
   "source": [
    "**Purpose:** Sample code to assemble points into trajectories    \n",
    "In some cases, you may wish to read in trajectories with certain constraints. For example, we can have trajectories with a minimum number of points. Or we acknowledge that the points in the trajectory should be within a certain time and/or distance threshold to belong to the same trajectory. The Trajectory Builder does this."
   ]
  },
  {
   "cell_type": "code",
   "execution_count": 3,
   "metadata": {
    "collapsed": true
   },
   "outputs": [],
   "source": [
    "from tracktable.source.trajectory import AssembleTrajectoryFromPoints\n",
    "from tracktable.core import geomath\n",
    "from tracktable.domain import all_domains as ALL_DOMAINS\n",
    "import importlib\n",
    "import itertools\n",
    "import datetime"
   ]
  },
  {
   "cell_type": "markdown",
   "metadata": {},
   "source": [
    "<span style=\"color:blue\">Set up a trajectory builder using the specified parameters</span>    \n",
    "    \n",
    "Instantiate and configure an AssembleTrajectoryFromPoints. You will still need to set its 'input' member before it's ready to go.    \n",
    "    \n",
    "<span style=\"color:orange\">Args:</span>    \n",
    "&nbsp;&nbsp;&nbsp;&nbsp;separation_distance: Two successive points that are at least this far apart (in KM) will be placed in separate trajectories.    \n",
    "&nbsp;&nbsp;&nbsp;&nbsp;separation_time: Two successive points with at least this many minutes between them will be placed in separate trajectories.    \n",
    "&nbsp;&nbsp;&nbsp;&nbsp;minimum_length: Trajectories with fewer than this many points will be discarded.    \n",
    "        \n",
    "<span style=\"color:orange\">Returns:</span>    \n",
    "&nbsp;&nbsp;&nbsp;&nbsp;A new instance of AssembleTrajectoryFromPoints"
   ]
  },
  {
   "cell_type": "code",
   "execution_count": 4,
   "metadata": {
    "collapsed": true
   },
   "outputs": [],
   "source": [
    "def configure_trajectory_builder(separation_distance=100, separation_time=20, minimum_length=10):\n",
    "    source = AssembleTrajectoryFromPoints()\n",
    "    if separation_distance is not None:\n",
    "        source.separation_distance = float(separation_distance)\n",
    "    if separation_time is not None:\n",
    "        source.separation_time = datetime.timedelta(minutes=separation_time)\n",
    "    if minimum_length is not None:\n",
    "        source.minimum_length = minimum_length\n",
    "    return source"
   ]
  },
  {
   "cell_type": "markdown",
   "metadata": {},
   "source": [
    "**Requirements:** In order to use the trajectory builder, we need a source that gives us data points in time sequential order. As with before, we can use the Trajectory Reader."
   ]
  },
  {
   "cell_type": "code",
   "execution_count": 5,
   "metadata": {
    "collapsed": true
   },
   "outputs": [],
   "source": [
    "inFile = open('../data/SampleFlight.csv')\n",
    "domain = 'terrestrial'                 # we want to create a terrestrial point reader\n",
    "if domain.lower() not in ALL_DOMAINS:  #Format domain and make sure it is an available domain\n",
    "    raise KeyError(\"Domain '{}' is not in list of installed domains ({}).\".format(domain, ', '.join(ALL_DOMAINS)))\n",
    "else:\n",
    "    domain_to_import = 'tracktable.domain.{}'.format(domain.lower())\n",
    "    domain_module = importlib.import_module(domain_to_import)\n",
    "\n",
    "point_source = domain_module.TrajectoryPointReader()\n",
    "point_source.input = inFile\n",
    "point_source.comment_character = '#'\n",
    "point_source.field_delimiter = ','"
   ]
  },
  {
   "cell_type": "markdown",
   "metadata": {},
   "source": [
    "Now that we have a time sequential source of data points, we can apply constraints to build trajectories."
   ]
  },
  {
   "cell_type": "code",
   "execution_count": 6,
   "metadata": {
    "collapsed": true
   },
   "outputs": [],
   "source": [
    "source = configure_trajectory_builder(separation_distance=50, separation_time=10, minimum_length=5)"
   ]
  },
  {
   "cell_type": "markdown",
   "metadata": {},
   "source": [
    "Now we can apply the source of our points (the point reader we created above) and generate the trajectories by iterating over them. You will notice the output confirms the contrainsts we set in the previous step. Also, note only a single trajectory was created."
   ]
  },
  {
   "cell_type": "code",
   "execution_count": 7,
   "metadata": {
    "scrolled": false
   },
   "outputs": [
    {
     "name": "stdout",
     "output_type": "stream",
     "text": [
      "INFO: Trajectory assembly: New trajectories will be declared after a separation of 50.0 units or 0:10:00 seconds.\n",
      "INFO: Trajectories with fewer than 5 points will be rejected.\n",
      "<tracktable.lib._terrestrial.TrajectoryTerrestrial object at 0x000001DEF3F01260>\n",
      "INFO: Done assembling trajectories.\n"
     ]
    }
   ],
   "source": [
    "source.input = point_source\n",
    "trajectories = source.trajectories()\n",
    "\n",
    "for traj in trajectories:\n",
    "    print(traj)   "
   ]
  },
  {
   "cell_type": "markdown",
   "metadata": {},
   "source": [
    "Great! We got a single trajectory since all the points met our constraints.  \n",
    "\n",
    "Based on the constraints we've already created, we can generate multiple trajectories from a single data set.\n",
    "In the next sample set of data, two points are seperated by a significant amount of time.\n",
    "\n",
    "KKK011,2004-12-07 17:31:18,-82.0381,26.9886,3500,97,135,0  \n",
    "KKK011,2004-12-16 12:13:05,-81.9747,27.0306,3300,168,351,0\n",
    "\n",
    "Ideally this should end one trajectory and start a new one. "
   ]
  },
  {
   "cell_type": "code",
   "execution_count": 8,
   "metadata": {},
   "outputs": [
    {
     "name": "stdout",
     "output_type": "stream",
     "text": [
      "INFO: Trajectory assembly: New trajectories will be declared after a separation of 50.0 units or 0:10:00 seconds.\n",
      "INFO: Trajectories with fewer than 5 points will be rejected.\n",
      "<tracktable.lib._terrestrial.TrajectoryTerrestrial object at 0x000001DEF3F84350>\n",
      "<tracktable.lib._terrestrial.TrajectoryTerrestrial object at 0x000001DEF01C78F0>\n",
      "INFO: Done assembling trajectories.\n"
     ]
    }
   ],
   "source": [
    "inFile = open('../data/TwoSampleFlights.csv')\n",
    "point_source.input = inFile\n",
    "source = configure_trajectory_builder(separation_distance=50, separation_time=10, minimum_length=5)\n",
    "\n",
    "source.input = point_source\n",
    "trajectories = source.trajectories()\n",
    "\n",
    "for traj in trajectories:\n",
    "    print(traj)   "
   ]
  }
 ],
 "metadata": {
  "kernelspec": {
   "display_name": "Python 3",
   "language": "python",
   "name": "python3"
  },
  "language_info": {
   "codemirror_mode": {
    "name": "ipython",
    "version": 3
   },
   "file_extension": ".py",
   "mimetype": "text/x-python",
   "name": "python",
   "nbconvert_exporter": "python",
   "pygments_lexer": "ipython3",
   "version": "3.6.3"
  }
 },
 "nbformat": 4,
 "nbformat_minor": 2
}
