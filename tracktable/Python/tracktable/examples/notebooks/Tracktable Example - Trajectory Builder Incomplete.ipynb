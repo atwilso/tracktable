{
 "cells": [
  {
   "cell_type": "markdown",
   "metadata": {},
   "source": [
    "<span style=\"color:blue\">Copyright (c) 2014-2017 National Technology and Engineering\n",
    "Solutions of Sandia, LLC. Under the terms of Contract DE-NA0003525\n",
    "with National Technology and Engineering Solutions of Sandia, LLC,\n",
    "the U.S. Government retains certain rights in this software.</span>    \n",
    "    \n",
    "<span style=\"color:blue\">Redistribution and use in source and binary forms, with or without\n",
    "modification, are permitted provided that the following conditions\n",
    "are met:</span>    \n",
    "    \n",
    "&nbsp;&nbsp;&nbsp;&nbsp;<span style=\"color:green\">1. Redistributions of source code must retain the above copyright\n",
    "   notice, this list of conditions and the following disclaimer.</span>    \n",
    "    \n",
    "&nbsp;&nbsp;&nbsp;&nbsp;<span style=\"color:green\">2. Redistributions in binary form must reproduce the above copyright\n",
    "   notice, this list of conditions and the following disclaimer in the\n",
    "   documentation and/or other materials provided with the distribution.</span>    \n",
    "    \n",
    "<span style=\"color:blue\">THIS SOFTWARE IS PROVIDED BY THE COPYRIGHT HOLDERS AND CONTRIBUTORS\n",
    "\"AS IS\" AND ANY EXPRESS OR IMPLIED WARRANTIES, INCLUDING, BUT NOT\n",
    "LIMITED TO, THE IMPLIED WARRANTIES OF MERCHANTABILITY AND FITNESS FOR\n",
    "A PARTICULAR PURPOSE ARE DISCLAIMED. IN NO EVENT SHALL THE COPYRIGHT\n",
    "HOLDER OR CONTRIBUTORS BE LIABLE FOR ANY DIRECT, INDIRECT, INCIDENTAL,\n",
    "SPECIAL, EXEMPLARY, OR CONSEQUENTIAL DAMAGES (INCLUDING, BUT NOT\n",
    "LIMITED TO, PROCUREMENT OF SUBSTITUTE GOODS OR SERVICES; LOSS OF USE,\n",
    "DATA, OR PROFITS; OR BUSINESS INTERRUPTION) HOWEVER CAUSED AND ON ANY\n",
    "THEORY OF LIABILITY, WHETHER IN CONTRACT, STRICT LIABILITY, OR TORT\n",
    "(INCLUDING NEGLIGENCE OR OTHERWISE) ARISING IN ANY WAY OUT OF THE USE\n",
    "OF THIS SOFTWARE, EVEN IF ADVISED OF THE POSSIBILITY OF SUCH DAMAGE.</span>"
   ]
  },
  {
   "cell_type": "markdown",
   "metadata": {},
   "source": [
    "**Purpose:** Sample code to assemble points into trajectories    \n",
    "In some cases, you may wish to read in trajectories with certain constraints. For example, we can have trajectories with a minimum number of points. Or we acknowledge that the points in the trajectory should be within a certain time and/or distance threshold to belong to the same trajectory. The Trajectory Builder does this."
   ]
  },
  {
   "cell_type": "code",
   "execution_count": 5,
   "metadata": {},
   "outputs": [],
   "source": [
    "from tracktable.source.trajectory import AssembleTrajectoryFromPoints\n",
    "from tracktable.core import geomath\n",
    "from tracktable.domain import all_domains as ALL_DOMAINS\n",
    "import importlib\n",
    "import itertools\n",
    "import datetime"
   ]
  },
  {
   "cell_type": "markdown",
   "metadata": {},
   "source": [
    "<span style=\"color:blue\">Set up a trajectory builder using the specified parameters</span>    \n",
    "    \n",
    "Instantiate and configure an AssembleTrajectoryFromPoints. You will still need to set its 'input' member before it's ready to go.    \n",
    "    \n",
    "<span style=\"color:orange\">Args:</span>    \n",
    "&nbsp;&nbsp;&nbsp;&nbsp;separation_distance: Two successive points that are at least this far apart (in KM) will be placed in separate trajectories.    \n",
    "&nbsp;&nbsp;&nbsp;&nbsp;separation_time: Two successive points with at least this many minutes between them will be placed in separate trajectories.    \n",
    "&nbsp;&nbsp;&nbsp;&nbsp;minimum_length: Trajectories with fewer than this many points will be discarded.    \n",
    "        \n",
    "<span style=\"color:orange\">Returns:</span>    \n",
    "&nbsp;&nbsp;&nbsp;&nbsp;A new instance of AssembleTrajectoryFromPoints"
   ]
  },
  {
   "cell_type": "code",
   "execution_count": 6,
   "metadata": {},
   "outputs": [],
   "source": [
    "def configure_trajectory_builder(separation_distance=100, separation_time=20, minimum_length=10):\n",
    "    source = AssembleTrajectoryFromPoints()\n",
    "    if separation_distance is not None:\n",
    "        source.separation_distance = float(separation_distance)\n",
    "    if separation_time is not None:\n",
    "        source.separation_time = datetime.timedelta(minutes=separation_time)\n",
    "    if minimum_length is not None:\n",
    "        source.minimum_length = minimum_length\n",
    "    return source"
   ]
  },
  {
   "cell_type": "markdown",
   "metadata": {},
   "source": [
    "**Requirements:** In order to use the trajectory builder, we need a source that gives us data points in time sequential order. As with before, we can use the Trajectory Reader."
   ]
  },
  {
   "cell_type": "code",
   "execution_count": 7,
   "metadata": {},
   "outputs": [],
   "source": [
    "inFile = open(\"../data/SampleTrajectories.traj\")\n",
    "domain = 'terrestrial'                # Give a domain and make sure the domain exists.\n",
    "if domain.lower() not in ALL_DOMAINS:\n",
    "    raise KeyError(\"Domain '{}' is not in list of installed domains ({}).\".format(domain, ', '.join(ALL_DOMAINS)))\n",
    "else:\n",
    "    domain_to_import = 'tracktable.domain.{}'.format(domain.lower())\n",
    "    domain_module = importlib.import_module(domain_to_import)\n",
    "reader = domain_module.TrajectoryReader()\n",
    "reader.input = inFile"
   ]
  },
  {
   "cell_type": "markdown",
   "metadata": {},
   "source": [
    "Now that we have a time sequential source of data points, we can apply constraints to build trajectories."
   ]
  },
  {
   "cell_type": "code",
   "execution_count": 8,
   "metadata": {},
   "outputs": [
    {
     "ename": "AttributeError",
     "evalue": "'TrajectoryReaderTerrestrial' object has no attribute 'points'",
     "output_type": "error",
     "traceback": [
      "\u001b[0;31m---------------------------------------------------------------------------\u001b[0m",
      "\u001b[0;31mAttributeError\u001b[0m                            Traceback (most recent call last)",
      "\u001b[0;32m<ipython-input-8-43aae4ce55ee>\u001b[0m in \u001b[0;36m<module>\u001b[0;34m\u001b[0m\n\u001b[0;32m----> 1\u001b[0;31m \u001b[0mprint\u001b[0m\u001b[0;34m(\u001b[0m\u001b[0mreader\u001b[0m\u001b[0;34m.\u001b[0m\u001b[0mpoints\u001b[0m\u001b[0;34m(\u001b[0m\u001b[0;34m)\u001b[0m\u001b[0;34m)\u001b[0m\u001b[0;34m\u001b[0m\u001b[0;34m\u001b[0m\u001b[0m\n\u001b[0m\u001b[1;32m      2\u001b[0m \u001b[0;31m#builder = AssembleTrajectoriesFromPoints()\u001b[0m\u001b[0;34m\u001b[0m\u001b[0;34m\u001b[0m\u001b[0;34m\u001b[0m\u001b[0m\n\u001b[1;32m      3\u001b[0m \u001b[0;31m#builder.input =\u001b[0m\u001b[0;34m\u001b[0m\u001b[0;34m\u001b[0m\u001b[0;34m\u001b[0m\u001b[0m\n",
      "\u001b[0;31mAttributeError\u001b[0m: 'TrajectoryReaderTerrestrial' object has no attribute 'points'"
     ]
    }
   ],
   "source": [
    "print(reader.points())\n",
    "#builder = AssembleTrajectoriesFromPoints()\n",
    "#builder.input = "
   ]
  },
  {
   "cell_type": "code",
   "execution_count": null,
   "metadata": {},
   "outputs": [],
   "source": []
  }
 ],
 "metadata": {
  "kernelspec": {
   "display_name": "Python 3",
   "language": "python",
   "name": "python3"
  },
  "language_info": {
   "codemirror_mode": {
    "name": "ipython",
    "version": 3
   },
   "file_extension": ".py",
   "mimetype": "text/x-python",
   "name": "python",
   "nbconvert_exporter": "python",
   "pygments_lexer": "ipython3",
   "version": "3.7.3"
  }
 },
 "nbformat": 4,
 "nbformat_minor": 2
}
