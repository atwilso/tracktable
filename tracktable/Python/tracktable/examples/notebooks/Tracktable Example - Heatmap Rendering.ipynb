{
 "cells": [
  {
   "cell_type": "markdown",
   "metadata": {},
   "source": [
    "# Example: Rendering a heat map\n"
   ]
  },
  {
   "cell_type": "code",
   "execution_count": 3,
   "metadata": {},
   "outputs": [],
   "source": [
    "import matplotlib\n",
    "%matplotlib inline"
   ]
  },
  {
   "cell_type": "code",
   "execution_count": 4,
   "metadata": {},
   "outputs": [
    {
     "ename": "ImportError",
     "evalue": "cannot import name 'initialize_matplotlib_figure' from 'tracktable.examples.heatmap_from_points' (/ascldap/users/kjward/anaconda3/envs/jupyter/lib/python3.7/site-packages/tracktable/examples/heatmap_from_points.py)",
     "output_type": "error",
     "traceback": [
      "\u001b[0;31m---------------------------------------------------------------------------\u001b[0m",
      "\u001b[0;31mImportError\u001b[0m                               Traceback (most recent call last)",
      "\u001b[0;32m<ipython-input-4-2780aed86be1>\u001b[0m in \u001b[0;36m<module>\u001b[0;34m\u001b[0m\n\u001b[0;32m----> 1\u001b[0;31m \u001b[0;32mfrom\u001b[0m \u001b[0mtracktable\u001b[0m\u001b[0;34m.\u001b[0m\u001b[0mexamples\u001b[0m\u001b[0;34m.\u001b[0m\u001b[0mheatmap_from_points\u001b[0m \u001b[0;32mimport\u001b[0m \u001b[0minitialize_matplotlib_figure\u001b[0m\u001b[0;34m\u001b[0m\u001b[0;34m\u001b[0m\u001b[0m\n\u001b[0m\u001b[1;32m      2\u001b[0m \u001b[0;32mfrom\u001b[0m \u001b[0mtracktable\u001b[0m\u001b[0;34m.\u001b[0m\u001b[0mexamples\u001b[0m\u001b[0;34m.\u001b[0m\u001b[0mheatmap_from_points\u001b[0m \u001b[0;32mimport\u001b[0m \u001b[0mrender_histogram\u001b[0m\u001b[0;34m\u001b[0m\u001b[0;34m\u001b[0m\u001b[0m\n\u001b[1;32m      3\u001b[0m \u001b[0;32mfrom\u001b[0m \u001b[0mtracktable\u001b[0m\u001b[0;34m.\u001b[0m\u001b[0mdomain\u001b[0m \u001b[0;32mimport\u001b[0m \u001b[0mterrestrial\u001b[0m\u001b[0;34m\u001b[0m\u001b[0;34m\u001b[0m\u001b[0m\n\u001b[1;32m      4\u001b[0m \u001b[0;32mfrom\u001b[0m \u001b[0mtracktable\u001b[0m\u001b[0;34m.\u001b[0m\u001b[0mrender\u001b[0m \u001b[0;32mimport\u001b[0m \u001b[0mmapmaker\u001b[0m\u001b[0;34m\u001b[0m\u001b[0;34m\u001b[0m\u001b[0m\n\u001b[1;32m      5\u001b[0m \u001b[0;32mfrom\u001b[0m \u001b[0mmatplotlib\u001b[0m \u001b[0;32mimport\u001b[0m \u001b[0mpyplot\u001b[0m\u001b[0;34m\u001b[0m\u001b[0;34m\u001b[0m\u001b[0m\n",
      "\u001b[0;31mImportError\u001b[0m: cannot import name 'initialize_matplotlib_figure' from 'tracktable.examples.heatmap_from_points' (/ascldap/users/kjward/anaconda3/envs/jupyter/lib/python3.7/site-packages/tracktable/examples/heatmap_from_points.py)"
     ]
    }
   ],
   "source": [
    "from tracktable.examples.heatmap_from_points import initialize_matplotlib_figure\n",
    "from tracktable.examples.heatmap_from_points import render_histogram\n",
    "from tracktable.domain import terrestrial\n",
    "from tracktable.render import mapmaker\n",
    "from matplotlib import pyplot"
   ]
  },
  {
   "cell_type": "code",
   "execution_count": null,
   "metadata": {},
   "outputs": [],
   "source": [
    "# Replace this section with your own code to generate an iterable of points.\n",
    "from tracktable.examples import generate_heatmap_sample_data as gen_sample\n",
    "import itertools\n",
    "\n",
    "num_cities = 40\n",
    "num_points_per_city = 1000\n",
    "cities = gen_sample.n_largest_cities(num_cities)\n",
    "    \n",
    "all_sources = [ gen_sample.points_near_city(city, num_points_per_city)\n",
    "               for city in cities ]\n",
    "all_points = list(itertools.chain(*all_sources))\n"
   ]
  },
  {
   "cell_type": "code",
   "execution_count": null,
   "metadata": {},
   "outputs": [],
   "source": [
    "# JUPYTER NOTE: Jupyter will show you the state of the figure when you exit\n",
    "# the cell in which you created it.  You cannot apply different effects in\n",
    "# different cells as far as I know.  To work around this, just put all your\n",
    "# different things in functions, then call those functions one after another\n",
    "# in a single cell.\n",
    "\n",
    "# Set up the canvas and map projection\n",
    "(figure, axes) = initialize_matplotlib_figure([20, 15])\n",
    "(mymap, map_actors) = mapmaker.mapmaker(domain='terrestrial',\n",
    "                                        map_name='region:world')\n",
    "\n",
    "render_histogram(mymap,\n",
    "                 domain='terrestrial',\n",
    "                 point_source=all_points,\n",
    "                 bin_size=0.25,\n",
    "                 color_map='gist_heat',\n",
    "                 scale_type='logarithmic')\n"
   ]
  },
  {
   "cell_type": "code",
   "execution_count": null,
   "metadata": {},
   "outputs": [],
   "source": []
  }
 ],
 "metadata": {
  "kernelspec": {
   "display_name": "Python 3",
   "language": "python",
   "name": "python3"
  },
  "language_info": {
   "codemirror_mode": {
    "name": "ipython",
    "version": 3
   },
   "file_extension": ".py",
   "mimetype": "text/x-python",
   "name": "python",
   "nbconvert_exporter": "python",
   "pygments_lexer": "ipython3",
   "version": "3.7.3"
  }
 },
 "nbformat": 4,
 "nbformat_minor": 2
}
