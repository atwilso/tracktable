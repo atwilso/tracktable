{
 "cells": [
  {
   "cell_type": "code",
   "execution_count": null,
   "metadata": {},
   "outputs": [],
   "source": [
    "from tracktable.domain.terrestrial import TrajectoryPointReader\n",
    "from tracktable.analysis.assemble_trajectories import AssembleTrajectoryFromPoints"
   ]
  },
  {
   "cell_type": "code",
   "execution_count": null,
   "metadata": {},
   "outputs": [],
   "source": [
    "inFile = open('tracktable/Python/tracktable/examples/data/SampleFlightsUS.csv')\n",
    "reader = TrajectoryPointReader()\n",
    "reader.input = inFile\n",
    "reader.comment_character = '#'\n",
    "reader.field_delimiter = ','\n",
    "# Set columns for data we care about\n",
    "reader.object_id_column = 0\n",
    "reader.timestamp_column = 1\n",
    "reader.coordinates[0] = 2\n",
    "reader.coordinates[1] = 3\n",
    "\n",
    "builder = AssembleTrajectoryFromPoints()\n",
    "builder.input = reader\n",
    "builder.minumum_length = 3 \n",
    "\n",
    "trajs = list(builder.trajectories())"
   ]
  },
  {
   "cell_type": "code",
   "execution_count": null,
   "metadata": {},
   "outputs": [],
   "source": [
    "from tracktable.render.render_trajectories import render_trajectories\n",
    "render_trajectories(trajs)"
   ]
  },
  {
   "cell_type": "code",
   "execution_count": null,
   "metadata": {},
   "outputs": [],
   "source": []
  }
 ],
 "metadata": {
  "interpreter": {
   "hash": "916dbcbb3f70747c44a77c7bcd40155683ae19c65e1c03b4aa3499c5328201f1"
  },
  "kernelspec": {
   "display_name": "Python 3.8.5 64-bit",
   "name": "python3"
  },
  "language_info": {
   "name": "python",
   "version": ""
  }
 },
 "nbformat": 4,
 "nbformat_minor": 2
}